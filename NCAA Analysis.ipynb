{
 "cells": [
  {
   "cell_type": "code",
   "execution_count": 54,
   "metadata": {},
   "outputs": [],
   "source": [
    "import pandas as pd\n",
    "import numpy as np\n",
    "import matplotlib.pyplot as plt\n",
    "import seaborn as sn\n",
    "from dateutil import parser"
   ]
  },
  {
   "cell_type": "markdown",
   "metadata": {},
   "source": [
    "The purpose of this exercise is to better understand the March Madness tournament, with the goal of helping us to make better\n",
    "decisions when filling out a tournament bracket and (hopefully!) helping us to win some of our co-workers money."
   ]
  },
  {
   "cell_type": "code",
   "execution_count": 55,
   "metadata": {},
   "outputs": [
    {
     "data": {
      "text/html": [
       "<div>\n",
       "<style scoped>\n",
       "    .dataframe tbody tr th:only-of-type {\n",
       "        vertical-align: middle;\n",
       "    }\n",
       "\n",
       "    .dataframe tbody tr th {\n",
       "        vertical-align: top;\n",
       "    }\n",
       "\n",
       "    .dataframe thead th {\n",
       "        text-align: right;\n",
       "    }\n",
       "</style>\n",
       "<table border=\"1\" class=\"dataframe\">\n",
       "  <thead>\n",
       "    <tr style=\"text-align: right;\">\n",
       "      <th></th>\n",
       "      <th>Year</th>\n",
       "      <th>Round</th>\n",
       "      <th>Region Number</th>\n",
       "      <th>Region Name</th>\n",
       "      <th>seed_1</th>\n",
       "      <th>score_1</th>\n",
       "      <th>team_1</th>\n",
       "      <th>team_2</th>\n",
       "      <th>score_2</th>\n",
       "      <th>seed_2</th>\n",
       "      <th>winning_seed</th>\n",
       "    </tr>\n",
       "  </thead>\n",
       "  <tbody>\n",
       "    <tr>\n",
       "      <th>0</th>\n",
       "      <td>1985</td>\n",
       "      <td>1</td>\n",
       "      <td>1</td>\n",
       "      <td>West</td>\n",
       "      <td>1</td>\n",
       "      <td>83</td>\n",
       "      <td>St Johns</td>\n",
       "      <td>Southern</td>\n",
       "      <td>59</td>\n",
       "      <td>16</td>\n",
       "      <td>NaN</td>\n",
       "    </tr>\n",
       "    <tr>\n",
       "      <th>1</th>\n",
       "      <td>1985</td>\n",
       "      <td>1</td>\n",
       "      <td>1</td>\n",
       "      <td>West</td>\n",
       "      <td>2</td>\n",
       "      <td>81</td>\n",
       "      <td>VCU</td>\n",
       "      <td>Marshall</td>\n",
       "      <td>65</td>\n",
       "      <td>15</td>\n",
       "      <td>NaN</td>\n",
       "    </tr>\n",
       "    <tr>\n",
       "      <th>2</th>\n",
       "      <td>1985</td>\n",
       "      <td>1</td>\n",
       "      <td>1</td>\n",
       "      <td>West</td>\n",
       "      <td>3</td>\n",
       "      <td>65</td>\n",
       "      <td>NC State</td>\n",
       "      <td>Nevada</td>\n",
       "      <td>56</td>\n",
       "      <td>14</td>\n",
       "      <td>NaN</td>\n",
       "    </tr>\n",
       "    <tr>\n",
       "      <th>3</th>\n",
       "      <td>1985</td>\n",
       "      <td>1</td>\n",
       "      <td>1</td>\n",
       "      <td>West</td>\n",
       "      <td>4</td>\n",
       "      <td>85</td>\n",
       "      <td>UNLV</td>\n",
       "      <td>San Diego St</td>\n",
       "      <td>80</td>\n",
       "      <td>13</td>\n",
       "      <td>NaN</td>\n",
       "    </tr>\n",
       "    <tr>\n",
       "      <th>4</th>\n",
       "      <td>1985</td>\n",
       "      <td>1</td>\n",
       "      <td>1</td>\n",
       "      <td>West</td>\n",
       "      <td>5</td>\n",
       "      <td>58</td>\n",
       "      <td>Washington</td>\n",
       "      <td>Kentucky</td>\n",
       "      <td>65</td>\n",
       "      <td>12</td>\n",
       "      <td>NaN</td>\n",
       "    </tr>\n",
       "  </tbody>\n",
       "</table>\n",
       "</div>"
      ],
      "text/plain": [
       "   Year  Round  Region Number Region Name  seed_1  score_1      team_1  \\\n",
       "0  1985      1              1        West       1       83    St Johns   \n",
       "1  1985      1              1        West       2       81         VCU   \n",
       "2  1985      1              1        West       3       65    NC State   \n",
       "3  1985      1              1        West       4       85        UNLV   \n",
       "4  1985      1              1        West       5       58  Washington   \n",
       "\n",
       "         team_2  score_2  seed_2  winning_seed  \n",
       "0      Southern       59      16           NaN  \n",
       "1      Marshall       65      15           NaN  \n",
       "2        Nevada       56      14           NaN  \n",
       "3  San Diego St       80      13           NaN  \n",
       "4      Kentucky       65      12           NaN  "
      ]
     },
     "execution_count": 55,
     "metadata": {},
     "output_type": "execute_result"
    }
   ],
   "source": [
    "# I always start by taking a quick look at the data set\n",
    "data = pd.read_csv('ncaa_data.csv')\n",
    "data.head()"
   ]
  },
  {
   "cell_type": "markdown",
   "metadata": {},
   "source": [
    "Let's create a column for \"winning seed\" so we can examine the distribution \n",
    "of winners per round"
   ]
  },
  {
   "cell_type": "code",
   "execution_count": 57,
   "metadata": {},
   "outputs": [
    {
     "data": {
      "text/html": [
       "<div>\n",
       "<style scoped>\n",
       "    .dataframe tbody tr th:only-of-type {\n",
       "        vertical-align: middle;\n",
       "    }\n",
       "\n",
       "    .dataframe tbody tr th {\n",
       "        vertical-align: top;\n",
       "    }\n",
       "\n",
       "    .dataframe thead th {\n",
       "        text-align: right;\n",
       "    }\n",
       "</style>\n",
       "<table border=\"1\" class=\"dataframe\">\n",
       "  <thead>\n",
       "    <tr style=\"text-align: right;\">\n",
       "      <th></th>\n",
       "      <th>Year</th>\n",
       "      <th>Round</th>\n",
       "      <th>Region Number</th>\n",
       "      <th>Region Name</th>\n",
       "      <th>seed_1</th>\n",
       "      <th>score_1</th>\n",
       "      <th>team_1</th>\n",
       "      <th>team_2</th>\n",
       "      <th>score_2</th>\n",
       "      <th>seed_2</th>\n",
       "      <th>winning_seed</th>\n",
       "    </tr>\n",
       "  </thead>\n",
       "  <tbody>\n",
       "    <tr>\n",
       "      <th>0</th>\n",
       "      <td>1985</td>\n",
       "      <td>1</td>\n",
       "      <td>1</td>\n",
       "      <td>West</td>\n",
       "      <td>1</td>\n",
       "      <td>83</td>\n",
       "      <td>St Johns</td>\n",
       "      <td>Southern</td>\n",
       "      <td>59</td>\n",
       "      <td>16</td>\n",
       "      <td>1</td>\n",
       "    </tr>\n",
       "    <tr>\n",
       "      <th>1</th>\n",
       "      <td>1985</td>\n",
       "      <td>1</td>\n",
       "      <td>1</td>\n",
       "      <td>West</td>\n",
       "      <td>2</td>\n",
       "      <td>81</td>\n",
       "      <td>VCU</td>\n",
       "      <td>Marshall</td>\n",
       "      <td>65</td>\n",
       "      <td>15</td>\n",
       "      <td>2</td>\n",
       "    </tr>\n",
       "    <tr>\n",
       "      <th>2</th>\n",
       "      <td>1985</td>\n",
       "      <td>1</td>\n",
       "      <td>1</td>\n",
       "      <td>West</td>\n",
       "      <td>3</td>\n",
       "      <td>65</td>\n",
       "      <td>NC State</td>\n",
       "      <td>Nevada</td>\n",
       "      <td>56</td>\n",
       "      <td>14</td>\n",
       "      <td>3</td>\n",
       "    </tr>\n",
       "    <tr>\n",
       "      <th>3</th>\n",
       "      <td>1985</td>\n",
       "      <td>1</td>\n",
       "      <td>1</td>\n",
       "      <td>West</td>\n",
       "      <td>4</td>\n",
       "      <td>85</td>\n",
       "      <td>UNLV</td>\n",
       "      <td>San Diego St</td>\n",
       "      <td>80</td>\n",
       "      <td>13</td>\n",
       "      <td>4</td>\n",
       "    </tr>\n",
       "    <tr>\n",
       "      <th>4</th>\n",
       "      <td>1985</td>\n",
       "      <td>1</td>\n",
       "      <td>1</td>\n",
       "      <td>West</td>\n",
       "      <td>5</td>\n",
       "      <td>58</td>\n",
       "      <td>Washington</td>\n",
       "      <td>Kentucky</td>\n",
       "      <td>65</td>\n",
       "      <td>12</td>\n",
       "      <td>12</td>\n",
       "    </tr>\n",
       "  </tbody>\n",
       "</table>\n",
       "</div>"
      ],
      "text/plain": [
       "   Year  Round  Region Number Region Name  seed_1  score_1      team_1  \\\n",
       "0  1985      1              1        West       1       83    St Johns   \n",
       "1  1985      1              1        West       2       81         VCU   \n",
       "2  1985      1              1        West       3       65    NC State   \n",
       "3  1985      1              1        West       4       85        UNLV   \n",
       "4  1985      1              1        West       5       58  Washington   \n",
       "\n",
       "         team_2  score_2  seed_2  winning_seed  \n",
       "0      Southern       59      16             1  \n",
       "1      Marshall       65      15             2  \n",
       "2        Nevada       56      14             3  \n",
       "3  San Diego St       80      13             4  \n",
       "4      Kentucky       65      12            12  "
      ]
     },
     "execution_count": 57,
     "metadata": {},
     "output_type": "execute_result"
    }
   ],
   "source": [
    "data['winning_seed'] = np.where(data['score_1']>=data['score_2'], data['seed_1'], data['seed_2'])\n",
    "data.head()"
   ]
  },
  {
   "cell_type": "markdown",
   "metadata": {},
   "source": [
    "Let's also create an 'upset' column to tell us whether or not a given game\n",
    "went \"as expected\""
   ]
  },
  {
   "cell_type": "code",
   "execution_count": 77,
   "metadata": {},
   "outputs": [
    {
     "data": {
      "text/html": [
       "<div>\n",
       "<style scoped>\n",
       "    .dataframe tbody tr th:only-of-type {\n",
       "        vertical-align: middle;\n",
       "    }\n",
       "\n",
       "    .dataframe tbody tr th {\n",
       "        vertical-align: top;\n",
       "    }\n",
       "\n",
       "    .dataframe thead th {\n",
       "        text-align: right;\n",
       "    }\n",
       "</style>\n",
       "<table border=\"1\" class=\"dataframe\">\n",
       "  <thead>\n",
       "    <tr style=\"text-align: right;\">\n",
       "      <th></th>\n",
       "      <th>Year</th>\n",
       "      <th>Round</th>\n",
       "      <th>Region Number</th>\n",
       "      <th>Region Name</th>\n",
       "      <th>seed_1</th>\n",
       "      <th>score_1</th>\n",
       "      <th>team_1</th>\n",
       "      <th>team_2</th>\n",
       "      <th>score_2</th>\n",
       "      <th>seed_2</th>\n",
       "      <th>winning_seed</th>\n",
       "      <th>favorite</th>\n",
       "      <th>upset</th>\n",
       "    </tr>\n",
       "  </thead>\n",
       "  <tbody>\n",
       "    <tr>\n",
       "      <th>0</th>\n",
       "      <td>1985</td>\n",
       "      <td>1</td>\n",
       "      <td>1</td>\n",
       "      <td>West</td>\n",
       "      <td>1</td>\n",
       "      <td>83</td>\n",
       "      <td>St Johns</td>\n",
       "      <td>Southern</td>\n",
       "      <td>59</td>\n",
       "      <td>16</td>\n",
       "      <td>1</td>\n",
       "      <td>1</td>\n",
       "      <td>0</td>\n",
       "    </tr>\n",
       "    <tr>\n",
       "      <th>1</th>\n",
       "      <td>1985</td>\n",
       "      <td>1</td>\n",
       "      <td>1</td>\n",
       "      <td>West</td>\n",
       "      <td>2</td>\n",
       "      <td>81</td>\n",
       "      <td>VCU</td>\n",
       "      <td>Marshall</td>\n",
       "      <td>65</td>\n",
       "      <td>15</td>\n",
       "      <td>2</td>\n",
       "      <td>2</td>\n",
       "      <td>0</td>\n",
       "    </tr>\n",
       "    <tr>\n",
       "      <th>2</th>\n",
       "      <td>1985</td>\n",
       "      <td>1</td>\n",
       "      <td>1</td>\n",
       "      <td>West</td>\n",
       "      <td>3</td>\n",
       "      <td>65</td>\n",
       "      <td>NC State</td>\n",
       "      <td>Nevada</td>\n",
       "      <td>56</td>\n",
       "      <td>14</td>\n",
       "      <td>3</td>\n",
       "      <td>3</td>\n",
       "      <td>0</td>\n",
       "    </tr>\n",
       "    <tr>\n",
       "      <th>3</th>\n",
       "      <td>1985</td>\n",
       "      <td>1</td>\n",
       "      <td>1</td>\n",
       "      <td>West</td>\n",
       "      <td>4</td>\n",
       "      <td>85</td>\n",
       "      <td>UNLV</td>\n",
       "      <td>San Diego St</td>\n",
       "      <td>80</td>\n",
       "      <td>13</td>\n",
       "      <td>4</td>\n",
       "      <td>4</td>\n",
       "      <td>0</td>\n",
       "    </tr>\n",
       "    <tr>\n",
       "      <th>4</th>\n",
       "      <td>1985</td>\n",
       "      <td>1</td>\n",
       "      <td>1</td>\n",
       "      <td>West</td>\n",
       "      <td>5</td>\n",
       "      <td>58</td>\n",
       "      <td>Washington</td>\n",
       "      <td>Kentucky</td>\n",
       "      <td>65</td>\n",
       "      <td>12</td>\n",
       "      <td>12</td>\n",
       "      <td>5</td>\n",
       "      <td>1</td>\n",
       "    </tr>\n",
       "  </tbody>\n",
       "</table>\n",
       "</div>"
      ],
      "text/plain": [
       "   Year  Round  Region Number Region Name  seed_1  score_1      team_1  \\\n",
       "0  1985      1              1        West       1       83    St Johns   \n",
       "1  1985      1              1        West       2       81         VCU   \n",
       "2  1985      1              1        West       3       65    NC State   \n",
       "3  1985      1              1        West       4       85        UNLV   \n",
       "4  1985      1              1        West       5       58  Washington   \n",
       "\n",
       "         team_2  score_2  seed_2  winning_seed  favorite  upset  \n",
       "0      Southern       59      16             1         1      0  \n",
       "1      Marshall       65      15             2         2      0  \n",
       "2        Nevada       56      14             3         3      0  \n",
       "3  San Diego St       80      13             4         4      0  \n",
       "4      Kentucky       65      12            12         5      1  "
      ]
     },
     "execution_count": 77,
     "metadata": {},
     "output_type": "execute_result"
    }
   ],
   "source": [
    "data['favorite'] = np.where(data['seed_1']<data['seed_2'], data['seed_1'], data['seed_2'])\n",
    "# account for cases where there is no favorite (ie identical seeds)\n",
    "data['favorite'] = np.where(data['seed_1'] == data['seed_2'], -1, data['favorite'])\n",
    "data['upset'] = np.where(data['winning_seed'] != data['favorite'], 1, 0)\n",
    "# force games showcasing tied seeds to be '0' in the 'upset' column\n",
    "data['upset'] = np.where(data['favorite'] == -1, 0, data['upset'])\n",
    "data.head()"
   ]
  },
  {
   "cell_type": "markdown",
   "metadata": {},
   "source": [
    "How common are upsets at different stages of the tournament?"
   ]
  },
  {
   "cell_type": "code",
   "execution_count": 87,
   "metadata": {},
   "outputs": [
    {
     "data": {
      "text/html": [
       "<div>\n",
       "<style scoped>\n",
       "    .dataframe tbody tr th:only-of-type {\n",
       "        vertical-align: middle;\n",
       "    }\n",
       "\n",
       "    .dataframe tbody tr th {\n",
       "        vertical-align: top;\n",
       "    }\n",
       "\n",
       "    .dataframe thead th {\n",
       "        text-align: right;\n",
       "    }\n",
       "</style>\n",
       "<table border=\"1\" class=\"dataframe\">\n",
       "  <thead>\n",
       "    <tr style=\"text-align: right;\">\n",
       "      <th></th>\n",
       "      <th>upset</th>\n",
       "    </tr>\n",
       "    <tr>\n",
       "      <th>Round</th>\n",
       "      <th></th>\n",
       "    </tr>\n",
       "  </thead>\n",
       "  <tbody>\n",
       "    <tr>\n",
       "      <th>1</th>\n",
       "      <td>130</td>\n",
       "    </tr>\n",
       "    <tr>\n",
       "      <th>2</th>\n",
       "      <td>74</td>\n",
       "    </tr>\n",
       "    <tr>\n",
       "      <th>3</th>\n",
       "      <td>37</td>\n",
       "    </tr>\n",
       "    <tr>\n",
       "      <th>4</th>\n",
       "      <td>33</td>\n",
       "    </tr>\n",
       "    <tr>\n",
       "      <th>5</th>\n",
       "      <td>6</td>\n",
       "    </tr>\n",
       "    <tr>\n",
       "      <th>6</th>\n",
       "      <td>3</td>\n",
       "    </tr>\n",
       "  </tbody>\n",
       "</table>\n",
       "</div>"
      ],
      "text/plain": [
       "       upset\n",
       "Round       \n",
       "1        130\n",
       "2         74\n",
       "3         37\n",
       "4         33\n",
       "5          6\n",
       "6          3"
      ]
     },
     "execution_count": 87,
     "metadata": {},
     "output_type": "execute_result"
    }
   ],
   "source": [
    "data.query('Year >= 2003')[['upset', 'Round']].groupby(['Round']).agg('sum')"
   ]
  },
  {
   "cell_type": "markdown",
   "metadata": {},
   "source": [
    "It looks like there have been three finals upsets in the 16 year period since 2003. I'd be interested in looking at an upset \n",
    "percentage by dividing total upsets by _potential_ upsets in each round?"
   ]
  },
  {
   "cell_type": "code",
   "execution_count": 99,
   "metadata": {},
   "outputs": [
    {
     "data": {
      "text/html": [
       "<div>\n",
       "<style scoped>\n",
       "    .dataframe tbody tr th:only-of-type {\n",
       "        vertical-align: middle;\n",
       "    }\n",
       "\n",
       "    .dataframe tbody tr th {\n",
       "        vertical-align: top;\n",
       "    }\n",
       "\n",
       "    .dataframe thead th {\n",
       "        text-align: right;\n",
       "    }\n",
       "</style>\n",
       "<table border=\"1\" class=\"dataframe\">\n",
       "  <thead>\n",
       "    <tr style=\"text-align: right;\">\n",
       "      <th></th>\n",
       "      <th>upset</th>\n",
       "    </tr>\n",
       "    <tr>\n",
       "      <th>Round</th>\n",
       "      <th></th>\n",
       "    </tr>\n",
       "  </thead>\n",
       "  <tbody>\n",
       "    <tr>\n",
       "      <th>1</th>\n",
       "      <td>512</td>\n",
       "    </tr>\n",
       "    <tr>\n",
       "      <th>2</th>\n",
       "      <td>256</td>\n",
       "    </tr>\n",
       "    <tr>\n",
       "      <th>3</th>\n",
       "      <td>128</td>\n",
       "    </tr>\n",
       "    <tr>\n",
       "      <th>4</th>\n",
       "      <td>64</td>\n",
       "    </tr>\n",
       "    <tr>\n",
       "      <th>5</th>\n",
       "      <td>32</td>\n",
       "    </tr>\n",
       "    <tr>\n",
       "      <th>6</th>\n",
       "      <td>16</td>\n",
       "    </tr>\n",
       "  </tbody>\n",
       "</table>\n",
       "</div>"
      ],
      "text/plain": [
       "       upset\n",
       "Round       \n",
       "1        512\n",
       "2        256\n",
       "3        128\n",
       "4         64\n",
       "5         32\n",
       "6         16"
      ]
     },
     "execution_count": 99,
     "metadata": {},
     "output_type": "execute_result"
    }
   ],
   "source": [
    "data.query('Year >= 2003')[['upset', 'Round']].groupby(['Round']).agg('count')"
   ]
  },
  {
   "cell_type": "markdown",
   "metadata": {},
   "source": [
    "But wait! I just thought of something important. Remember, we only want to count games where an upset was _possible_. So we\n",
    "should really be excluding all rows where favorite = -1 (recall our definition of this earlier, it simply means the game \n",
    "showcased two teams of the same seed, so there was no possibility that an upset could even occur)."
   ]
  },
  {
   "cell_type": "markdown",
   "metadata": {},
   "source": [
    "It looks like there have been 5 finals since 2003 showcasing tied seeds, and 12 final fours showcasing tied seeds. This makes\n",
    "sense, given the structure of the tournament it would be impossible to have an upset in any of the first four rounds. We'll want\n",
    "to exclude these games from our 'upset percentage' analysis, since including them would conflate our results and make us think\n",
    "upsets were less likely than we should."
   ]
  },
  {
   "cell_type": "code",
   "execution_count": 90,
   "metadata": {},
   "outputs": [
    {
     "data": {
      "text/html": [
       "<div>\n",
       "<style scoped>\n",
       "    .dataframe tbody tr th:only-of-type {\n",
       "        vertical-align: middle;\n",
       "    }\n",
       "\n",
       "    .dataframe tbody tr th {\n",
       "        vertical-align: top;\n",
       "    }\n",
       "\n",
       "    .dataframe thead th {\n",
       "        text-align: right;\n",
       "    }\n",
       "</style>\n",
       "<table border=\"1\" class=\"dataframe\">\n",
       "  <thead>\n",
       "    <tr style=\"text-align: right;\">\n",
       "      <th></th>\n",
       "      <th>upset</th>\n",
       "    </tr>\n",
       "    <tr>\n",
       "      <th>Round</th>\n",
       "      <th></th>\n",
       "    </tr>\n",
       "  </thead>\n",
       "  <tbody>\n",
       "    <tr>\n",
       "      <th>1</th>\n",
       "      <td>512</td>\n",
       "    </tr>\n",
       "    <tr>\n",
       "      <th>2</th>\n",
       "      <td>256</td>\n",
       "    </tr>\n",
       "    <tr>\n",
       "      <th>3</th>\n",
       "      <td>128</td>\n",
       "    </tr>\n",
       "    <tr>\n",
       "      <th>4</th>\n",
       "      <td>64</td>\n",
       "    </tr>\n",
       "    <tr>\n",
       "      <th>5</th>\n",
       "      <td>24</td>\n",
       "    </tr>\n",
       "    <tr>\n",
       "      <th>6</th>\n",
       "      <td>11</td>\n",
       "    </tr>\n",
       "  </tbody>\n",
       "</table>\n",
       "</div>"
      ],
      "text/plain": [
       "       upset\n",
       "Round       \n",
       "1        512\n",
       "2        256\n",
       "3        128\n",
       "4         64\n",
       "5         24\n",
       "6         11"
      ]
     },
     "execution_count": 90,
     "metadata": {},
     "output_type": "execute_result"
    }
   ],
   "source": [
    "data.query('Year >= 2003 & favorite != -1')[['upset', 'Round']].groupby(['Round']).agg('count')"
   ]
  },
  {
   "cell_type": "markdown",
   "metadata": {},
   "source": [
    "Looking much better. Now there is probably a more pythonic way to do this, but I'm going to try to merge our actual upsets with\n",
    "our candidate upset matches next."
   ]
  },
  {
   "cell_type": "code",
   "execution_count": 100,
   "metadata": {},
   "outputs": [],
   "source": [
    "# Since 2003\n",
    "all_potentially_upset_games = data.query('Year >= 2003 & favorite != -1')[['upset', 'Round']].groupby(['Round']).agg('count')\n",
    "all_upsets = data.query('Year >= 2003')[['upset', 'Round']].groupby(['Round']).agg('sum')"
   ]
  },
  {
   "cell_type": "code",
   "execution_count": 101,
   "metadata": {},
   "outputs": [
    {
     "data": {
      "text/html": [
       "<div>\n",
       "<style scoped>\n",
       "    .dataframe tbody tr th:only-of-type {\n",
       "        vertical-align: middle;\n",
       "    }\n",
       "\n",
       "    .dataframe tbody tr th {\n",
       "        vertical-align: top;\n",
       "    }\n",
       "\n",
       "    .dataframe thead th {\n",
       "        text-align: right;\n",
       "    }\n",
       "</style>\n",
       "<table border=\"1\" class=\"dataframe\">\n",
       "  <thead>\n",
       "    <tr style=\"text-align: right;\">\n",
       "      <th></th>\n",
       "      <th>0</th>\n",
       "      <th>1</th>\n",
       "    </tr>\n",
       "    <tr>\n",
       "      <th>Round</th>\n",
       "      <th></th>\n",
       "      <th></th>\n",
       "    </tr>\n",
       "  </thead>\n",
       "  <tbody>\n",
       "    <tr>\n",
       "      <th>1</th>\n",
       "      <td>512</td>\n",
       "      <td>130</td>\n",
       "    </tr>\n",
       "    <tr>\n",
       "      <th>2</th>\n",
       "      <td>256</td>\n",
       "      <td>74</td>\n",
       "    </tr>\n",
       "    <tr>\n",
       "      <th>3</th>\n",
       "      <td>128</td>\n",
       "      <td>37</td>\n",
       "    </tr>\n",
       "    <tr>\n",
       "      <th>4</th>\n",
       "      <td>64</td>\n",
       "      <td>33</td>\n",
       "    </tr>\n",
       "    <tr>\n",
       "      <th>5</th>\n",
       "      <td>24</td>\n",
       "      <td>6</td>\n",
       "    </tr>\n",
       "    <tr>\n",
       "      <th>6</th>\n",
       "      <td>11</td>\n",
       "      <td>3</td>\n",
       "    </tr>\n",
       "  </tbody>\n",
       "</table>\n",
       "</div>"
      ],
      "text/plain": [
       "         0    1\n",
       "Round          \n",
       "1      512  130\n",
       "2      256   74\n",
       "3      128   37\n",
       "4       64   33\n",
       "5       24    6\n",
       "6       11    3"
      ]
     },
     "execution_count": 101,
     "metadata": {},
     "output_type": "execute_result"
    }
   ],
   "source": [
    "pd.concat([all_potentially_upset_games, all_upsets], axis=1, ignore_index=True)"
   ]
  },
  {
   "cell_type": "code",
   "execution_count": 114,
   "metadata": {},
   "outputs": [
    {
     "data": {
      "text/plain": [
       "Index(['Round', 0, 1], dtype='object')"
      ]
     },
     "execution_count": 114,
     "metadata": {},
     "output_type": "execute_result"
    }
   ],
   "source": [
    "upset_pct = pd.concat([all_potentially_upset_games, all_upsets], axis=1, ignore_index=True)\n",
    "upset_pct.reset_index().columns"
   ]
  },
  {
   "cell_type": "code",
   "execution_count": 122,
   "metadata": {},
   "outputs": [],
   "source": [
    "upset_pct = upset_pct.rename(columns = {0: \"upset_candidates\", \n",
    "                                  1:\"actual_upsets\" \n",
    "                                  }) "
   ]
  },
  {
   "cell_type": "code",
   "execution_count": 123,
   "metadata": {},
   "outputs": [],
   "source": [
    "upset_pct['upset_pct'] = upset_pct['actual_upsets']/upset_pct['upset_candidates']"
   ]
  },
  {
   "cell_type": "code",
   "execution_count": 124,
   "metadata": {},
   "outputs": [
    {
     "data": {
      "text/html": [
       "<div>\n",
       "<style scoped>\n",
       "    .dataframe tbody tr th:only-of-type {\n",
       "        vertical-align: middle;\n",
       "    }\n",
       "\n",
       "    .dataframe tbody tr th {\n",
       "        vertical-align: top;\n",
       "    }\n",
       "\n",
       "    .dataframe thead th {\n",
       "        text-align: right;\n",
       "    }\n",
       "</style>\n",
       "<table border=\"1\" class=\"dataframe\">\n",
       "  <thead>\n",
       "    <tr style=\"text-align: right;\">\n",
       "      <th></th>\n",
       "      <th>upset_candidates</th>\n",
       "      <th>actual_upsets</th>\n",
       "      <th>upset_pct</th>\n",
       "    </tr>\n",
       "    <tr>\n",
       "      <th>Round</th>\n",
       "      <th></th>\n",
       "      <th></th>\n",
       "      <th></th>\n",
       "    </tr>\n",
       "  </thead>\n",
       "  <tbody>\n",
       "    <tr>\n",
       "      <th>1</th>\n",
       "      <td>512</td>\n",
       "      <td>130</td>\n",
       "      <td>0.253906</td>\n",
       "    </tr>\n",
       "    <tr>\n",
       "      <th>2</th>\n",
       "      <td>256</td>\n",
       "      <td>74</td>\n",
       "      <td>0.289062</td>\n",
       "    </tr>\n",
       "    <tr>\n",
       "      <th>3</th>\n",
       "      <td>128</td>\n",
       "      <td>37</td>\n",
       "      <td>0.289062</td>\n",
       "    </tr>\n",
       "    <tr>\n",
       "      <th>4</th>\n",
       "      <td>64</td>\n",
       "      <td>33</td>\n",
       "      <td>0.515625</td>\n",
       "    </tr>\n",
       "    <tr>\n",
       "      <th>5</th>\n",
       "      <td>24</td>\n",
       "      <td>6</td>\n",
       "      <td>0.250000</td>\n",
       "    </tr>\n",
       "    <tr>\n",
       "      <th>6</th>\n",
       "      <td>11</td>\n",
       "      <td>3</td>\n",
       "      <td>0.272727</td>\n",
       "    </tr>\n",
       "  </tbody>\n",
       "</table>\n",
       "</div>"
      ],
      "text/plain": [
       "       upset_candidates  actual_upsets  upset_pct\n",
       "Round                                            \n",
       "1                   512            130   0.253906\n",
       "2                   256             74   0.289062\n",
       "3                   128             37   0.289062\n",
       "4                    64             33   0.515625\n",
       "5                    24              6   0.250000\n",
       "6                    11              3   0.272727"
      ]
     },
     "execution_count": 124,
     "metadata": {},
     "output_type": "execute_result"
    }
   ],
   "source": [
    "upset_pct"
   ]
  },
  {
   "cell_type": "markdown",
   "metadata": {},
   "source": [
    "Shockingly, upset rates are pretty constant throughout the tournament, hovering around the 25% mark. But in the elite eight\n",
    "(round 5) that stat essentially doubles to 50% ! This is an important observation for those of us working on filling out a \n",
    "bracket --it means that we may want to think about choosing a few extra upsets in the elite eight. I wonder what the seed \n",
    "distribution throughout the entire tournment looks like."
   ]
  },
  {
   "cell_type": "code",
   "execution_count": 125,
   "metadata": {},
   "outputs": [
    {
     "data": {
      "text/plain": [
       "(array([776., 249., 362., 147., 224.,  80., 169.,  68.,  57.,  10.]),\n",
       " array([ 1. ,  2.5,  4. ,  5.5,  7. ,  8.5, 10. , 11.5, 13. , 14.5, 16. ]),\n",
       " <a list of 10 Patch objects>)"
      ]
     },
     "execution_count": 125,
     "metadata": {},
     "output_type": "execute_result"
    },
    {
     "data": {
      "image/png": "[encoded data removed]",
      "text/plain": [
       "<Figure size 432x288 with 1 Axes>"
      ]
     },
     "metadata": {
      "needs_background": "light"
     },
     "output_type": "display_data"
    }
   ],
   "source": [
    "plt.hist(data['winning_seed'])"
   ]
  },
  {
   "cell_type": "markdown",
   "metadata": {},
   "source": [
    "Now this distribution is basically meaningless since it lumps together every round (oh hey there UMBC, I see you!)\n",
    "But hey, I was curious. Let's do a little bit better and break out the distribution by round."
   ]
  },
  {
   "cell_type": "code",
   "execution_count": 144,
   "metadata": {},
   "outputs": [
    {
     "data": {
      "image/png": "[encoded data removed]",
      "text/plain": [
       "<Figure size 432x288 with 1 Axes>"
      ]
     },
     "metadata": {
      "needs_background": "light"
     },
     "output_type": "display_data"
    }
   ],
   "source": [
    "x1 = data.loc[data.Round==1, 'winning_seed']\n",
    "x2 = data.loc[data.Round==2, 'winning_seed']\n",
    "x3 = data.loc[data.Round==3, 'winning_seed']\n",
    "x4 = data.loc[data.Round==4, 'winning_seed']\n",
    "x5 = data.loc[data.Round==5, 'winning_seed']\n",
    "x6 = data.loc[data.Round==6, 'winning_seed']\n",
    "\n",
    "#kwargs = dict(alpha=0.5, bins=100)\n",
    "\n",
    "plt.hist(x1, color='green', label='1')\n",
    "plt.hist(x2, color='blue', label='2')\n",
    "plt.hist(x3, color='red', label='3')\n",
    "plt.hist(x4, color='black', label='4')\n",
    "plt.hist(x5, color='purple', label='5')\n",
    "plt.hist(x6, color='yellow', label='6')\n",
    "plt.gca().set(title='Frequency Histogram of Winning Seed By Round', ylabel='Frequency')\n",
    "plt.xlim(1,16)\n",
    "plt.legend();"
   ]
  },
  {
   "cell_type": "code",
   "execution_count": null,
   "metadata": {},
   "outputs": [],
   "source": [
    "This plot is attacking my eyes with colors. The excuse I "
   ]
  },
  {
   "cell_type": "code",
   "execution_count": 150,
   "metadata": {},
   "outputs": [
    {
     "data": {
      "image/png": "[encoded data removed]",
      "text/plain": [
       "<Figure size 648x432 with 6 Axes>"
      ]
     },
     "metadata": {
      "needs_background": "light"
     },
     "output_type": "display_data"
    }
   ],
   "source": [
    "g = sn.FacetGrid(data, col=\"Round\", col_wrap = 3)\n",
    "g.map(sn.distplot, \"winning_seed\");"
   ]
  },
  {
   "cell_type": "code",
   "execution_count": null,
   "metadata": {},
   "outputs": [],
   "source": []
  }
 ],
 "metadata": {
  "kernelspec": {
   "display_name": "Python 3",
   "language": "python",
   "name": "python3"
  },
  "language_info": {
   "codemirror_mode": {
    "name": "ipython",
    "version": 3
   },
   "file_extension": ".py",
   "mimetype": "text/x-python",
   "name": "python",
   "nbconvert_exporter": "python",
   "pygments_lexer": "ipython3",
   "version": "3.6.8"
  }
 },
 "nbformat": 4,
 "nbformat_minor": 2
}
