{
 "cells": [
  {
   "cell_type": "code",
   "execution_count": 481,
   "metadata": {},
   "outputs": [],
   "source": [
    "import pandas as pd\n",
    "import numpy as np\n",
    "import matplotlib.pyplot as plt\n",
    "import seaborn as sn\n",
    "from dateutil import parser\n",
    "from itertools import repeat\n",
    "from collections import Counter, OrderedDict\n",
    "import random"
   ]
  },
  {
   "cell_type": "markdown",
   "metadata": {},
   "source": [
    "The purpose of this exercise is to better understand the March Madness tournament, with the goal of helping us to make better\n",
    "decisions when filling out a tournament bracket and (hopefully!) helping us to win some of our co-workers' money. This notebook\n",
    "is based _solely_ on seed matchup analysis. There is no modeling and minimal feature engineering involved. In another post\n",
    "I may go into detail exploring the characteristics of underdogs-that-win vs favorites-that-lose, but for now I want to \n",
    "document in never-before-seen-detail the kinds of things to look for in terms of seed analysis that the average basketball\n",
    "fan can use in upcoming tournaments. No understanding of machine learning necessary, and hopefully we can learn some cool\n",
    "insights. I used exactly this analysis when I was filling out my 2019 bracket, and with my findings I was able to call \n",
    "Auburn making the Final Four ([only 3.9% of brackets saw this coming by the way](https://watchstadium.com/news/auburn-texas-tech-purdue-among-best-2019-ncaa-tournament-bracket-picks-03-31-2019/))\n",
    "As we walk through this notebook I'll take you through my thought process as I was designing the bracket that won second place\n",
    "in a pool of 100+ contestants, and first place in a pool of 60+."
   ]
  },
  {
   "cell_type": "markdown",
   "metadata": {},
   "source": [
    "First things first, I pulled historical NCAA data conveniently hosted on kaggle's website (apparently march madness is a topic ripe\n",
    "with the attentions of fellow data scientists). I've popped the data file up on github so the avid readers can follow along if\n",
    "inspiration strikes."
   ]
  },
  {
   "cell_type": "code",
   "execution_count": 482,
   "metadata": {},
   "outputs": [
    {
     "data": {
      "text/html": [
       "<div>\n",
       "<style scoped>\n",
       "    .dataframe tbody tr th:only-of-type {\n",
       "        vertical-align: middle;\n",
       "    }\n",
       "\n",
       "    .dataframe tbody tr th {\n",
       "        vertical-align: top;\n",
       "    }\n",
       "\n",
       "    .dataframe thead th {\n",
       "        text-align: right;\n",
       "    }\n",
       "</style>\n",
       "<table border=\"1\" class=\"dataframe\">\n",
       "  <thead>\n",
       "    <tr style=\"text-align: right;\">\n",
       "      <th></th>\n",
       "      <th>Year</th>\n",
       "      <th>Round</th>\n",
       "      <th>Region Number</th>\n",
       "      <th>Region Name</th>\n",
       "      <th>seed_1</th>\n",
       "      <th>score_1</th>\n",
       "      <th>team_1</th>\n",
       "      <th>team_2</th>\n",
       "      <th>score_2</th>\n",
       "      <th>seed_2</th>\n",
       "      <th>winning_seed</th>\n",
       "    </tr>\n",
       "  </thead>\n",
       "  <tbody>\n",
       "    <tr>\n",
       "      <th>0</th>\n",
       "      <td>1985</td>\n",
       "      <td>1</td>\n",
       "      <td>1</td>\n",
       "      <td>West</td>\n",
       "      <td>1</td>\n",
       "      <td>83</td>\n",
       "      <td>St Johns</td>\n",
       "      <td>Southern</td>\n",
       "      <td>59</td>\n",
       "      <td>16</td>\n",
       "      <td>NaN</td>\n",
       "    </tr>\n",
       "    <tr>\n",
       "      <th>1</th>\n",
       "      <td>1985</td>\n",
       "      <td>1</td>\n",
       "      <td>1</td>\n",
       "      <td>West</td>\n",
       "      <td>2</td>\n",
       "      <td>81</td>\n",
       "      <td>VCU</td>\n",
       "      <td>Marshall</td>\n",
       "      <td>65</td>\n",
       "      <td>15</td>\n",
       "      <td>NaN</td>\n",
       "    </tr>\n",
       "    <tr>\n",
       "      <th>2</th>\n",
       "      <td>1985</td>\n",
       "      <td>1</td>\n",
       "      <td>1</td>\n",
       "      <td>West</td>\n",
       "      <td>3</td>\n",
       "      <td>65</td>\n",
       "      <td>NC State</td>\n",
       "      <td>Nevada</td>\n",
       "      <td>56</td>\n",
       "      <td>14</td>\n",
       "      <td>NaN</td>\n",
       "    </tr>\n",
       "    <tr>\n",
       "      <th>3</th>\n",
       "      <td>1985</td>\n",
       "      <td>1</td>\n",
       "      <td>1</td>\n",
       "      <td>West</td>\n",
       "      <td>4</td>\n",
       "      <td>85</td>\n",
       "      <td>UNLV</td>\n",
       "      <td>San Diego St</td>\n",
       "      <td>80</td>\n",
       "      <td>13</td>\n",
       "      <td>NaN</td>\n",
       "    </tr>\n",
       "    <tr>\n",
       "      <th>4</th>\n",
       "      <td>1985</td>\n",
       "      <td>1</td>\n",
       "      <td>1</td>\n",
       "      <td>West</td>\n",
       "      <td>5</td>\n",
       "      <td>58</td>\n",
       "      <td>Washington</td>\n",
       "      <td>Kentucky</td>\n",
       "      <td>65</td>\n",
       "      <td>12</td>\n",
       "      <td>NaN</td>\n",
       "    </tr>\n",
       "  </tbody>\n",
       "</table>\n",
       "</div>"
      ],
      "text/plain": [
       "   Year  Round  Region Number Region Name  seed_1  score_1      team_1  \\\n",
       "0  1985      1              1        West       1       83    St Johns   \n",
       "1  1985      1              1        West       2       81         VCU   \n",
       "2  1985      1              1        West       3       65    NC State   \n",
       "3  1985      1              1        West       4       85        UNLV   \n",
       "4  1985      1              1        West       5       58  Washington   \n",
       "\n",
       "         team_2  score_2  seed_2  winning_seed  \n",
       "0      Southern       59      16           NaN  \n",
       "1      Marshall       65      15           NaN  \n",
       "2        Nevada       56      14           NaN  \n",
       "3  San Diego St       80      13           NaN  \n",
       "4      Kentucky       65      12           NaN  "
      ]
     },
     "execution_count": 482,
     "metadata": {},
     "output_type": "execute_result"
    }
   ],
   "source": [
    "# I always start by taking a quick look at the data set\n",
    "data = pd.read_csv('ncaa_data.csv')\n",
    "data.head()"
   ]
  },
  {
   "cell_type": "markdown",
   "metadata": {},
   "source": [
    "I didn't get particularly fancy (and I would argue that you don't need to). I was able to get a high performing bracket\n",
    "with minimal feature engineering. To start, let's create a column for \"winning seed\" so we can examine the distribution \n",
    "of winners per round. I'm also throwing out the 'Region Number' and 'Region Name' columns as they won't be useful to us."
   ]
  },
  {
   "cell_type": "code",
   "execution_count": 397,
   "metadata": {},
   "outputs": [
    {
     "data": {
      "text/html": [
       "<div>\n",
       "<style scoped>\n",
       "    .dataframe tbody tr th:only-of-type {\n",
       "        vertical-align: middle;\n",
       "    }\n",
       "\n",
       "    .dataframe tbody tr th {\n",
       "        vertical-align: top;\n",
       "    }\n",
       "\n",
       "    .dataframe thead th {\n",
       "        text-align: right;\n",
       "    }\n",
       "</style>\n",
       "<table border=\"1\" class=\"dataframe\">\n",
       "  <thead>\n",
       "    <tr style=\"text-align: right;\">\n",
       "      <th></th>\n",
       "      <th>Year</th>\n",
       "      <th>Round</th>\n",
       "      <th>seed_1</th>\n",
       "      <th>score_1</th>\n",
       "      <th>team_1</th>\n",
       "      <th>team_2</th>\n",
       "      <th>score_2</th>\n",
       "      <th>seed_2</th>\n",
       "      <th>winning_seed</th>\n",
       "    </tr>\n",
       "  </thead>\n",
       "  <tbody>\n",
       "    <tr>\n",
       "      <th>0</th>\n",
       "      <td>1985</td>\n",
       "      <td>1</td>\n",
       "      <td>1</td>\n",
       "      <td>83</td>\n",
       "      <td>St Johns</td>\n",
       "      <td>Southern</td>\n",
       "      <td>59</td>\n",
       "      <td>16</td>\n",
       "      <td>1</td>\n",
       "    </tr>\n",
       "    <tr>\n",
       "      <th>1</th>\n",
       "      <td>1985</td>\n",
       "      <td>1</td>\n",
       "      <td>2</td>\n",
       "      <td>81</td>\n",
       "      <td>VCU</td>\n",
       "      <td>Marshall</td>\n",
       "      <td>65</td>\n",
       "      <td>15</td>\n",
       "      <td>2</td>\n",
       "    </tr>\n",
       "    <tr>\n",
       "      <th>2</th>\n",
       "      <td>1985</td>\n",
       "      <td>1</td>\n",
       "      <td>3</td>\n",
       "      <td>65</td>\n",
       "      <td>NC State</td>\n",
       "      <td>Nevada</td>\n",
       "      <td>56</td>\n",
       "      <td>14</td>\n",
       "      <td>3</td>\n",
       "    </tr>\n",
       "    <tr>\n",
       "      <th>3</th>\n",
       "      <td>1985</td>\n",
       "      <td>1</td>\n",
       "      <td>4</td>\n",
       "      <td>85</td>\n",
       "      <td>UNLV</td>\n",
       "      <td>San Diego St</td>\n",
       "      <td>80</td>\n",
       "      <td>13</td>\n",
       "      <td>4</td>\n",
       "    </tr>\n",
       "    <tr>\n",
       "      <th>4</th>\n",
       "      <td>1985</td>\n",
       "      <td>1</td>\n",
       "      <td>5</td>\n",
       "      <td>58</td>\n",
       "      <td>Washington</td>\n",
       "      <td>Kentucky</td>\n",
       "      <td>65</td>\n",
       "      <td>12</td>\n",
       "      <td>12</td>\n",
       "    </tr>\n",
       "  </tbody>\n",
       "</table>\n",
       "</div>"
      ],
      "text/plain": [
       "   Year  Round  seed_1  score_1      team_1        team_2  score_2  seed_2  \\\n",
       "0  1985      1       1       83    St Johns      Southern       59      16   \n",
       "1  1985      1       2       81         VCU      Marshall       65      15   \n",
       "2  1985      1       3       65    NC State        Nevada       56      14   \n",
       "3  1985      1       4       85        UNLV  San Diego St       80      13   \n",
       "4  1985      1       5       58  Washington      Kentucky       65      12   \n",
       "\n",
       "   winning_seed  \n",
       "0             1  \n",
       "1             2  \n",
       "2             3  \n",
       "3             4  \n",
       "4            12  "
      ]
     },
     "execution_count": 397,
     "metadata": {},
     "output_type": "execute_result"
    }
   ],
   "source": [
    "data['winning_seed'] = np.where(data['score_1']>=data['score_2'], data['seed_1'], data['seed_2'])\n",
    "data = data.drop(['Region Number', 'Region Name'], axis=1)\n",
    "data.head()"
   ]
  },
  {
   "cell_type": "markdown",
   "metadata": {},
   "source": [
    "Let's also create an 'upset' column to tell us whether or not a given game\n",
    "went \"as expected\""
   ]
  },
  {
   "cell_type": "code",
   "execution_count": 398,
   "metadata": {},
   "outputs": [
    {
     "data": {
      "text/html": [
       "<div>\n",
       "<style scoped>\n",
       "    .dataframe tbody tr th:only-of-type {\n",
       "        vertical-align: middle;\n",
       "    }\n",
       "\n",
       "    .dataframe tbody tr th {\n",
       "        vertical-align: top;\n",
       "    }\n",
       "\n",
       "    .dataframe thead th {\n",
       "        text-align: right;\n",
       "    }\n",
       "</style>\n",
       "<table border=\"1\" class=\"dataframe\">\n",
       "  <thead>\n",
       "    <tr style=\"text-align: right;\">\n",
       "      <th></th>\n",
       "      <th>Year</th>\n",
       "      <th>Round</th>\n",
       "      <th>seed_1</th>\n",
       "      <th>score_1</th>\n",
       "      <th>team_1</th>\n",
       "      <th>team_2</th>\n",
       "      <th>score_2</th>\n",
       "      <th>seed_2</th>\n",
       "      <th>winning_seed</th>\n",
       "      <th>favorite</th>\n",
       "      <th>underdog</th>\n",
       "      <th>upset</th>\n",
       "    </tr>\n",
       "  </thead>\n",
       "  <tbody>\n",
       "    <tr>\n",
       "      <th>0</th>\n",
       "      <td>1985</td>\n",
       "      <td>1</td>\n",
       "      <td>1</td>\n",
       "      <td>83</td>\n",
       "      <td>St Johns</td>\n",
       "      <td>Southern</td>\n",
       "      <td>59</td>\n",
       "      <td>16</td>\n",
       "      <td>1</td>\n",
       "      <td>1</td>\n",
       "      <td>16</td>\n",
       "      <td>0</td>\n",
       "    </tr>\n",
       "    <tr>\n",
       "      <th>1</th>\n",
       "      <td>1985</td>\n",
       "      <td>1</td>\n",
       "      <td>2</td>\n",
       "      <td>81</td>\n",
       "      <td>VCU</td>\n",
       "      <td>Marshall</td>\n",
       "      <td>65</td>\n",
       "      <td>15</td>\n",
       "      <td>2</td>\n",
       "      <td>2</td>\n",
       "      <td>15</td>\n",
       "      <td>0</td>\n",
       "    </tr>\n",
       "    <tr>\n",
       "      <th>2</th>\n",
       "      <td>1985</td>\n",
       "      <td>1</td>\n",
       "      <td>3</td>\n",
       "      <td>65</td>\n",
       "      <td>NC State</td>\n",
       "      <td>Nevada</td>\n",
       "      <td>56</td>\n",
       "      <td>14</td>\n",
       "      <td>3</td>\n",
       "      <td>3</td>\n",
       "      <td>14</td>\n",
       "      <td>0</td>\n",
       "    </tr>\n",
       "    <tr>\n",
       "      <th>3</th>\n",
       "      <td>1985</td>\n",
       "      <td>1</td>\n",
       "      <td>4</td>\n",
       "      <td>85</td>\n",
       "      <td>UNLV</td>\n",
       "      <td>San Diego St</td>\n",
       "      <td>80</td>\n",
       "      <td>13</td>\n",
       "      <td>4</td>\n",
       "      <td>4</td>\n",
       "      <td>13</td>\n",
       "      <td>0</td>\n",
       "    </tr>\n",
       "    <tr>\n",
       "      <th>4</th>\n",
       "      <td>1985</td>\n",
       "      <td>1</td>\n",
       "      <td>5</td>\n",
       "      <td>58</td>\n",
       "      <td>Washington</td>\n",
       "      <td>Kentucky</td>\n",
       "      <td>65</td>\n",
       "      <td>12</td>\n",
       "      <td>12</td>\n",
       "      <td>5</td>\n",
       "      <td>12</td>\n",
       "      <td>1</td>\n",
       "    </tr>\n",
       "  </tbody>\n",
       "</table>\n",
       "</div>"
      ],
      "text/plain": [
       "   Year  Round  seed_1  score_1      team_1        team_2  score_2  seed_2  \\\n",
       "0  1985      1       1       83    St Johns      Southern       59      16   \n",
       "1  1985      1       2       81         VCU      Marshall       65      15   \n",
       "2  1985      1       3       65    NC State        Nevada       56      14   \n",
       "3  1985      1       4       85        UNLV  San Diego St       80      13   \n",
       "4  1985      1       5       58  Washington      Kentucky       65      12   \n",
       "\n",
       "   winning_seed  favorite  underdog  upset  \n",
       "0             1         1        16      0  \n",
       "1             2         2        15      0  \n",
       "2             3         3        14      0  \n",
       "3             4         4        13      0  \n",
       "4            12         5        12      1  "
      ]
     },
     "execution_count": 398,
     "metadata": {},
     "output_type": "execute_result"
    }
   ],
   "source": [
    "data['favorite'] = np.where(data['seed_1']<data['seed_2'], data['seed_1'], data['seed_2'])\n",
    "data['underdog'] = np.where(data['seed_1']<data['seed_2'], data['seed_2'], data['seed_1'])\n",
    "# account for cases where there is no favorite (ie identical seeds)\n",
    "data['favorite'] = np.where(data['seed_1'] == data['seed_2'], -1, data['favorite'])\n",
    "data['underdog'] = np.where(data['seed_1'] == data['seed_2'], -1, data['underdog'])\n",
    "data['upset'] = np.where(data['winning_seed'] != data['favorite'], 1, 0)\n",
    "# force games showcasing tied seeds to be '0' in the 'upset' column\n",
    "data['upset'] = np.where(data['favorite'] == -1, 0, data['upset'])\n",
    "data.head()"
   ]
  },
  {
   "cell_type": "markdown",
   "metadata": {},
   "source": [
    "The million dollar question when filling out a bracket is, _\"to upset, or not to upset?\"_ The naive bracket would simply select\n",
    "higher seeds to defeat lower seeds and result in the number 1 overall seed clinching the title. We can do better. To \n",
    "start, the first question I asked is, how common are upsets at different stages of the tournament? Also worth noting is that \n",
    "this is a  comprehensive data set spanning back to the beginning of this age old tradition, [1985](https://genius.com/Bowling-for-soup-1985-lyrics)\n",
    "I assumed that modern day hoops are a different beast from the game during the time of the 45 second [shot clock](https://www.vuhoops.com/2010/07/27/cats-owls-and-the-story-of-the-shot-clock),\n",
    "so I chose to consider the 16 most recent tournaments from 2003 onward.\n"
   ]
  },
  {
   "cell_type": "code",
   "execution_count": 399,
   "metadata": {},
   "outputs": [
    {
     "data": {
      "text/html": [
       "<div>\n",
       "<style scoped>\n",
       "    .dataframe tbody tr th:only-of-type {\n",
       "        vertical-align: middle;\n",
       "    }\n",
       "\n",
       "    .dataframe tbody tr th {\n",
       "        vertical-align: top;\n",
       "    }\n",
       "\n",
       "    .dataframe thead th {\n",
       "        text-align: right;\n",
       "    }\n",
       "</style>\n",
       "<table border=\"1\" class=\"dataframe\">\n",
       "  <thead>\n",
       "    <tr style=\"text-align: right;\">\n",
       "      <th></th>\n",
       "      <th>upset</th>\n",
       "    </tr>\n",
       "    <tr>\n",
       "      <th>Round</th>\n",
       "      <th></th>\n",
       "    </tr>\n",
       "  </thead>\n",
       "  <tbody>\n",
       "    <tr>\n",
       "      <th>1</th>\n",
       "      <td>130</td>\n",
       "    </tr>\n",
       "    <tr>\n",
       "      <th>2</th>\n",
       "      <td>74</td>\n",
       "    </tr>\n",
       "    <tr>\n",
       "      <th>3</th>\n",
       "      <td>37</td>\n",
       "    </tr>\n",
       "    <tr>\n",
       "      <th>4</th>\n",
       "      <td>33</td>\n",
       "    </tr>\n",
       "    <tr>\n",
       "      <th>5</th>\n",
       "      <td>6</td>\n",
       "    </tr>\n",
       "    <tr>\n",
       "      <th>6</th>\n",
       "      <td>3</td>\n",
       "    </tr>\n",
       "  </tbody>\n",
       "</table>\n",
       "</div>"
      ],
      "text/plain": [
       "       upset\n",
       "Round       \n",
       "1        130\n",
       "2         74\n",
       "3         37\n",
       "4         33\n",
       "5          6\n",
       "6          3"
      ]
     },
     "execution_count": 399,
     "metadata": {},
     "output_type": "execute_result"
    }
   ],
   "source": [
    "data = data.query('Year >= 2003')\n",
    "data[['upset', 'Round']].groupby(['Round']).agg('sum')"
   ]
  },
  {
   "cell_type": "markdown",
   "metadata": {},
   "source": [
    "It looks like there have been three finals upsets in the 16 year period since 2003. How many games had _upset potential_ during this period?"
   ]
  },
  {
   "cell_type": "markdown",
   "metadata": {},
   "source": [
    "To answer this, we can't just simply count games by round. Remember, we only want to count games where an upset was _possible_. So we\n",
    "should really be excluding all rows where favorite = -1 (recall our definition of this earlier, it simply means the game \n",
    "showcased two teams of the same seed, so there was no possibility that an upset could even occur)."
   ]
  },
  {
   "cell_type": "code",
   "execution_count": 400,
   "metadata": {},
   "outputs": [
    {
     "data": {
      "text/html": [
       "<div>\n",
       "<style scoped>\n",
       "    .dataframe tbody tr th:only-of-type {\n",
       "        vertical-align: middle;\n",
       "    }\n",
       "\n",
       "    .dataframe tbody tr th {\n",
       "        vertical-align: top;\n",
       "    }\n",
       "\n",
       "    .dataframe thead th {\n",
       "        text-align: right;\n",
       "    }\n",
       "</style>\n",
       "<table border=\"1\" class=\"dataframe\">\n",
       "  <thead>\n",
       "    <tr style=\"text-align: right;\">\n",
       "      <th></th>\n",
       "      <th>upset</th>\n",
       "    </tr>\n",
       "    <tr>\n",
       "      <th>Round</th>\n",
       "      <th></th>\n",
       "    </tr>\n",
       "  </thead>\n",
       "  <tbody>\n",
       "    <tr>\n",
       "      <th>1</th>\n",
       "      <td>512</td>\n",
       "    </tr>\n",
       "    <tr>\n",
       "      <th>2</th>\n",
       "      <td>256</td>\n",
       "    </tr>\n",
       "    <tr>\n",
       "      <th>3</th>\n",
       "      <td>128</td>\n",
       "    </tr>\n",
       "    <tr>\n",
       "      <th>4</th>\n",
       "      <td>64</td>\n",
       "    </tr>\n",
       "    <tr>\n",
       "      <th>5</th>\n",
       "      <td>24</td>\n",
       "    </tr>\n",
       "    <tr>\n",
       "      <th>6</th>\n",
       "      <td>11</td>\n",
       "    </tr>\n",
       "  </tbody>\n",
       "</table>\n",
       "</div>"
      ],
      "text/plain": [
       "       upset\n",
       "Round       \n",
       "1        512\n",
       "2        256\n",
       "3        128\n",
       "4         64\n",
       "5         24\n",
       "6         11"
      ]
     },
     "execution_count": 400,
     "metadata": {},
     "output_type": "execute_result"
    }
   ],
   "source": [
    "data.query('favorite != -1')[['upset', 'Round']].groupby(['Round']).agg('count')"
   ]
  },
  {
   "cell_type": "code",
   "execution_count": 401,
   "metadata": {},
   "outputs": [
    {
     "data": {
      "text/html": [
       "<div>\n",
       "<style scoped>\n",
       "    .dataframe tbody tr th:only-of-type {\n",
       "        vertical-align: middle;\n",
       "    }\n",
       "\n",
       "    .dataframe tbody tr th {\n",
       "        vertical-align: top;\n",
       "    }\n",
       "\n",
       "    .dataframe thead th {\n",
       "        text-align: right;\n",
       "    }\n",
       "</style>\n",
       "<table border=\"1\" class=\"dataframe\">\n",
       "  <thead>\n",
       "    <tr style=\"text-align: right;\">\n",
       "      <th></th>\n",
       "      <th>upset</th>\n",
       "    </tr>\n",
       "    <tr>\n",
       "      <th>Round</th>\n",
       "      <th></th>\n",
       "    </tr>\n",
       "  </thead>\n",
       "  <tbody>\n",
       "    <tr>\n",
       "      <th>1</th>\n",
       "      <td>512</td>\n",
       "    </tr>\n",
       "    <tr>\n",
       "      <th>2</th>\n",
       "      <td>256</td>\n",
       "    </tr>\n",
       "    <tr>\n",
       "      <th>3</th>\n",
       "      <td>128</td>\n",
       "    </tr>\n",
       "    <tr>\n",
       "      <th>4</th>\n",
       "      <td>64</td>\n",
       "    </tr>\n",
       "    <tr>\n",
       "      <th>5</th>\n",
       "      <td>32</td>\n",
       "    </tr>\n",
       "    <tr>\n",
       "      <th>6</th>\n",
       "      <td>16</td>\n",
       "    </tr>\n",
       "  </tbody>\n",
       "</table>\n",
       "</div>"
      ],
      "text/plain": [
       "       upset\n",
       "Round       \n",
       "1        512\n",
       "2        256\n",
       "3        128\n",
       "4         64\n",
       "5         32\n",
       "6         16"
      ]
     },
     "execution_count": 401,
     "metadata": {},
     "output_type": "execute_result"
    }
   ],
   "source": [
    "# includes games without upset potential\n",
    "data[['upset', 'Round']].groupby(['Round']).agg('count')"
   ]
  },
  {
   "cell_type": "markdown",
   "metadata": {},
   "source": [
    "It looks like there have been 5 finals since 2003 showcasing tied seeds, and 12 final fours showcasing tied seeds. This makes\n",
    "sense! Given the structure of the tournament it would be impossible for a game to feature tied seeds in any of the first four rounds. We'll want\n",
    "to exclude these \"tied seed\" games from our 'upset percentage' analysis, since we want to pose the question, \"Given that an upset _is possible_, how likely is it to occur\", and not \"how likely is an upset to occur?\" It's a subtle difference, but the\n",
    "distinction could mean the difference between glorious victory and office shame.  "
   ]
  },
  {
   "cell_type": "markdown",
   "metadata": {},
   "source": [
    "Now that we've excluded games featuring tied seeds, we can merge _actual upsets_ with candidate upset\n",
    "matches. There is probably a more pythonic way to do this, I am currently accepting pull requests :)"
   ]
  },
  {
   "cell_type": "code",
   "execution_count": 402,
   "metadata": {},
   "outputs": [
    {
     "data": {
      "text/html": [
       "<div>\n",
       "<style scoped>\n",
       "    .dataframe tbody tr th:only-of-type {\n",
       "        vertical-align: middle;\n",
       "    }\n",
       "\n",
       "    .dataframe tbody tr th {\n",
       "        vertical-align: top;\n",
       "    }\n",
       "\n",
       "    .dataframe thead th {\n",
       "        text-align: right;\n",
       "    }\n",
       "</style>\n",
       "<table border=\"1\" class=\"dataframe\">\n",
       "  <thead>\n",
       "    <tr style=\"text-align: right;\">\n",
       "      <th></th>\n",
       "      <th>upset_candidates</th>\n",
       "      <th>actual_upsets</th>\n",
       "      <th>upset_pct</th>\n",
       "    </tr>\n",
       "    <tr>\n",
       "      <th>Round</th>\n",
       "      <th></th>\n",
       "      <th></th>\n",
       "      <th></th>\n",
       "    </tr>\n",
       "  </thead>\n",
       "  <tbody>\n",
       "    <tr>\n",
       "      <th>1</th>\n",
       "      <td>512</td>\n",
       "      <td>130</td>\n",
       "      <td>0.253906</td>\n",
       "    </tr>\n",
       "    <tr>\n",
       "      <th>2</th>\n",
       "      <td>256</td>\n",
       "      <td>74</td>\n",
       "      <td>0.289062</td>\n",
       "    </tr>\n",
       "    <tr>\n",
       "      <th>3</th>\n",
       "      <td>128</td>\n",
       "      <td>37</td>\n",
       "      <td>0.289062</td>\n",
       "    </tr>\n",
       "    <tr>\n",
       "      <th>4</th>\n",
       "      <td>64</td>\n",
       "      <td>33</td>\n",
       "      <td>0.515625</td>\n",
       "    </tr>\n",
       "    <tr>\n",
       "      <th>5</th>\n",
       "      <td>24</td>\n",
       "      <td>6</td>\n",
       "      <td>0.250000</td>\n",
       "    </tr>\n",
       "    <tr>\n",
       "      <th>6</th>\n",
       "      <td>11</td>\n",
       "      <td>3</td>\n",
       "      <td>0.272727</td>\n",
       "    </tr>\n",
       "  </tbody>\n",
       "</table>\n",
       "</div>"
      ],
      "text/plain": [
       "       upset_candidates  actual_upsets  upset_pct\n",
       "Round                                            \n",
       "1                   512            130   0.253906\n",
       "2                   256             74   0.289062\n",
       "3                   128             37   0.289062\n",
       "4                    64             33   0.515625\n",
       "5                    24              6   0.250000\n",
       "6                    11              3   0.272727"
      ]
     },
     "execution_count": 402,
     "metadata": {},
     "output_type": "execute_result"
    }
   ],
   "source": [
    "# Since 2003\n",
    "all_potentially_upset_games = data.query('favorite != -1')[['upset', 'Round']].groupby(['Round']).agg('count')\n",
    "all_upsets = data[['upset', 'Round']].groupby(['Round']).agg('sum')\n",
    "upset_pct = pd.concat([all_potentially_upset_games, all_upsets], axis=1, ignore_index=True)\n",
    "upset_pct = upset_pct.rename(columns = {0: \"upset_candidates\", \n",
    "                                  1:\"actual_upsets\" \n",
    "                                  })\n",
    "upset_pct['upset_pct'] = upset_pct['actual_upsets']/upset_pct['upset_candidates']\n",
    "upset_pct"
   ]
  },
  {
   "cell_type": "markdown",
   "metadata": {},
   "source": [
    "Well what do we have here? Honestly, I would have expected to see more upsets early on and fewer upsets later on in the \n",
    "tournament. Shockingly though, historical upset rates are pretty constant, hovering around the 25% mark. But in the elite eight\n",
    "(round 5) that stat essentially doubles to 50% ! This is an important observation for those of us working on filling out a \n",
    "bracket --it means that we may want to think about choosing a few extra upsets in the elite eight. Side note, this year Duke, \n",
    "Gonzaga, and Kentucky all sufferred elite eight losses (75% of games resulted in upsets.) Seems like a pretty powerful insight \n",
    "to me!"
   ]
  },
  {
   "cell_type": "markdown",
   "metadata": {},
   "source": [
    "The next thing I want to look at is a distribution of winning seeds by round. It's all well and good to be looking at upset\n",
    "rates, but our task is to select _the right_ upsets. So we have to be smart about where we lay down our cards."
   ]
  },
  {
   "cell_type": "code",
   "execution_count": 403,
   "metadata": {},
   "outputs": [
    {
     "data": {
      "image/png": "[encoded data removed]",
      "text/plain": [
       "<Figure size 648x432 with 6 Axes>"
      ]
     },
     "metadata": {
      "needs_background": "light"
     },
     "output_type": "display_data"
    }
   ],
   "source": [
    "g = sn.FacetGrid(data, col=\"Round\", col_wrap = 3)\n",
    "g.map(plt.hist, \"winning_seed\");"
   ]
  },
  {
   "cell_type": "markdown",
   "metadata": {},
   "source": [
    "Let's take a second to understand what we're looking at here. We have a nice distribution broken out by round looking\n",
    "at winning seeds throughout the tournament. In the finals specifically, we can see that 3 seeds have bested a 2-seed twice,\n",
    "and a 2 seed overthrew a mighty 1-seed once in 2016. I'd like to see a heatmap informing _which_ upset matchups are the \n",
    "most common (how likely is a 13 seed to displace a 4 seed vs a 5 seed over a 4 seed for example?) Luckily seaborn has a \n",
    "nice heatmap functionality we can take advantage of in order to visualize this."
   ]
  },
  {
   "cell_type": "code",
   "execution_count": 405,
   "metadata": {},
   "outputs": [
    {
     "data": {
      "image/png": "[encoded data removed]",
      "text/plain": [
       "<Figure size 432x288 with 2 Axes>"
      ]
     },
     "metadata": {
      "needs_background": "light"
     },
     "output_type": "display_data"
    }
   ],
   "source": [
    "# Let's focus on Round 1\n",
    "favs = [1, 2, 3, 4, 5, 6, 7, 8]\n",
    "underdogs = [16, 15, 14, 13, 12, 11, 10, 9]\n",
    "upset_rate = []\n",
    "occurences = []\n",
    "round1 = data.query('Round == 1')\n",
    "for i in range(1,9):\n",
    "    matchups = round1[round1['favorite'] == i].shape[0]\n",
    "    upsets = round1[round1['favorite'] == i][['upset']].agg('sum')\n",
    "    upset_rate.append(float(upsets/matchups))\n",
    "    occurences.append(float(matchups))\n",
    "\n",
    "round1_upsets = pd.DataFrame(\n",
    "    {'favorite': favs,\n",
    "     'underdog': underdogs,\n",
    "     'upset_rate': upset_rate,\n",
    "     'occurences': occurences\n",
    "    })\n",
    "\n",
    "upsets = round1_upsets.pivot(\"favorite\", \"underdog\", \"upset_rate\")\n",
    "ax = sn.heatmap(upsets, annot=True,)"
   ]
  },
  {
   "cell_type": "code",
   "execution_count": 417,
   "metadata": {},
   "outputs": [
    {
     "data": {
      "image/png": "[encoded data removed]",
      "text/plain": [
       "<Figure size 432x288 with 2 Axes>"
      ]
     },
     "metadata": {
      "needs_background": "light"
     },
     "output_type": "display_data"
    }
   ],
   "source": [
    "# Plot of matchup frequency as a sanity check to verify that each of the 16 initial round matchups occur exactly 64 times\n",
    "# In our 16 year data set where each matchup occurs 4 times per year, we expect to see each 64 occurrences for each\n",
    "# I like to QA my analysis throughout the process to make sure I'm actually doing what I think I am \n",
    "freq = round1_upsets.pivot(\"favorite\", \"underdog\", \"occurences\")\n",
    "ax = sn.heatmap(freq, annot=True, cbar_kws={'label': 'Matchup Frequency'})"
   ]
  },
  {
   "cell_type": "markdown",
   "metadata": {},
   "source": [
    "In Round 1, it might not be a bad idea to pick your favorite 13 seed to displace a 4 seed (13s win 20% of the time.) \n",
    "I would advise just advancing all 1, 2, and 3 seeds through to the round of 32. Spend time choosing likely upsets in the\n",
    "8 v 9, 7 v 10, 6 v 11, and 5 v 12 realm. If this notebook is popular, I'll write something up about how to detect signals\n",
    "that would indicate whether a team has a good chance of upsetting an opponent. For this post, we're just looking at how\n",
    "_many_ of these upsets we want to forecast, and during which rounds and for which matchups we should forecast them. \n",
    "We'll talk about how to select from eligible upsets in another post, but the key takeaway from this data is that the best \n",
    "\"bang for your buck\" upset pick is 9 v 8, \n",
    "followed closely by 11 v 6."
   ]
  },
  {
   "cell_type": "code",
   "execution_count": 414,
   "metadata": {},
   "outputs": [
    {
     "data": {
      "image/png": "[encoded data removed]",
      "text/plain": [
       "<Figure size 432x288 with 2 Axes>"
      ]
     },
     "metadata": {
      "needs_background": "light"
     },
     "output_type": "display_data"
    }
   ],
   "source": [
    "# What about round 2?\n",
    "round2 = data.query('Round == 2')\n",
    "\n",
    "favorites = list(set(round2['favorite']))\n",
    "favs = []\n",
    "underdogs = []\n",
    "\n",
    "for fav in favorites:\n",
    "    dogs = list(set(round2[round2['favorite'] == fav]['underdog']))\n",
    "    favs.extend(repeat(fav, len(dogs)))\n",
    "    underdogs.extend(dogs)\n",
    "\n",
    "\n",
    "\n",
    "upset_rate = []\n",
    "occurences = []\n",
    "for i in range(0, len(favs)):\n",
    "    \n",
    "    matchups = round2[(round2.favorite == favs[i]) & (round2.underdog == underdogs[i])].shape[0]\n",
    "    upsets = round2[(round2.favorite == favs[i]) & (round2.underdog == underdogs[i])][['upset']].agg('sum')\n",
    "    upset_rate.append(float(upsets/matchups))\n",
    "    occurences.append(float(matchups))\n",
    "\n",
    "\n",
    "    \n",
    "round2_upsets = pd.DataFrame(\n",
    "    {'favorite': favs,\n",
    "     'underdog': underdogs,\n",
    "     'upset_rate': upset_rate,\n",
    "     'occurences': occurences\n",
    "    })\n",
    "\n",
    "heat = round2_upsets.pivot(\"favorite\", \"underdog\", \"upset_rate\")\n",
    "ax = sn.heatmap(heat, annot=True, cbar_kws={'label': 'Upset Rate'})"
   ]
  },
  {
   "cell_type": "code",
   "execution_count": 415,
   "metadata": {},
   "outputs": [
    {
     "data": {
      "image/png": "[encoded data removed]",
      "text/plain": [
       "<Figure size 432x288 with 2 Axes>"
      ]
     },
     "metadata": {
      "needs_background": "light"
     },
     "output_type": "display_data"
    }
   ],
   "source": [
    "heat = round2_upsets.pivot(\"favorite\", \"underdog\", \"occurences\")\n",
    "ax = sn.heatmap(heat, annot=True, cbar_kws={'label': 'Matchup Frequency'})"
   ]
  },
  {
   "cell_type": "markdown",
   "metadata": {},
   "source": [
    "Often when I'm filling out a bracket I get overwhelmed by the amount of reserach I'd need to do to call each game sensically.\n",
    "Usually I start out with lots of enthusiasm, quickly get overwhelmed, and then somewhat carelessly fill it out for completion\n",
    "rather than accuracy. This system offers a unique perspective on where to spend your resources. Not only can we visualize\n",
    "upset rates for each potential combination of seeds, we can also visualize the _frequency_ that each combination occurs.\n",
    "For example, if we were just looking at upset_rate, we would see that 15 seeds beat 7 seeds 50% of the time. But our\n",
    "frequency map tells us that this combination has only occurred twice in 16 years. This means that we can't be too confident\n",
    "in our 50% estimate of the upset rate since our sample size is quite small."
   ]
  },
  {
   "cell_type": "markdown",
   "metadata": {},
   "source": [
    "Notice that in Round 2 a favorite can face underdogs of various seeds. That is, if we consider 4 seeds for a moment we can see\n",
    "that they lose to 5 seeds 52% of the time, but only lose to 12 seeds 22% of the time. I chose to break out the different\n",
    "ways a favorite could be matched up against an underdog to extract exactly this distinction. If I had simply calculated\n",
    "a 4 seed's upset rate as the count of all the times they had been upset divided by the count of all the times they had made\n",
    "the second round, I would lose information about how their likelihood of being upset changes depending on the seed they face."
   ]
  },
  {
   "cell_type": "markdown",
   "metadata": {},
   "source": [
    "Before moving on to the sweet sixteen there are a few interesting observations I'd like to point out. First, a 1 v 9 upset is equally as\n",
    "likely as a 1 v 8 upset (14%). Not altogether surprising, but interesting to see identical upset rates given that both matchups\n",
    "have occurred relatively frequently over the past 16 years. Also interesting to note that 3 seeds are more likely to be \n",
    "upset by 11 seeds than 6 seeds!  (38% vs 27%)! Lastly, in the 33 occurences\n",
    "where a 4 seed has played a 5 seed, 5 seeds actually win slightly more often (52%). The most commonly occuring matchup in \n",
    "Round 2 is a 2 v 7 showdown, and 7's take the cake 38% of the time. These are some interesting insights! Let's see what \n",
    "we can learn from the sweet sixteen."
   ]
  },
  {
   "cell_type": "code",
   "execution_count": 311,
   "metadata": {},
   "outputs": [
    {
     "data": {
      "image/png": "[encoded data removed]",
      "text/plain": [
       "<Figure size 432x288 with 2 Axes>"
      ]
     },
     "metadata": {
      "needs_background": "light"
     },
     "output_type": "display_data"
    }
   ],
   "source": [
    "# What about round 3?\n",
    "round3 = data.query('Round == 3')\n",
    "\n",
    "favorites = list(set(round3['favorite']))\n",
    "favs = []\n",
    "underdogs = []\n",
    "\n",
    "for fav in favorites:\n",
    "    dogs = list(set(round3[round3['favorite'] == fav]['underdog']))\n",
    "    favs.extend(repeat(fav, len(dogs)))\n",
    "    underdogs.extend(dogs)\n",
    "\n",
    "\n",
    "\n",
    "upset_rate = []\n",
    "occurences = []\n",
    "for i in range(0, len(favs)):\n",
    "    \n",
    "    matchups = round3[(round3.favorite == favs[i]) & (round3.underdog == underdogs[i])].shape[0]\n",
    "    upsets = round3[(round3.favorite == favs[i]) & (round3.underdog == underdogs[i])][['upset']].agg('sum')\n",
    "    upset_rate.append(float(upsets/matchups))\n",
    "    occurences.append(float(matchups))\n",
    "\n",
    "\n",
    "    \n",
    "round3_upsets = pd.DataFrame(\n",
    "    {'favorite': favs,\n",
    "     'underdog': underdogs,\n",
    "     'upset_rate': upset_rate,\n",
    "     'occurences': occurences\n",
    "    })\n",
    "\n",
    "heat = round3_upsets.pivot(\"favorite\", \"underdog\", \"upset_rate\")\n",
    "ax = sn.heatmap(heat, annot=True,)"
   ]
  },
  {
   "cell_type": "code",
   "execution_count": 421,
   "metadata": {},
   "outputs": [
    {
     "data": {
      "image/png": "[encoded data removed]",
      "text/plain": [
       "<Figure size 432x288 with 2 Axes>"
      ]
     },
     "metadata": {
      "needs_background": "light"
     },
     "output_type": "display_data"
    }
   ],
   "source": [
    "heat = round3_upsets.pivot(\"favorite\", \"underdog\", \"occurences\")\n",
    "ax = sn.heatmap(heat, annot=True, cbar_kws={'label': 'Matchup Frequency'})"
   ]
  },
  {
   "cell_type": "markdown",
   "metadata": {},
   "source": [
    "We're starting to see some data paucity problems in this realm, as our sample size quickly pares down. So we need to be\n",
    "careful about the inferences we make, especially in cases where seed matchups have occurred only a handful of times in \n",
    "history. There are countless factors that can influence upset outcomes, so of course a strictly-seed-based analysis is\n",
    "a gross oversimplification of the problem. The goal here is just to extract all that we can out of the seed information\n",
    "at hand. One thing that jumps out at me here is the 3 v 7 matchup -- 7 seeds advance to the Elite Eight 45% of the time.\n",
    "And about 1 out of 4 times a 4 seed defeats a 1 seed. The coincidental symmetry there is pleasing, is it not? Let's get\n",
    "into the elite eight and see what we can find."
   ]
  },
  {
   "cell_type": "code",
   "execution_count": 346,
   "metadata": {},
   "outputs": [
    {
     "data": {
      "image/png": "[encoded data removed]",
      "text/plain": [
       "<Figure size 432x288 with 2 Axes>"
      ]
     },
     "metadata": {
      "needs_background": "light"
     },
     "output_type": "display_data"
    }
   ],
   "source": [
    "# What about round 4?\n",
    "round4 = data.query('Round == 4')\n",
    "\n",
    "favorites = list(set(round4['favorite']))\n",
    "favs = []\n",
    "underdogs = []\n",
    "\n",
    "for fav in favorites:\n",
    "    dogs = list(set(round4[round4['favorite'] == fav]['underdog']))\n",
    "    favs.extend(repeat(fav, len(dogs)))\n",
    "    underdogs.extend(dogs)\n",
    "\n",
    "\n",
    "\n",
    "upset_rate = []\n",
    "occurences = []\n",
    "for i in range(0, len(favs)):\n",
    "    \n",
    "    matchups = round4[(round4.favorite == favs[i]) & (round4.underdog == underdogs[i])].shape[0]\n",
    "    upsets = round4[(round4.favorite == favs[i]) & (round4.underdog == underdogs[i])][['upset']].agg('sum')\n",
    "    upset_rate.append(float(upsets/matchups))\n",
    "    occurences.append(float(matchups))\n",
    "\n",
    "\n",
    "    \n",
    "round4_upsets = pd.DataFrame(\n",
    "    {'favorite': favs,\n",
    "     'underdog': underdogs,\n",
    "     'upset_rate': upset_rate,\n",
    "     'occurences': occurences\n",
    "    })\n",
    "\n",
    "heat = round4_upsets.pivot(\"favorite\", \"underdog\", \"upset_rate\")\n",
    "ax = sn.heatmap(heat, annot=True,)"
   ]
  },
  {
   "cell_type": "code",
   "execution_count": 424,
   "metadata": {},
   "outputs": [
    {
     "data": {
      "image/png": "[encoded data removed]",
      "text/plain": [
       "<Figure size 432x288 with 2 Axes>"
      ]
     },
     "metadata": {
      "needs_background": "light"
     },
     "output_type": "display_data"
    }
   ],
   "source": [
    "heat = round4_upsets.pivot(\"favorite\", \"underdog\", \"occurences\")\n",
    "ax = sn.heatmap(heat, annot=True, cbar_kws={'label': 'Matchup Frequency'})"
   ]
  },
  {
   "cell_type": "code",
   "execution_count": null,
   "metadata": {},
   "outputs": [],
   "source": [
    "The first thing that jumped out at me here at the 1 seeds that lost to 11 and 10 seeds in the elite eight. That is crazy!\n",
    "Before I did anything else I had to see who played in those games."
   ]
  },
  {
   "cell_type": "code",
   "execution_count": 426,
   "metadata": {},
   "outputs": [
    {
     "data": {
      "text/html": [
       "<div>\n",
       "<style scoped>\n",
       "    .dataframe tbody tr th:only-of-type {\n",
       "        vertical-align: middle;\n",
       "    }\n",
       "\n",
       "    .dataframe tbody tr th {\n",
       "        vertical-align: top;\n",
       "    }\n",
       "\n",
       "    .dataframe thead th {\n",
       "        text-align: right;\n",
       "    }\n",
       "</style>\n",
       "<table border=\"1\" class=\"dataframe\">\n",
       "  <thead>\n",
       "    <tr style=\"text-align: right;\">\n",
       "      <th></th>\n",
       "      <th>Year</th>\n",
       "      <th>Round</th>\n",
       "      <th>Region Number</th>\n",
       "      <th>Region Name</th>\n",
       "      <th>seed_1</th>\n",
       "      <th>score_1</th>\n",
       "      <th>team_1</th>\n",
       "      <th>team_2</th>\n",
       "      <th>score_2</th>\n",
       "      <th>seed_2</th>\n",
       "      <th>winning_seed</th>\n",
       "      <th>favorite</th>\n",
       "      <th>underdog</th>\n",
       "      <th>upset</th>\n",
       "    </tr>\n",
       "  </thead>\n",
       "  <tbody>\n",
       "    <tr>\n",
       "      <th>1381</th>\n",
       "      <td>2006</td>\n",
       "      <td>4</td>\n",
       "      <td>3</td>\n",
       "      <td>East</td>\n",
       "      <td>1</td>\n",
       "      <td>84</td>\n",
       "      <td>Connecticut</td>\n",
       "      <td>George Mason</td>\n",
       "      <td>86</td>\n",
       "      <td>11</td>\n",
       "      <td>11</td>\n",
       "      <td>1</td>\n",
       "      <td>11</td>\n",
       "      <td>1</td>\n",
       "    </tr>\n",
       "    <tr>\n",
       "      <th>1506</th>\n",
       "      <td>2008</td>\n",
       "      <td>4</td>\n",
       "      <td>2</td>\n",
       "      <td>Midwest</td>\n",
       "      <td>1</td>\n",
       "      <td>59</td>\n",
       "      <td>Kansas</td>\n",
       "      <td>Davidson</td>\n",
       "      <td>57</td>\n",
       "      <td>10</td>\n",
       "      <td>1</td>\n",
       "      <td>1</td>\n",
       "      <td>10</td>\n",
       "      <td>0</td>\n",
       "    </tr>\n",
       "    <tr>\n",
       "      <th>1696</th>\n",
       "      <td>2011</td>\n",
       "      <td>4</td>\n",
       "      <td>3</td>\n",
       "      <td>Southwest</td>\n",
       "      <td>1</td>\n",
       "      <td>61</td>\n",
       "      <td>Kansas</td>\n",
       "      <td>VCU</td>\n",
       "      <td>71</td>\n",
       "      <td>11</td>\n",
       "      <td>11</td>\n",
       "      <td>1</td>\n",
       "      <td>11</td>\n",
       "      <td>1</td>\n",
       "    </tr>\n",
       "    <tr>\n",
       "      <th>1883</th>\n",
       "      <td>2014</td>\n",
       "      <td>4</td>\n",
       "      <td>1</td>\n",
       "      <td>South</td>\n",
       "      <td>1</td>\n",
       "      <td>62</td>\n",
       "      <td>Florida</td>\n",
       "      <td>Dayton</td>\n",
       "      <td>52</td>\n",
       "      <td>11</td>\n",
       "      <td>1</td>\n",
       "      <td>1</td>\n",
       "      <td>11</td>\n",
       "      <td>0</td>\n",
       "    </tr>\n",
       "    <tr>\n",
       "      <th>2012</th>\n",
       "      <td>2016</td>\n",
       "      <td>4</td>\n",
       "      <td>4</td>\n",
       "      <td>Midwest</td>\n",
       "      <td>1</td>\n",
       "      <td>62</td>\n",
       "      <td>Virginia</td>\n",
       "      <td>Syracuse</td>\n",
       "      <td>68</td>\n",
       "      <td>10</td>\n",
       "      <td>10</td>\n",
       "      <td>1</td>\n",
       "      <td>10</td>\n",
       "      <td>1</td>\n",
       "    </tr>\n",
       "    <tr>\n",
       "      <th>2073</th>\n",
       "      <td>2017</td>\n",
       "      <td>4</td>\n",
       "      <td>2</td>\n",
       "      <td>West</td>\n",
       "      <td>1</td>\n",
       "      <td>83</td>\n",
       "      <td>Gonzaga</td>\n",
       "      <td>Xavier</td>\n",
       "      <td>59</td>\n",
       "      <td>11</td>\n",
       "      <td>1</td>\n",
       "      <td>1</td>\n",
       "      <td>11</td>\n",
       "      <td>0</td>\n",
       "    </tr>\n",
       "  </tbody>\n",
       "</table>\n",
       "</div>"
      ],
      "text/plain": [
       "      Year  Round  Region Number Region Name  seed_1  score_1       team_1  \\\n",
       "1381  2006      4              3        East       1       84  Connecticut   \n",
       "1506  2008      4              2     Midwest       1       59       Kansas   \n",
       "1696  2011      4              3   Southwest       1       61       Kansas   \n",
       "1883  2014      4              1       South       1       62      Florida   \n",
       "2012  2016      4              4     Midwest       1       62     Virginia   \n",
       "2073  2017      4              2        West       1       83      Gonzaga   \n",
       "\n",
       "            team_2  score_2  seed_2  winning_seed  favorite  underdog  upset  \n",
       "1381  George Mason       86      11            11         1        11      1  \n",
       "1506      Davidson       57      10             1         1        10      0  \n",
       "1696           VCU       71      11            11         1        11      1  \n",
       "1883        Dayton       52      11             1         1        11      0  \n",
       "2012      Syracuse       68      10            10         1        10      1  \n",
       "2073        Xavier       59      11             1         1        11      0  "
      ]
     },
     "execution_count": 426,
     "metadata": {},
     "output_type": "execute_result"
    }
   ],
   "source": [
    "round4.query('seed_1 == 1 & (seed_2 == 11 | seed_2 == 10)')"
   ]
  },
  {
   "cell_type": "markdown",
   "metadata": {},
   "source": [
    "Looks like Syracurse toppled Virginia in 2016 (man the Cavaliers have had it [rough from lowly seeded teams](https://en.wikipedia.org/wiki/2018_UMBC_vs._Virginia_men%27s_basketball_game)),\n",
    "VCU toppled Kansas in 2011, and George Mason bested UCONN in 2006. Now you can impress your friends with all these forgotten\n",
    "NCAA facts. Ok on to more analysis."
   ]
  },
  {
   "cell_type": "markdown",
   "metadata": {},
   "source": [
    "The elite eight is the magic round with over 50% of upset candidates resulting in actual upsets. If you recall from our preliminary EDA,\n",
    "each round held roughly a 25% average upset rate _except for the elite eight_, which saw a wild jump to over 50% of games\n",
    "resulting in actual upsets. For good measure we can remind ourselves of this fact:"
   ]
  },
  {
   "cell_type": "code",
   "execution_count": 427,
   "metadata": {},
   "outputs": [
    {
     "data": {
      "text/html": [
       "<div>\n",
       "<style scoped>\n",
       "    .dataframe tbody tr th:only-of-type {\n",
       "        vertical-align: middle;\n",
       "    }\n",
       "\n",
       "    .dataframe tbody tr th {\n",
       "        vertical-align: top;\n",
       "    }\n",
       "\n",
       "    .dataframe thead th {\n",
       "        text-align: right;\n",
       "    }\n",
       "</style>\n",
       "<table border=\"1\" class=\"dataframe\">\n",
       "  <thead>\n",
       "    <tr style=\"text-align: right;\">\n",
       "      <th></th>\n",
       "      <th>upset_candidates</th>\n",
       "      <th>actual_upsets</th>\n",
       "      <th>upset_pct</th>\n",
       "    </tr>\n",
       "    <tr>\n",
       "      <th>Round</th>\n",
       "      <th></th>\n",
       "      <th></th>\n",
       "      <th></th>\n",
       "    </tr>\n",
       "  </thead>\n",
       "  <tbody>\n",
       "    <tr>\n",
       "      <th>1</th>\n",
       "      <td>512</td>\n",
       "      <td>130</td>\n",
       "      <td>0.253906</td>\n",
       "    </tr>\n",
       "    <tr>\n",
       "      <th>2</th>\n",
       "      <td>256</td>\n",
       "      <td>74</td>\n",
       "      <td>0.289062</td>\n",
       "    </tr>\n",
       "    <tr>\n",
       "      <th>3</th>\n",
       "      <td>128</td>\n",
       "      <td>37</td>\n",
       "      <td>0.289062</td>\n",
       "    </tr>\n",
       "    <tr>\n",
       "      <th>4</th>\n",
       "      <td>64</td>\n",
       "      <td>33</td>\n",
       "      <td>0.515625</td>\n",
       "    </tr>\n",
       "    <tr>\n",
       "      <th>5</th>\n",
       "      <td>24</td>\n",
       "      <td>6</td>\n",
       "      <td>0.250000</td>\n",
       "    </tr>\n",
       "    <tr>\n",
       "      <th>6</th>\n",
       "      <td>11</td>\n",
       "      <td>3</td>\n",
       "      <td>0.272727</td>\n",
       "    </tr>\n",
       "  </tbody>\n",
       "</table>\n",
       "</div>"
      ],
      "text/plain": [
       "       upset_candidates  actual_upsets  upset_pct\n",
       "Round                                            \n",
       "1                   512            130   0.253906\n",
       "2                   256             74   0.289062\n",
       "3                   128             37   0.289062\n",
       "4                    64             33   0.515625\n",
       "5                    24              6   0.250000\n",
       "6                    11              3   0.272727"
      ]
     },
     "execution_count": 427,
     "metadata": {},
     "output_type": "execute_result"
    }
   ],
   "source": [
    "upset_pct"
   ]
  },
  {
   "cell_type": "markdown",
   "metadata": {},
   "source": [
    "Let's pause for a moment and do a quick bit of QA to make sure this anaysis hasn't gone rogue without me realizing it (I mean that has\n",
    "_never_ happened to me before so it's almost not even worth checking, but we'll do it anyway)."
   ]
  },
  {
   "cell_type": "code",
   "execution_count": 429,
   "metadata": {},
   "outputs": [
    {
     "data": {
      "text/plain": [
       "33"
      ]
     },
     "execution_count": 429,
     "metadata": {},
     "output_type": "execute_result"
    }
   ],
   "source": [
    "# very that round4 has 33 upsets as shown initiallyS\n",
    "sum(round4['upset'])"
   ]
  },
  {
   "cell_type": "markdown",
   "metadata": {},
   "source": [
    "I was really curious to see what story\n",
    "the data would tell us here. Interestingly, nearly half of the total upsets happened from 2 seeds taking down 1 seeds. Very interesting! Also\n",
    "interesting to see that 3 seeds have taken down 1 seeds in 5 out of 14 matchups. Hmmm, it seems like 1 seeds are falling more often\n",
    "than other seeds. I wonder, are 1 seeds more vulnerable to\n",
    "upsets than other seeds? Maybe the pressure gets to them? Or are we just seeing lots of upsets against 1 seeds since 1 seeds\n",
    "should be statistically the most likely to make it this far and therefore they _have the ability_ to be upset more than lower seeds.\n",
    "A simple way to answer this would just be to sum the upsets by favorite and sum the occurences by favorite and look at the\n",
    "upset percentage _by seed_ in the elite eight. The null hypothesis being that there is no statistically significant\n",
    "difference between upset rates across seeds."
   ]
  },
  {
   "cell_type": "code",
   "execution_count": 355,
   "metadata": {},
   "outputs": [
    {
     "data": {
      "text/html": [
       "<div>\n",
       "<style scoped>\n",
       "    .dataframe tbody tr th:only-of-type {\n",
       "        vertical-align: middle;\n",
       "    }\n",
       "\n",
       "    .dataframe tbody tr th {\n",
       "        vertical-align: top;\n",
       "    }\n",
       "\n",
       "    .dataframe thead th {\n",
       "        text-align: right;\n",
       "    }\n",
       "</style>\n",
       "<table border=\"1\" class=\"dataframe\">\n",
       "  <thead>\n",
       "    <tr style=\"text-align: right;\">\n",
       "      <th></th>\n",
       "      <th>occurences</th>\n",
       "      <th>upset_count</th>\n",
       "      <th>vulnerability</th>\n",
       "    </tr>\n",
       "    <tr>\n",
       "      <th>favorite</th>\n",
       "      <th></th>\n",
       "      <th></th>\n",
       "      <th></th>\n",
       "    </tr>\n",
       "  </thead>\n",
       "  <tbody>\n",
       "    <tr>\n",
       "      <th>1</th>\n",
       "      <td>44.0</td>\n",
       "      <td>20.0</td>\n",
       "      <td>0.454545</td>\n",
       "    </tr>\n",
       "    <tr>\n",
       "      <th>2</th>\n",
       "      <td>8.0</td>\n",
       "      <td>7.0</td>\n",
       "      <td>0.875000</td>\n",
       "    </tr>\n",
       "    <tr>\n",
       "      <th>3</th>\n",
       "      <td>5.0</td>\n",
       "      <td>2.0</td>\n",
       "      <td>0.400000</td>\n",
       "    </tr>\n",
       "    <tr>\n",
       "      <th>4</th>\n",
       "      <td>5.0</td>\n",
       "      <td>3.0</td>\n",
       "      <td>0.600000</td>\n",
       "    </tr>\n",
       "    <tr>\n",
       "      <th>5</th>\n",
       "      <td>1.0</td>\n",
       "      <td>0.0</td>\n",
       "      <td>0.000000</td>\n",
       "    </tr>\n",
       "    <tr>\n",
       "      <th>9</th>\n",
       "      <td>1.0</td>\n",
       "      <td>1.0</td>\n",
       "      <td>1.000000</td>\n",
       "    </tr>\n",
       "  </tbody>\n",
       "</table>\n",
       "</div>"
      ],
      "text/plain": [
       "          occurences  upset_count  vulnerability\n",
       "favorite                                        \n",
       "1               44.0         20.0       0.454545\n",
       "2                8.0          7.0       0.875000\n",
       "3                5.0          2.0       0.400000\n",
       "4                5.0          3.0       0.600000\n",
       "5                1.0          0.0       0.000000\n",
       "9                1.0          1.0       1.000000"
      ]
     },
     "execution_count": 355,
     "metadata": {},
     "output_type": "execute_result"
    }
   ],
   "source": [
    "seed_vulnerability = round4_upsets[['favorite', 'occurences', 'upset_count']].groupby(['favorite']).agg('sum')\n",
    "seed_vulnerability['vulnerability'] = seed_vulnerability['upset_count']/seed_vulnerability['occurences']\n",
    "seed_vulnerability"
   ]
  },
  {
   "cell_type": "markdown",
   "metadata": {},
   "source": [
    "Interesting, from this perspective it actually seems that 1 seeds aren't totally tanking in the elite eight. Two seeds\n",
    "on the other hand, when playing as a favorite, have a rough time here! It looks like when 2 seeds are a favorite to win an elite eight game,\n",
    "_they lose 87.5% of the time._ That is absurd to me! 1 seeds lose 45% of the time, so it seems like the 1 seeds might\n",
    "be slightly better at handling the pressure than their lowly 2-seeded-counterparts. 5 seeds are _undefeated_ in the elite\n",
    "eight when going into the matchup a favorite (over a 6 seed, one time in history.) Still an interesting thing to note\n",
    "though. If anyone is still with me in this absurdly in depth seed analysis, I applaud you, and I thank you kindly. Let's\n",
    "move onwards to some final four findings."
   ]
  },
  {
   "cell_type": "code",
   "execution_count": 317,
   "metadata": {},
   "outputs": [
    {
     "data": {
      "image/png": "[encoded data removed]",
      "text/plain": [
       "<Figure size 432x288 with 2 Axes>"
      ]
     },
     "metadata": {
      "needs_background": "light"
     },
     "output_type": "display_data"
    }
   ],
   "source": [
    "# What about round 5?\n",
    "round5 = data.query('Round == 5')\n",
    "\n",
    "favorites = list(set(round5['favorite']))\n",
    "favs = []\n",
    "underdogs = []\n",
    "\n",
    "for fav in favorites:\n",
    "    dogs = list(set(round5[round5['favorite'] == fav]['underdog']))\n",
    "    favs.extend(repeat(fav, len(dogs)))\n",
    "    underdogs.extend(dogs)\n",
    "\n",
    "\n",
    "\n",
    "upset_rate = []\n",
    "occurences = []\n",
    "for i in range(0, len(favs)):\n",
    "    \n",
    "    matchups = round5[(round5.favorite == favs[i]) & (round5.underdog == underdogs[i])].shape[0]\n",
    "    upsets = round5[(round5.favorite == favs[i]) & (round5.underdog == underdogs[i])][['upset']].agg('sum')\n",
    "    upset_rate.append(float(upsets/matchups))\n",
    "    occurences.append(float(matchups))\n",
    "\n",
    "\n",
    "    \n",
    "round5_upsets = pd.DataFrame(\n",
    "    {'favorite': favs,\n",
    "     'underdog': underdogs,\n",
    "     'upset_rate': upset_rate,\n",
    "     'occurences': occurences\n",
    "    })\n",
    "\n",
    "heat = round5_upsets.pivot(\"favorite\", \"underdog\", \"upset_rate\")\n",
    "ax = sn.heatmap(heat, annot=True,)"
   ]
  },
  {
   "cell_type": "code",
   "execution_count": 431,
   "metadata": {},
   "outputs": [
    {
     "data": {
      "image/png": "[encoded data removed]",
      "text/plain": [
       "<Figure size 432x288 with 2 Axes>"
      ]
     },
     "metadata": {
      "needs_background": "light"
     },
     "output_type": "display_data"
    }
   ],
   "source": [
    "heat = round5_upsets.pivot(\"favorite\", \"underdog\", \"occurences\")\n",
    "ax = sn.heatmap(heat, annot=True, cbar_kws={'label': 'Matchup Frequency'})"
   ]
  },
  {
   "cell_type": "markdown",
   "metadata": {},
   "source": [
    "Picking the two finals team, if nothing else, can get one _very_ far in this tournament. Find out how many people predicted this year's championship game [here](https://www.ncaa.com/news/basketball-men/article/2019-04-08/only-03-percent-people-picked-championship-game-heres-who).\n",
    "Hint: it's not a lot. Understanding how upsets tend to play out in the final four can help you decide which teams make it \n",
    "out of the final four and into the final round of the Big Dance."
   ]
  },
  {
   "cell_type": "code",
   "execution_count": 467,
   "metadata": {},
   "outputs": [
    {
     "data": {
      "text/plain": [
       "Text(0.5, 1.0, 'Historical Distribution of Final Four Seeds')"
      ]
     },
     "execution_count": 467,
     "metadata": {},
     "output_type": "execute_result"
    },
    {
     "data": {
      "image/png": "[encoded data removed]",
      "text/plain": [
       "<Figure size 432x288 with 1 Axes>"
      ]
     },
     "metadata": {
      "needs_background": "light"
     },
     "output_type": "display_data"
    }
   ],
   "source": [
    "final_four_dist = {}\n",
    "years = list(set(round5['Year']))\n",
    "\n",
    "# obtain a dictionary keyed on year with a list of the four seeds that appeared in the final four that year\n",
    "for year in years:\n",
    "    final_four_dist[year] = list(round5[round5['Year'] == year]['seed_1'])+list(round5[round5['Year'] == year]['seed_2'])\n",
    "\n",
    "# get an average appearance by seeds that have been in the final four over the past 16 years\n",
    "\n",
    "# get a list of unique seeds\n",
    "seed1s = list(round5['seed_1'])\n",
    "seed2s = list(round5['seed_2'])\n",
    "all_seeds = seed1s + seed2s\n",
    "\n",
    "seed_frequency = dict(Counter(all_seeds))\n",
    "\n",
    "for key, value in seed_frequency.items():\n",
    "    seed_frequency[key] = seed_frequency[key]/16\n",
    "\n",
    "# verify that the expected number of teams equals 4\n",
    "sum(seed_frequency.values())\n",
    "\n",
    "plt.barh(list(seed_frequency.keys()), list(seed_frequency.values()))\n",
    "plt.title('Historical Distribution of Final Four Seeds')"
   ]
  },
  {
   "cell_type": "code",
   "execution_count": 442,
   "metadata": {},
   "outputs": [
    {
     "data": {
      "text/plain": [
       "{3: 0.5,\n",
       " 1: 1.5,\n",
       " 4: 0.375,\n",
       " 11: 0.1875,\n",
       " 2: 0.8125,\n",
       " 5: 0.1875,\n",
       " 7: 0.1875,\n",
       " 8: 0.125,\n",
       " 9: 0.0625,\n",
       " 10: 0.0625}"
      ]
     },
     "execution_count": 442,
     "metadata": {},
     "output_type": "execute_result"
    }
   ],
   "source": [
    "# dividing the total number of final four appearances by the total number of final fours (16) gives us an expectation\n",
    "# for the number of each seed in a given final four\n",
    "# interperet this as, we'd expect a 3 seed to feature in a final four every other year\n",
    "# in any two final fours there will be about 3 1-seeds\n",
    "# we'd expect a 5 seed to make the final four about once every 5 years\n",
    "# etc etc etc\n",
    "seed_frequency"
   ]
  },
  {
   "cell_type": "code",
   "execution_count": null,
   "metadata": {},
   "outputs": [],
   "source": [
    "One thing to note about this is that our sample size is statistically tiny. So there is likely to be lots of variability\n",
    "in our _actual_ vs _expected_ seed distributions in the final four. Especiallly given that most seeds have an expectation of less\n",
    "than one to appear in a given final four, this distribution is likely to fall apart if we try to apply it to any one \n",
    "specific example. Let's test this by taking 5 samples from our distribution of final four seeds and see what happens."
   ]
  },
  {
   "cell_type": "markdown",
   "metadata": {},
   "source": [
    "How does our sample distribution align with our historical distribution?"
   ]
  },
  {
   "cell_type": "code",
   "execution_count": 478,
   "metadata": {},
   "outputs": [
    {
     "data": {
      "text/plain": [
       "Text(0.5, 1.0, 'Sample Distribution x5')"
      ]
     },
     "execution_count": 478,
     "metadata": {},
     "output_type": "execute_result"
    },
    {
     "data": {
      "image/png": "[encoded data removed]",
      "text/plain": [
       "<Figure size 432x288 with 1 Axes>"
      ]
     },
     "metadata": {
      "needs_background": "light"
     },
     "output_type": "display_data"
    }
   ],
   "source": [
    "sample_seeds = random.sample(all_seeds, 4) + random.sample(all_seeds, 4) + random.sample(all_seeds, 4) + random.sample(all_seeds, 4) + random.sample(all_seeds, 4)\n",
    "sample_seeds = dict(Counter(sample_seeds))\n",
    "\n",
    "for key, value in sample_seeds.items():\n",
    "    sample_seeds[key] = sample_seeds[key]/5\n",
    "\n",
    "# verify that the expected number of teams equals 4\n",
    "sum(sample_seeds.values())\n",
    "\n",
    "plt.barh(list(sample_seeds.keys()), list(sample_seeds.values()))\n",
    "plt.title('Sample Distribution x5')"
   ]
  },
  {
   "cell_type": "code",
   "execution_count": 479,
   "metadata": {},
   "outputs": [
    {
     "data": {
      "text/plain": [
       "Text(0.5, 1.0, 'Sample Distribution x5')"
      ]
     },
     "execution_count": 479,
     "metadata": {},
     "output_type": "execute_result"
    },
    {
     "data": {
      "image/png": "[encoded data removed]",
      "text/plain": [
       "<Figure size 432x288 with 1 Axes>"
      ]
     },
     "metadata": {
      "needs_background": "light"
     },
     "output_type": "display_data"
    }
   ],
   "source": [
    "sample_seeds = random.sample(all_seeds, 4) + random.sample(all_seeds, 4) + random.sample(all_seeds, 4) + random.sample(all_seeds, 4) + random.sample(all_seeds, 4)\n",
    "sample_seeds = dict(Counter(sample_seeds))\n",
    "\n",
    "for key, value in sample_seeds.items():\n",
    "    sample_seeds[key] = sample_seeds[key]/5\n",
    "\n",
    "# verify that the expected number of teams equals 4\n",
    "sum(sample_seeds.values())\n",
    "\n",
    "plt.barh(list(sample_seeds.keys()), list(sample_seeds.values()))\n",
    "plt.title('Sample Distribution x5')"
   ]
  },
  {
   "cell_type": "markdown",
   "metadata": {},
   "source": [
    "With 5 samples our distribution looks completely different from what we'd expect to see historically. But the historical distribution\n",
    "should tend to hold true if we take many different samples. What this essentially means is, if you assume this historical\n",
    "distribution will hold over _many samples_, then you should select final four teams based on this distribution _every year_. On\n",
    "average, your predictions will align with reality _more often_ than if you selected final four teams at random."
   ]
  },
  {
   "cell_type": "code",
   "execution_count": 480,
   "metadata": {},
   "outputs": [
    {
     "data": {
      "text/plain": [
       "Text(0.5, 1.0, 'Sample Distribution x5')"
      ]
     },
     "execution_count": 480,
     "metadata": {},
     "output_type": "execute_result"
    },
    {
     "data": {
      "image/png": "[encoded data removed]",
      "text/plain": [
       "<Figure size 432x288 with 1 Axes>"
      ]
     },
     "metadata": {
      "needs_background": "light"
     },
     "output_type": "display_data"
    }
   ],
   "source": [
    "sample_seeds = random.sample(all_seeds, 4) + random.sample(all_seeds, 4) + random.sample(all_seeds, 4) + random.sample(all_seeds, 4) + random.sample(all_seeds, 4)\n",
    "sample_seeds = dict(Counter(sample_seeds))\n",
    "\n",
    "for key, value in sample_seeds.items():\n",
    "    sample_seeds[key] = sample_seeds[key]/5\n",
    "\n",
    "# verify that the expected number of teams equals 4\n",
    "sum(sample_seeds.values())\n",
    "\n",
    "plt.barh(list(sample_seeds.keys()), list(sample_seeds.values()))\n",
    "plt.title('Sample Distribution x5')"
   ]
  },
  {
   "cell_type": "code",
   "execution_count": 477,
   "metadata": {},
   "outputs": [
    {
     "data": {
      "text/plain": [
       "Text(0.5, 1.0, 'Sample Distribution, x1000')"
      ]
     },
     "execution_count": 477,
     "metadata": {},
     "output_type": "execute_result"
    },
    {
     "data": {
      "image/png": "[encoded data removed]",
      "text/plain": [
       "<Figure size 432x288 with 1 Axes>"
      ]
     },
     "metadata": {
      "needs_background": "light"
     },
     "output_type": "display_data"
    }
   ],
   "source": [
    "sample_seeds = []\n",
    "samples = 10000\n",
    "for i in range(1,samples):\n",
    "    sample_seeds.extend(random.sample(all_seeds, 4))\n",
    "    \n",
    "sample_seeds = dict(Counter(sample_seeds))\n",
    "\n",
    "for key, value in sample_seeds.items():\n",
    "    sample_seeds[key] = sample_seeds[key]/samples\n",
    "\n",
    "# verify that the expected number of teams equals 4\n",
    "sum(sample_seeds.values())\n",
    "\n",
    "plt.barh(list(sample_seeds.keys()), list(sample_seeds.values()))\n",
    "plt.title('Sample Distribution, x1000')"
   ]
  },
  {
   "cell_type": "code",
   "execution_count": 473,
   "metadata": {},
   "outputs": [
    {
     "data": {
      "text/plain": [
       "Text(0.5, 1.0, 'Historical Distribution of Final Four Seeds')"
      ]
     },
     "execution_count": 473,
     "metadata": {},
     "output_type": "execute_result"
    },
    {
     "data": {
      "image/png": "[encoded data removed]",
      "text/plain": [
       "<Figure size 432x288 with 1 Axes>"
      ]
     },
     "metadata": {
      "needs_background": "light"
     },
     "output_type": "display_data"
    }
   ],
   "source": [
    "plt.barh(list(seed_frequency.keys()), list(seed_frequency.values()))\n",
    "plt.title('Historical Distribution of Final Four Seeds')"
   ]
  },
  {
   "cell_type": "markdown",
   "metadata": {},
   "source": [
    "That was a pretty unnecessary aside into resampling methods to be honest. But I this property interesting. Let's get on with\n",
    "our analysis of the final four."
   ]
  },
  {
   "cell_type": "code",
   "execution_count": 448,
   "metadata": {},
   "outputs": [
    {
     "data": {
      "text/plain": [
       "{2016: [2, 1, 2, 10],\n",
       " 2017: [7, 3, 1, 1],\n",
       " 2018: [11, 1, 3, 1],\n",
       " 2003: [3, 1, 2, 3],\n",
       " 2004: [3, 1, 2, 2],\n",
       " 2005: [1, 1, 4, 5],\n",
       " 2006: [4, 11, 2, 3],\n",
       " 2007: [1, 2, 2, 1],\n",
       " 2008: [1, 1, 1, 1],\n",
       " 2009: [2, 3, 1, 1],\n",
       " 2010: [5, 2, 5, 1],\n",
       " 2011: [4, 11, 3, 8],\n",
       " 2012: [1, 2, 4, 2],\n",
       " 2013: [1, 4, 9, 4],\n",
       " 2014: [1, 2, 7, 8],\n",
       " 2015: [1, 7, 1, 1]}"
      ]
     },
     "execution_count": 448,
     "metadata": {},
     "output_type": "execute_result"
    }
   ],
   "source": [
    "# historical distribution of final four teams\n",
    "final_four_dist"
   ]
  },
  {
   "cell_type": "code",
   "execution_count": null,
   "metadata": {},
   "outputs": [],
   "source": []
  },
  {
   "cell_type": "markdown",
   "metadata": {},
   "source": [
    "This was a surprising distribution. I hadn't realized how highly skewed the final four is to 1, 2 and 3 seeds. If your \n",
    "bracket does nothing but predict the final four correctly you could find yourself a [champion of your office pool](https://www.ncaa.com/news/basketball-men/article/2019-04-01/only-02-percent-people-correctly-predicted-2019-final-four). \n",
    "Understanding how seeds tend to be distributed in this round can help you eliminate teams from the selection process. \n",
    "My takeaway from this graph is to have no more than 2 1 seeds in the final four. Choose a 2 seed or a 3 seed you feel \n",
    "confident in. For your last final four candidate, go with your gut or create your own signals for predicting likelihood\n",
    "of advancement. This year fans were _shocked_ when Auburn made it to the final four (apparently only [3.9% of brackets forsaw that one](https://watchstadium.com/news/auburn-texas-tech-purdue-among-best-2019-ncaa-tournament-bracket-picks-03-31-2019/)) but really, 1 in 5 final fours\n",
    "Spoiler alert: mine was one of them. But given this data, final fours feature a five seed about once every five years. \n",
    "I would recommend picking your final four before you fill out any other portion of your bracket. My logic\n",
    "for building my 2019 bracket went as follows: First you need to rank order the 4 one seeds from best to worst. There are\n",
    "so many methods for doing this but honestly this is where the beauty of bracketology comes into play. I'd recommend watching\n",
    "some highlight videos to get to know the teams. Read up on the coaches, players, the school history. Go with your gut.\n",
    "At the end of the day, you want to be happy when your team goes all the way. As a wise old owl once said, go with your heart,\n",
    "not your head. Anyways, I chose Gonzaga and Virgina, mostly because I hate wanted Duke to lose and UNC looked weak to me\n",
    "on film. Again, mostly a judgement call softly influenced by data. Next, since I'd already decided that Duke and UNC would\n",
    "lose, I had to pin down which lucky team would beat them. For Duke, I chose MSU since no other team in the East seemed\n",
    "good enough to take down Zion, and MSU looked filthy on film. For UNC, advanced them to the sweet sixteen (given\n",
    "what we learned from our Round 1 & 2 analysis). Round 3's analysis showed that a 1 seed has lost to a 5 seed exactly 3\n",
    "times over the past 16 years, or in 15% of 1 v 5 matchups. After watching some film of Auburn and UNC, I decided that the\n",
    "Tigers had what it took to overtake the Tar Heels. Definitely went out on a limb, but that's how I built my final four\n",
    "with 3 out of the 4 final four teams. In another post we can discuss things to look for that convinced me Auburn could\n",
    "make it, but hey, this all could have just been dumb luck anyway. "
   ]
  },
  {
   "cell_type": "code",
   "execution_count": 322,
   "metadata": {},
   "outputs": [
    {
     "data": {
      "image/png": "[encoded data removed]",
      "text/plain": [
       "<Figure size 432x288 with 2 Axes>"
      ]
     },
     "metadata": {
      "needs_background": "light"
     },
     "output_type": "display_data"
    }
   ],
   "source": [
    "# What about round 6?\n",
    "round6 = data.query('Round == 6')\n",
    "\n",
    "favorites = list(set(round6['favorite']))\n",
    "favs = []\n",
    "underdogs = []\n",
    "\n",
    "for fav in favorites:\n",
    "    dogs = list(set(round6[round6['favorite'] == fav]['underdog']))\n",
    "    favs.extend(repeat(fav, len(dogs)))\n",
    "    underdogs.extend(dogs)\n",
    "\n",
    "\n",
    "\n",
    "upset_rate = []\n",
    "occurences = []\n",
    "for i in range(0, len(favs)):\n",
    "    \n",
    "    matchups = round6[(round6.favorite == favs[i]) & (round6.underdog == underdogs[i])].shape[0]\n",
    "    upsets = round6[(round6.favorite == favs[i]) & (round6.underdog == underdogs[i])][['upset']].agg('sum')\n",
    "    upset_rate.append(float(upsets/matchups))\n",
    "    occurences.append(float(matchups))\n",
    "\n",
    "\n",
    "    \n",
    "round6_upsets = pd.DataFrame(\n",
    "    {'favorite': favs,\n",
    "     'underdog': underdogs,\n",
    "     'upset_rate': upset_rate,\n",
    "     'occurences': occurences\n",
    "    })\n",
    "\n",
    "heat = round6_upsets.pivot(\"favorite\", \"underdog\", \"upset_rate\")\n",
    "ax = sn.heatmap(heat, annot=True,)"
   ]
  },
  {
   "cell_type": "code",
   "execution_count": 474,
   "metadata": {},
   "outputs": [
    {
     "data": {
      "image/png": "[encoded data removed]",
      "text/plain": [
       "<Figure size 432x288 with 2 Axes>"
      ]
     },
     "metadata": {
      "needs_background": "light"
     },
     "output_type": "display_data"
    }
   ],
   "source": [
    "heat = round6_upsets.pivot(\"favorite\", \"underdog\", \"occurences\")\n",
    "ax = sn.heatmap(heat, annot=True, cbar_kws={'label': 'Matchup Frequency'})"
   ]
  },
  {
   "cell_type": "code",
   "execution_count": 385,
   "metadata": {},
   "outputs": [
    {
     "data": {
      "text/plain": [
       "<BarContainer object of 7 artists>"
      ]
     },
     "execution_count": 385,
     "metadata": {},
     "output_type": "execute_result"
    },
    {
     "data": {
      "image/png": "[encoded data removed]",
      "text/plain": [
       "<Figure size 432x288 with 1 Axes>"
      ]
     },
     "metadata": {
      "needs_background": "light"
     },
     "output_type": "display_data"
    }
   ],
   "source": [
    "finals_dist = {}\n",
    "years = list(set(round6['Year']))\n",
    "\n",
    "# obtain a dictionary keyed on year with a list of the four seeds that appeared in the final four that year\n",
    "for year in years:\n",
    "    finals_dist[year] = list(round6[round6['Year'] == year]['seed_1'])\n",
    "\n",
    "# get an average appearance by seeds that have been in the final four over the past 16 years\n",
    "\n",
    "# get a list of unique seeds\n",
    "seed1s = list(round6['seed_1'])\n",
    "seed2s = list(round6['seed_2'])\n",
    "all_seeds = seed1s + seed2s\n",
    "\n",
    "seed_frequency = dict(Counter(all_seeds))\n",
    "\n",
    "for key, value in seed_frequency.items():\n",
    "    seed_frequency[key] = seed_frequency[key]/16\n",
    "\n",
    "# verify that the expected number of teams equals 4\n",
    "sum(seed_frequency.values())\n",
    "\n",
    "plt.barh(list(seed_frequency.keys()), list(seed_frequency.values()))"
   ]
  },
  {
   "cell_type": "code",
   "execution_count": 389,
   "metadata": {},
   "outputs": [
    {
     "data": {
      "text/plain": [
       "{2: 0.375, 3: 0.3125, 1: 1.0, 5: 0.0625, 7: 0.0625, 8: 0.125, 4: 0.0625}"
      ]
     },
     "execution_count": 389,
     "metadata": {},
     "output_type": "execute_result"
    }
   ],
   "source": [
    "seed_frequency"
   ]
  },
  {
   "cell_type": "markdown",
   "metadata": {},
   "source": [
    "On average we can expect there to be at least one 1 seed in the finals. But there is more likely to be only 1 than two 1 \n",
    "seeds. So when filling out your bracket if you pick two one seeds, you increase your odds of getting at least one finals\n",
    "team, but you decrease your odds of getting both right. Again, I would recommend you think carefully about the two 1 seeds\n",
    "you send to the final four and really commit to one or the other, not both. To pick your second finalist, it's more or less\n",
    "a toss up between 2 and 3 seeds, they make finals appearances about equally as often. I had Virginia at MSU in my finals,\n",
    "so this method definitely isn't foolproof. But this is generally the method I would use to build your bracket. Here is my\n",
    "last key piece of advice, once you've filled out your bracket, count up how many upsets you've called. Is your distribution\n",
    "similar to what we've seen historically? The distributions in this analysis will tell you how likely each of the upsets \n",
    "(or not upsets) you've called are to happen (or not happen). Go through game by game and sanity check yourself to see if\n",
    "you're being too conservative or too trigger happy. I think I ended up advancing Auburn because I didn't have enough upsets,\n",
    "and I also didn't want to end up with a Final Four comprised of two 2-seeds and two 1-seeds. Because that's just boring.\n",
    "At the end of the day, bracket games are meant to be fun. Granted, it's always fun to take the glory but who knows how\n",
    "well this method will fare for me next year. All I know is it did amazingly well for me this year, so it seemed prudent\n",
    "to document my methodologies and share with the like minded. If you've made it this far, wow. You're truly a champion.\n",
    "Enjoy some pretty plots that I made. The rest of this notebook is just scribble scrabble that I don't want to delete\n",
    "because maybe I'll use it at some point! Hoarding code isn't a thing. Or is it?"
   ]
  },
  {
   "cell_type": "code",
   "execution_count": null,
   "metadata": {},
   "outputs": [],
   "source": []
  },
  {
   "cell_type": "code",
   "execution_count": null,
   "metadata": {},
   "outputs": [],
   "source": []
  },
  {
   "cell_type": "code",
   "execution_count": null,
   "metadata": {},
   "outputs": [],
   "source": [
    "# Appendix Stuff Below, Can Ignore"
   ]
  },
  {
   "cell_type": "code",
   "execution_count": 78,
   "metadata": {},
   "outputs": [
    {
     "data": {
      "image/png": "[encoded data removed]",
      "text/plain": [
       "<Figure size 648x432 with 6 Axes>"
      ]
     },
     "metadata": {
      "needs_background": "light"
     },
     "output_type": "display_data"
    }
   ],
   "source": [
    "g = sn.FacetGrid(data, col=\"Round\", col_wrap = 3)\n",
    "g.map(sn.distplot, \"winning_seed\");"
   ]
  },
  {
   "cell_type": "code",
   "execution_count": 475,
   "metadata": {},
   "outputs": [
    {
     "data": {
      "text/plain": [
       "17.6875"
      ]
     },
     "execution_count": 475,
     "metadata": {},
     "output_type": "execute_result"
    }
   ],
   "source": [
    "# compute mean of upset statistic\n",
    "data.query('Year >= 2003 & favorite != -1')[['upset', 'Year']].groupby(['Year']).agg('sum')['upset'].mean()"
   ]
  },
  {
   "cell_type": "markdown",
   "metadata": {},
   "source": [
    "So what do we know so far? Well in this preliminary EDA we've shown that the most recent trend in the march madness tournament\n",
    "shows an interesting trend where elite eight upsets are statistically more probable than in any other round of the tournament.\n",
    "I'm going to hard code in the upset rates for this year's tournament to see how the historical trend matched up this year"
   ]
  },
  {
   "cell_type": "code",
   "execution_count": 57,
   "metadata": {},
   "outputs": [
    {
     "data": {
      "text/html": [
       "<div>\n",
       "<style scoped>\n",
       "    .dataframe tbody tr th:only-of-type {\n",
       "        vertical-align: middle;\n",
       "    }\n",
       "\n",
       "    .dataframe tbody tr th {\n",
       "        vertical-align: top;\n",
       "    }\n",
       "\n",
       "    .dataframe thead th {\n",
       "        text-align: right;\n",
       "    }\n",
       "</style>\n",
       "<table border=\"1\" class=\"dataframe\">\n",
       "  <thead>\n",
       "    <tr style=\"text-align: right;\">\n",
       "      <th></th>\n",
       "      <th>rounds</th>\n",
       "      <th>upset_candidates</th>\n",
       "      <th>actual_upsets</th>\n",
       "      <th>historical_upset_pct</th>\n",
       "      <th>upset_pct</th>\n",
       "      <th>expected_upsets</th>\n",
       "    </tr>\n",
       "    <tr>\n",
       "      <th>Round</th>\n",
       "      <th></th>\n",
       "      <th></th>\n",
       "      <th></th>\n",
       "      <th></th>\n",
       "      <th></th>\n",
       "      <th></th>\n",
       "    </tr>\n",
       "  </thead>\n",
       "  <tbody>\n",
       "    <tr>\n",
       "      <th>1</th>\n",
       "      <td>1</td>\n",
       "      <td>32</td>\n",
       "      <td>12</td>\n",
       "      <td>0.253906</td>\n",
       "      <td>0.3750</td>\n",
       "      <td>8.125000</td>\n",
       "    </tr>\n",
       "    <tr>\n",
       "      <th>2</th>\n",
       "      <td>2</td>\n",
       "      <td>16</td>\n",
       "      <td>1</td>\n",
       "      <td>0.289062</td>\n",
       "      <td>0.0625</td>\n",
       "      <td>4.625000</td>\n",
       "    </tr>\n",
       "    <tr>\n",
       "      <th>3</th>\n",
       "      <td>3</td>\n",
       "      <td>8</td>\n",
       "      <td>3</td>\n",
       "      <td>0.289062</td>\n",
       "      <td>0.3750</td>\n",
       "      <td>2.312500</td>\n",
       "    </tr>\n",
       "    <tr>\n",
       "      <th>4</th>\n",
       "      <td>4</td>\n",
       "      <td>4</td>\n",
       "      <td>3</td>\n",
       "      <td>0.515625</td>\n",
       "      <td>0.7500</td>\n",
       "      <td>2.062500</td>\n",
       "    </tr>\n",
       "    <tr>\n",
       "      <th>5</th>\n",
       "      <td>5</td>\n",
       "      <td>2</td>\n",
       "      <td>1</td>\n",
       "      <td>0.250000</td>\n",
       "      <td>0.5000</td>\n",
       "      <td>0.500000</td>\n",
       "    </tr>\n",
       "    <tr>\n",
       "      <th>6</th>\n",
       "      <td>6</td>\n",
       "      <td>1</td>\n",
       "      <td>0</td>\n",
       "      <td>0.272727</td>\n",
       "      <td>0.0000</td>\n",
       "      <td>0.272727</td>\n",
       "    </tr>\n",
       "  </tbody>\n",
       "</table>\n",
       "</div>"
      ],
      "text/plain": [
       "       rounds  upset_candidates  actual_upsets  historical_upset_pct  \\\n",
       "Round                                                                  \n",
       "1           1                32             12              0.253906   \n",
       "2           2                16              1              0.289062   \n",
       "3           3                 8              3              0.289062   \n",
       "4           4                 4              3              0.515625   \n",
       "5           5                 2              1              0.250000   \n",
       "6           6                 1              0              0.272727   \n",
       "\n",
       "       upset_pct  expected_upsets  \n",
       "Round                              \n",
       "1         0.3750         8.125000  \n",
       "2         0.0625         4.625000  \n",
       "3         0.3750         2.312500  \n",
       "4         0.7500         2.062500  \n",
       "5         0.5000         0.500000  \n",
       "6         0.0000         0.272727  "
      ]
     },
     "execution_count": 57,
     "metadata": {},
     "output_type": "execute_result"
    }
   ],
   "source": [
    "# 2019 data manually loaded\n",
    "rounds = [1,2,3,4,5,6]\n",
    "upset_candidates = [32, 16, 8, 4, 2, 1]\n",
    "actual_upsets = [12, 1, 3, 3, 1, 0]\n",
    "bracket_2019 = pd.DataFrame(\n",
    "    {'rounds': rounds,\n",
    "     'upset_candidates': upset_candidates,\n",
    "     'actual_upsets': actual_upsets,\n",
    "     'historical_upset_pct': upset_pct['upset_pct']\n",
    "    })\n",
    "bracket_2019['upset_pct'] = bracket_2019['actual_upsets']/bracket_2019['upset_candidates']\n",
    "bracket_2019['expected_upsets'] = bracket_2019['upset_candidates']*bracket_2019['historical_upset_pct']\n",
    "bracket_2019"
   ]
  },
  {
   "cell_type": "markdown",
   "metadata": {},
   "source": [
    "The upset percentages this year don't exactly line up with the historical trend we observed since 2003. Namely, the round of 32\n",
    "displayed far fewer upsets than we've seen historically and the round of 64 saw about a 50% increase in the number of average \n",
    "upsets. Interestingly, the _expectated_ number of upsets for the tournament, given the historical distribution, is 18 and we \n",
    "actually observed 20 upsets. Let's look at the historical upset counts for each round of the tournament to get a sense of the\n",
    "confidence intervals around these historical means."
   ]
  }
 ],
 "metadata": {
  "kernelspec": {
   "display_name": "Python 3",
   "language": "python",
   "name": "python3"
  },
  "language_info": {
   "codemirror_mode": {
    "name": "ipython",
    "version": 3
   },
   "file_extension": ".py",
   "mimetype": "text/x-python",
   "name": "python",
   "nbconvert_exporter": "python",
   "pygments_lexer": "ipython3",
   "version": "3.6.8"
  }
 },
 "nbformat": 4,
 "nbformat_minor": 2
}
