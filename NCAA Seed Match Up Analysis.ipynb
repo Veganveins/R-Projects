{
 "cells": [
  {
   "cell_type": "code",
   "execution_count": 1,
   "metadata": {},
   "outputs": [],
   "source": [
    "import pandas as pd\n",
    "import numpy as np\n",
    "import matplotlib.pyplot as plt\n",
    "import seaborn as sn\n",
    "from dateutil import parser\n",
    "from itertools import repeat\n",
    "from collections import Counter, OrderedDict\n",
    "import random"
   ]
  },
  {
   "cell_type": "markdown",
   "metadata": {},
   "source": [
    "The purpose of this exercise is to better understand the March Madness tournament, with the goal of helping us to make better\n",
    "decisions when filling out a tournament bracket and (hopefully!) helping us to win some of our co-workers' money. This notebook\n",
    "is based _solely_ on seed matchup analysis. There is no modeling and minimal feature engineering involved. In another post\n",
    "I may go into detail exploring the characteristics of underdogs-that-win vs favorites-that-lose, but for now I want to \n",
    "document in never-before-seen-detail the kinds of things to look for in terms of seed analysis that the average basketball\n",
    "fan can use in upcoming tournaments. No understanding of machine learning necessary, and hopefully we can learn some cool\n",
    "insights. I used exactly this analysis when I was filling out my 2019 bracket, and with my findings I was able to call \n",
    "Auburn making the Final Four ([only 3.9% of brackets saw this coming by the way](https://watchstadium.com/news/auburn-texas-tech-purdue-among-best-2019-ncaa-tournament-bracket-picks-03-31-2019/))\n",
    "As we walk through this notebook I'll take you through my thought process as I was designing the bracket that won second place\n",
    "in a pool of 100+ contestants, and first place in a pool of 60+."
   ]
  },
  {
   "cell_type": "markdown",
   "metadata": {},
   "source": [
    "First things first, I pulled historical NCAA data conveniently hosted on kaggle's website (apparently march madness is a topic ripe\n",
    "with the attentions of fellow data scientists). I've popped the data file up on github so the avid readers can follow along if\n",
    "inspiration strikes."
   ]
  },
  {
   "cell_type": "code"
   "execution_count": 2,
   "metadata": {},
   "outputs": [
    {
     "data": {
      "text/html": [
       "<div>\n",
       "<style scoped>\n",
       "    .dataframe tbody tr th:only-of-type {\n",
       "        vertical-align: middle;\n",
       "    }\n",
       "\n",
       "    .dataframe tbody tr th {\n",
       "        vertical-align: top;\n",
       "    }\n",
       "\n",
       "    .dataframe thead th {\n",
       "        text-align: right;\n",
       "    }\n",
       "</style>\n",
       "<table border=\"1\" class=\"dataframe\">\n",
       "  <thead>\n",
       "    <tr style=\"text-align: right;\">\n",
       "      <th></th>\n",
       "      <th>Year</th>\n",
       "      <th>Round</th>\n",
       "      <th>Region Number</th>\n",
       "      <th>Region Name</th>\n",
       "      <th>seed_1</th>\n",
       "      <th>score_1</th>\n",
       "      <th>team_1</th>\n",
       "      <th>team_2</th>\n",
       "      <th>score_2</th>\n",
       "      <th>seed_2</th>\n",
       "      <th>winning_seed</th>\n",
       "    </tr>\n",
       "  </thead>\n",
       "  <tbody>\n",
       "    <tr>\n",
       "      <th>0</th>\n",
       "      <td>1985</td>\n",
       "      <td>1</td>\n",
       "      <td>1</td>\n",
       "      <td>West</td>\n",
       "      <td>1</td>\n",
       "      <td>83</td>\n",
       "      <td>St Johns</td>\n",
       "      <td>Southern</td>\n",
       "      <td>59</td>\n",
       "      <td>16</td>\n",
       "      <td>NaN</td>\n",
       "    </tr>\n",
       "    <tr>\n",
       "      <th>1</th>\n",
       "      <td>1985</td>\n",
       "      <td>1</td>\n",
       "      <td>1</td>\n",
       "      <td>West</td>\n",
       "      <td>2</td>\n",
       "      <td>81</td>\n",
       "      <td>VCU</td>\n",
       "      <td>Marshall</td>\n",
       "      <td>65</td>\n",
       "      <td>15</td>\n",
       "      <td>NaN</td>\n",
       "    </tr>\n",
       "    <tr>\n",
       "      <th>2</th>\n",
       "      <td>1985</td>\n",
       "      <td>1</td>\n",
       "      <td>1</td>\n",
       "      <td>West</td>\n",
       "      <td>3</td>\n",
       "      <td>65</td>\n",
       "      <td>NC State</td>\n",
       "      <td>Nevada</td>\n",
       "      <td>56</td>\n",
       "      <td>14</td>\n",
       "      <td>NaN</td>\n",
       "    </tr>\n",
       "    <tr>\n",
       "      <th>3</th>\n",
       "      <td>1985</td>\n",
       "      <td>1</td>\n",
       "      <td>1</td>\n",
       "      <td>West</td>\n",
       "      <td>4</td>\n",
       "      <td>85</td>\n",
       "      <td>UNLV</td>\n",
       "      <td>San Diego St</td>\n",
       "      <td>80</td>\n",
       "      <td>13</td>\n",
       "      <td>NaN</td>\n",
       "    </tr>\n",
       "    <tr>\n",
       "      <th>4</th>\n",
       "      <td>1985</td>\n",
       "      <td>1</td>\n",
       "      <td>1</td>\n",
       "      <td>West</td>\n",
       "      <td>5</td>\n",
       "      <td>58</td>\n",
       "      <td>Washington</td>\n",
       "      <td>Kentucky</td>\n",
       "      <td>65</td>\n",
       "      <td>12</td>\n",
       "      <td>NaN</td>\n",
       "    </tr>\n",
       "  </tbody>\n",
       "</table>\n",
       "</div>"
      ],
      "text/plain": [
       "   Year  Round  Region Number Region Name  seed_1  score_1      team_1  \\\n",
       "0  1985      1              1        West       1       83    St Johns   \n",
       "1  1985      1              1        West       2       81         VCU   \n",
       "2  1985      1              1        West       3       65    NC State   \n",
       "3  1985      1              1        West       4       85        UNLV   \n",
       "4  1985      1              1        West       5       58  Washington   \n",
       "\n",
       "         team_2  score_2  seed_2  winning_seed  \n",
       "0      Southern       59      16           NaN  \n",
       "1      Marshall       65      15           NaN  \n",
       "2        Nevada       56      14           NaN  \n",
       "3  San Diego St       80      13           NaN  \n",
       "4      Kentucky       65      12           NaN  "
      ]
     },
     "execution_count": 2,
     "metadata": {},
     "output_type": "execute_result"
    }
   ],
   "source": [
    "# I always start by taking a quick look at the data set\n",
    "data = pd.read_csv('ncaa_data.csv')\n",
    "data.head()"
   ]
  },
  {
   "cell_type": "markdown",
   "metadata": {},
   "source": [
    "I didn't get particularly fancy (and I would argue that you don't need to). I was able to get a high performing bracket\n",
    "with minimal feature engineering. To start, let's create a column for \"winning seed\" so we can examine the distribution \n",
    "of winners per round. I'm also throwing out the 'Region Number' and 'Region Name' columns as they won't be useful to us."
   ]
  },
  {
   "cell_type": "code",
   "execution_count": 3,
   "metadata": {},
   "outputs": [
    {
     "data": {
      "text/html": [
       "<div>\n",
       "<style scoped>\n",
       "    .dataframe tbody tr th:only-of-type {\n",
       "        vertical-align: middle;\n",
       "    }\n",
       "\n",
       "    .dataframe tbody tr th {\n",
       "        vertical-align: top;\n",
       "    }\n",
       "\n",
       "    .dataframe thead th {\n",
       "        text-align: right;\n",
       "    }\n",
       "</style>\n",
       "<table border=\"1\" class=\"dataframe\">\n",
       "  <thead>\n",
       "    <tr style=\"text-align: right;\">\n",
       "      <th></th>\n",
       "      <th>Year</th>\n",
       "      <th>Round</th>\n",
       "      <th>seed_1</th>\n",
       "      <th>score_1</th>\n",
       "      <th>team_1</th>\n",
       "      <th>team_2</th>\n",
       "      <th>score_2</th>\n",
       "      <th>seed_2</th>\n",
       "      <th>winning_seed</th>\n",
       "    </tr>\n",
       "  </thead>\n",
       "  <tbody>\n",
       "    <tr>\n",
       "      <th>0</th>\n",
       "      <td>1985</td>\n",
       "      <td>1</td>\n",
       "      <td>1</td>\n",
       "      <td>83</td>\n",
       "      <td>St Johns</td>\n",
       "      <td>Southern</td>\n",
       "      <td>59</td>\n",
       "      <td>16</td>\n",
       "      <td>1</td>\n",
       "    </tr>\n",
       "    <tr>\n",
       "      <th>1</th>\n",
       "      <td>1985</td>\n",
       "      <td>1</td>\n",
       "      <td>2</td>\n",
       "      <td>81</td>\n",
       "      <td>VCU</td>\n",
       "      <td>Marshall</td>\n",
       "      <td>65</td>\n",
       "      <td>15</td>\n",
       "      <td>2</td>\n",
       "    </tr>\n",
       "    <tr>\n",
       "      <th>2</th>\n",
       "      <td>1985</td>\n",
       "      <td>1</td>\n",
       "      <td>3</td>\n",
       "      <td>65</td>\n",
       "      <td>NC State</td>\n",
       "      <td>Nevada</td>\n",
       "      <td>56</td>\n",
       "      <td>14</td>\n",
       "      <td>3</td>\n",
       "    </tr>\n",
       "    <tr>\n",
       "      <th>3</th>\n",
       "      <td>1985</td>\n",
       "      <td>1</td>\n",
       "      <td>4</td>\n",
       "      <td>85</td>\n",
       "      <td>UNLV</td>\n",
       "      <td>San Diego St</td>\n",
       "      <td>80</td>\n",
       "      <td>13</td>\n",
       "      <td>4</td>\n",
       "    </tr>\n",
       "    <tr>\n",
       "      <th>4</th>\n",
       "      <td>1985</td>\n",
       "      <td>1</td>\n",
       "      <td>5</td>\n",
       "      <td>58</td>\n",
       "      <td>Washington</td>\n",
       "      <td>Kentucky</td>\n",
       "      <td>65</td>\n",
       "      <td>12</td>\n",
       "      <td>12</td>\n",
       "    </tr>\n",
       "  </tbody>\n",
       "</table>\n",
       "</div>"
      ],
      "text/plain": [
       "   Year  Round  seed_1  score_1      team_1        team_2  score_2  seed_2  \\\n",
       "0  1985      1       1       83    St Johns      Southern       59      16   \n",
       "1  1985      1       2       81         VCU      Marshall       65      15   \n",
       "2  1985      1       3       65    NC State        Nevada       56      14   \n",
       "3  1985      1       4       85        UNLV  San Diego St       80      13   \n",
       "4  1985      1       5       58  Washington      Kentucky       65      12   \n",
       "\n",
       "   winning_seed  \n",
       "0             1  \n",
       "1             2  \n",
       "2             3  \n",
       "3             4  \n",
       "4            12  "
      ]
     },
     "execution_count": 3,

     "metadata": {},
     "output_type": "execute_result"
    }
   ],
   "source": [
    "data['winning_seed'] = np.where(data['score_1']>=data['score_2'], data['seed_1'], data['seed_2'])\n",
    "data = data.drop(['Region Number', 'Region Name'], axis=1)\n",
    "data.head()"
   ]
  },
  {
   "cell_type": "markdown",
   "metadata": {},
   "source": [
    "Let's also create an 'upset' column to tell us whether or not a given game\n",
    "went \"as expected\""
   ]
  },
  {
   "cell_type": "code",
   "execution_count": 4,

   "metadata": {},
   "outputs": [
    {
     "data": {
      "text/html": [
       "<div>\n",
       "<style scoped>\n",
       "    .dataframe tbody tr th:only-of-type {\n",
       "        vertical-align: middle;\n",
       "    }\n",
       "\n",
       "    .dataframe tbody tr th {\n",
       "        vertical-align: top;\n",
       "    }\n",
       "\n",
       "    .dataframe thead th {\n",
       "        text-align: right;\n",
       "    }\n",
       "</style>\n",
       "<table border=\"1\" class=\"dataframe\">\n",
       "  <thead>\n",
       "    <tr style=\"text-align: right;\">\n",
       "      <th></th>\n",
       "      <th>Year</th>\n",
       "      <th>Round</th>\n",
       "      <th>seed_1</th>\n",
       "      <th>score_1</th>\n",
       "      <th>team_1</th>\n",
       "      <th>team_2</th>\n",
       "      <th>score_2</th>\n",
       "      <th>seed_2</th>\n",
       "      <th>winning_seed</th>\n",
       "      <th>favorite</th>\n",
       "      <th>underdog</th>\n",
       "      <th>upset</th>\n",
       "    </tr>\n",
       "  </thead>\n",
       "  <tbody>\n",
       "    <tr>\n",
       "      <th>0</th>\n",
       "      <td>1985</td>\n",
       "      <td>1</td>\n",
       "      <td>1</td>\n",
       "      <td>83</td>\n",
       "      <td>St Johns</td>\n",
       "      <td>Southern</td>\n",
       "      <td>59</td>\n",
       "      <td>16</td>\n",
       "      <td>1</td>\n",
       "      <td>1</td>\n",
       "      <td>16</td>\n",
       "      <td>0</td>\n",
       "    </tr>\n",
       "    <tr>\n",
       "      <th>1</th>\n",
       "      <td>1985</td>\n",
       "      <td>1</td>\n",
       "      <td>2</td>\n",
       "      <td>81</td>\n",
       "      <td>VCU</td>\n",
       "      <td>Marshall</td>\n",
       "      <td>65</td>\n",
       "      <td>15</td>\n",
       "      <td>2</td>\n",
       "      <td>2</td>\n",
       "      <td>15</td>\n",
       "      <td>0</td>\n",
       "    </tr>\n",
       "    <tr>\n",
       "      <th>2</th>\n",
       "      <td>1985</td>\n",
       "      <td>1</td>\n",
       "      <td>3</td>\n",
       "      <td>65</td>\n",
       "      <td>NC State</td>\n",
       "      <td>Nevada</td>\n",
       "      <td>56</td>\n",
       "      <td>14</td>\n",
       "      <td>3</td>\n",
       "      <td>3</td>\n",
       "      <td>14</td>\n",
       "      <td>0</td>\n",
       "    </tr>\n",
       "    <tr>\n",
       "      <th>3</th>\n",
       "      <td>1985</td>\n",
       "      <td>1</td>\n",
       "      <td>4</td>\n",
       "      <td>85</td>\n",
       "      <td>UNLV</td>\n",
       "      <td>San Diego St</td>\n",
       "      <td>80</td>\n",
       "      <td>13</td>\n",
       "      <td>4</td>\n",
       "      <td>4</td>\n",
       "      <td>13</td>\n",
       "      <td>0</td>\n",
       "    </tr>\n",
       "    <tr>\n",
       "      <th>4</th>\n",
       "      <td>1985</td>\n",
       "      <td>1</td>\n",
       "      <td>5</td>\n",
       "      <td>58</td>\n",
       "      <td>Washington</td>\n",
       "      <td>Kentucky</td>\n",
       "      <td>65</td>\n",
       "      <td>12</td>\n",
       "      <td>12</td>\n",
       "      <td>5</td>\n",
       "      <td>12</td>\n",
       "      <td>1</td>\n",
       "    </tr>\n",
       "  </tbody>\n",
       "</table>\n",
       "</div>"
      ],
      "text/plain": [
       "   Year  Round  seed_1  score_1      team_1        team_2  score_2  seed_2  \\\n",
       "0  1985      1       1       83    St Johns      Southern       59      16   \n",
       "1  1985      1       2       81         VCU      Marshall       65      15   \n",
       "2  1985      1       3       65    NC State        Nevada       56      14   \n",
       "3  1985      1       4       85        UNLV  San Diego St       80      13   \n",
       "4  1985      1       5       58  Washington      Kentucky       65      12   \n",
       "\n",
       "   winning_seed  favorite  underdog  upset  \n",
       "0             1         1        16      0  \n",
       "1             2         2        15      0  \n",
       "2             3         3        14      0  \n",
       "3             4         4        13      0  \n",
       "4            12         5        12      1  "
      ]
     },

     "execution_count": 4,
     "metadata": {},
     "output_type": "execute_result"
    }
   ],
   "source": [
    "data['favorite'] = np.where(data['seed_1']<data['seed_2'], data['seed_1'], data['seed_2'])\n",
    "data['underdog'] = np.where(data['seed_1']<data['seed_2'], data['seed_2'], data['seed_1'])\n",
    "# account for cases where there is no favorite (ie identical seeds)\n",
    "data['favorite'] = np.where(data['seed_1'] == data['seed_2'], -1, data['favorite'])\n",
    "data['underdog'] = np.where(data['seed_1'] == data['seed_2'], -1, data['underdog'])\n",
    "data['upset'] = np.where(data['winning_seed'] != data['favorite'], 1, 0)\n",
    "# force games showcasing tied seeds to be '0' in the 'upset' column\n",
    "data['upset'] = np.where(data['favorite'] == -1, 0, data['upset'])\n",
    "data.head()"
   ]
  },
  {
   "cell_type": "markdown",
   "metadata": {},
   "source": [
    "The million dollar question when filling out a bracket is, _\"to upset, or not to upset?\"_ The naive bracket would simply select\n",
    "higher seeds to defeat lower seeds and result in the number 1 overall seed clinching the title. We can do better. To \n",
    "start, the first question I asked is, how common are upsets at different stages of the tournament? Also worth noting is that \n",
    "this is a  comprehensive data set spanning back to the beginning of this age old tradition, [1985](https://genius.com/Bowling-for-soup-1985-lyrics)\n",
    "I assumed that modern day hoops are a different beast from the game during the time of the 45 second [shot clock](https://www.vuhoops.com/2010/07/27/cats-owls-and-the-story-of-the-shot-clock),\n",
    "so I chose to consider the 16 most recent tournaments from 2003 onward.\n"
   ]
  },
  {
   "cell_type": "code",

   "execution_count": 5,

   "metadata": {},
   "outputs": [
    {
     "data": {
      "text/html": [
       "<div>\n",
       "<style scoped>\n",
       "    .dataframe tbody tr th:only-of-type {\n",
       "        vertical-align: middle;\n",
       "    }\n",
       "\n",
       "    .dataframe tbody tr th {\n",
       "        vertical-align: top;\n",
       "    }\n",
       "\n",
       "    .dataframe thead th {\n",
       "        text-align: right;\n",
       "    }\n",
       "</style>\n",
       "<table border=\"1\" class=\"dataframe\">\n",
       "  <thead>\n",
       "    <tr style=\"text-align: right;\">\n",
       "      <th></th>\n",
       "      <th>upset</th>\n",
       "    </tr>\n",
       "    <tr>\n",
       "      <th>Round</th>\n",
       "      <th></th>\n",
       "    </tr>\n",
       "  </thead>\n",
       "  <tbody>\n",
       "    <tr>\n",
       "      <th>1</th>\n",
       "      <td>130</td>\n",
       "    </tr>\n",
       "    <tr>\n",
       "      <th>2</th>\n",
       "      <td>74</td>\n",
       "    </tr>\n",
       "    <tr>\n",
       "      <th>3</th>\n",
       "      <td>37</td>\n",
       "    </tr>\n",
       "    <tr>\n",
       "      <th>4</th>\n",
       "      <td>33</td>\n",
       "    </tr>\n",
       "    <tr>\n",
       "      <th>5</th>\n",
       "      <td>6</td>\n",
       "    </tr>\n",
       "    <tr>\n",
       "      <th>6</th>\n",
       "      <td>3</td>\n",
       "    </tr>\n",
       "  </tbody>\n",
       "</table>\n",
       "</div>"
      ],
      "text/plain": [
       "       upset\n",
       "Round       \n",
       "1        130\n",
       "2         74\n",
       "3         37\n",
       "4         33\n",
       "5          6\n",
       "6          3"
      ]
     },

     "execution_count": 5,

     "metadata": {},
     "output_type": "execute_result"
    }
   ],
   "source": [
    "data = data.query('Year >= 2003')\n",
    "data[['upset', 'Round']].groupby(['Round']).agg('sum')"
   ]
  },
  {
   "cell_type": "markdown",
   "metadata": {},
   "source": [
    "It looks like there have been three finals upsets in the 16 year period since 2003. How many games had _upset potential_ during this period?"
   ]
  },
  {
   "cell_type": "markdown",
   "metadata": {},
   "source": [
    "To answer this, we can't just simply count games by round. Remember, we only want to count games where an upset was _possible_. So we\n",
    "should really be excluding all rows where favorite = -1 (recall our definition of this earlier, it simply means the game \n",
    "showcased two teams of the same seed, so there was no possibility that an upset could even occur)."
   ]
  },
  {
   "cell_type": "code",

   "execution_count": 6,

   "metadata": {},
   "outputs": [
    {
     "data": {
      "text/html": [
       "<div>\n",
       "<style scoped>\n",
       "    .dataframe tbody tr th:only-of-type {\n",
       "        vertical-align: middle;\n",
       "    }\n",
       "\n",
       "    .dataframe tbody tr th {\n",
       "        vertical-align: top;\n",
       "    }\n",
       "\n",
       "    .dataframe thead th {\n",
       "        text-align: right;\n",
       "    }\n",
       "</style>\n",
       "<table border=\"1\" class=\"dataframe\">\n",
       "  <thead>\n",
       "    <tr style=\"text-align: right;\">\n",
       "      <th></th>\n",
       "      <th>upset</th>\n",
       "    </tr>\n",
       "    <tr>\n",
       "      <th>Round</th>\n",
       "      <th></th>\n",
       "    </tr>\n",
       "  </thead>\n",
       "  <tbody>\n",
       "    <tr>\n",
       "      <th>1</th>\n",
       "      <td>512</td>\n",
       "    </tr>\n",
       "    <tr>\n",
       "      <th>2</th>\n",
       "      <td>256</td>\n",
       "    </tr>\n",
       "    <tr>\n",
       "      <th>3</th>\n",
       "      <td>128</td>\n",
       "    </tr>\n",
       "    <tr>\n",
       "      <th>4</th>\n",
       "      <td>64</td>\n",
       "    </tr>\n",
       "    <tr>\n",
       "      <th>5</th>\n",
       "      <td>24</td>\n",
       "    </tr>\n",
       "    <tr>\n",
       "      <th>6</th>\n",
       "      <td>11</td>\n",
       "    </tr>\n",
       "  </tbody>\n",
       "</table>\n",
       "</div>"
      ],
      "text/plain": [
       "       upset\n",
       "Round       \n",
       "1        512\n",
       "2        256\n",
       "3        128\n",
       "4         64\n",
       "5         24\n",
       "6         11"
      ]
     },

     "execution_count": 6,

     "metadata": {},
     "output_type": "execute_result"
    }
   ],
   "source": [
    "data.query('favorite != -1')[['upset', 'Round']].groupby(['Round']).agg('count')"
   ]
  },
  {
   "cell_type": "code",
   "execution_count": 7,

   "metadata": {},
   "outputs": [
    {
     "data": {
      "text/html": [
       "<div>\n",
       "<style scoped>\n",
       "    .dataframe tbody tr th:only-of-type {\n",
       "        vertical-align: middle;\n",
       "    }\n",
       "\n",
       "    .dataframe tbody tr th {\n",
       "        vertical-align: top;\n",
       "    }\n",
       "\n",
       "    .dataframe thead th {\n",
       "        text-align: right;\n",
       "    }\n",
       "</style>\n",
       "<table border=\"1\" class=\"dataframe\">\n",
       "  <thead>\n",
       "    <tr style=\"text-align: right;\">\n",
       "      <th></th>\n",
       "      <th>upset</th>\n",
       "    </tr>\n",
       "    <tr>\n",
       "      <th>Round</th>\n",
       "      <th></th>\n",
       "    </tr>\n",
       "  </thead>\n",
       "  <tbody>\n",
       "    <tr>\n",
       "      <th>1</th>\n",
       "      <td>512</td>\n",
       "    </tr>\n",
       "    <tr>\n",
       "      <th>2</th>\n",
       "      <td>256</td>\n",
       "    </tr>\n",
       "    <tr>\n",
       "      <th>3</th>\n",
       "      <td>128</td>\n",
       "    </tr>\n",
       "    <tr>\n",
       "      <th>4</th>\n",
       "      <td>64</td>\n",
       "    </tr>\n",
       "    <tr>\n",
       "      <th>5</th>\n",
       "      <td>32</td>\n",
       "    </tr>\n",
       "    <tr>\n",
       "      <th>6</th>\n",
       "      <td>16</td>\n",
       "    </tr>\n",
       "  </tbody>\n",
       "</table>\n",
       "</div>"
      ],
      "text/plain": [
       "       upset\n",
       "Round       \n",
       "1        512\n",
       "2        256\n",
       "3        128\n",
       "4         64\n",
       "5         32\n",
       "6         16"
      ]
     },

     "execution_count": 7,

     "metadata": {},
     "output_type": "execute_result"
    }
   ],
   "source": [
    "# includes games without upset potential\n",
    "data[['upset', 'Round']].groupby(['Round']).agg('count')"
   ]
  },
  {
   "cell_type": "markdown",
   "metadata": {},
   "source": [
    "It looks like there have been 5 finals since 2003 showcasing tied seeds, and 12 final fours showcasing tied seeds. This makes\n",
    "sense! Given the structure of the tournament it would be impossible for a game to feature tied seeds in any of the first four rounds. We'll want\n",
    "to exclude these \"tied seed\" games from our 'upset percentage' analysis, since we want to pose the question, \"Given that an upset _is possible_, how likely is it to occur\", and not \"how likely is an upset to occur?\" It's a subtle difference, but the\n",
    "distinction could mean the difference between glorious victory and office shame.  "
   ]
  },
  {
   "cell_type": "markdown",
   "metadata": {},
   "source": [
    "Now that we've excluded games featuring tied seeds, we can merge _actual upsets_ with candidate upset\n",
    "matches. There is probably a more pythonic way to do this, I am currently accepting pull requests :)"
   ]
  },
  {
   "cell_type": "code",

   "execution_count": 8,

   "metadata": {},
   "outputs": [
    {
     "data": {
      "text/html": [
       "<div>\n",
       "<style scoped>\n",
       "    .dataframe tbody tr th:only-of-type {\n",
       "        vertical-align: middle;\n",
       "    }\n",
       "\n",
       "    .dataframe tbody tr th {\n",
       "        vertical-align: top;\n",
       "    }\n",
       "\n",
       "    .dataframe thead th {\n",
       "        text-align: right;\n",
       "    }\n",
       "</style>\n",
       "<table border=\"1\" class=\"dataframe\">\n",
       "  <thead>\n",
       "    <tr style=\"text-align: right;\">\n",
       "      <th></th>\n",
       "      <th>upset_candidates</th>\n",
       "      <th>actual_upsets</th>\n",
       "      <th>upset_pct</th>\n",
       "    </tr>\n",
       "    <tr>\n",
       "      <th>Round</th>\n",
       "      <th></th>\n",
       "      <th></th>\n",
       "      <th></th>\n",
       "    </tr>\n",
       "  </thead>\n",
       "  <tbody>\n",
       "    <tr>\n",
       "      <th>1</th>\n",
       "      <td>512</td>\n",
       "      <td>130</td>\n",
       "      <td>0.253906</td>\n",
       "    </tr>\n",
       "    <tr>\n",
       "      <th>2</th>\n",
       "      <td>256</td>\n",
       "      <td>74</td>\n",
       "      <td>0.289062</td>\n",
       "    </tr>\n",
       "    <tr>\n",
       "      <th>3</th>\n",
       "      <td>128</td>\n",
       "      <td>37</td>\n",
       "      <td>0.289062</td>\n",
       "    </tr>\n",
       "    <tr>\n",
       "      <th>4</th>\n",
       "      <td>64</td>\n",
       "      <td>33</td>\n",
       "      <td>0.515625</td>\n",
       "    </tr>\n",
       "    <tr>\n",
       "      <th>5</th>\n",
       "      <td>24</td>\n",
       "      <td>6</td>\n",
       "      <td>0.250000</td>\n",
       "    </tr>\n",
       "    <tr>\n",
       "      <th>6</th>\n",
       "      <td>11</td>\n",
       "      <td>3</td>\n",
       "      <td>0.272727</td>\n",
       "    </tr>\n",
       "  </tbody>\n",
       "</table>\n",
       "</div>"
      ],
      "text/plain": [
       "       upset_candidates  actual_upsets  upset_pct\n",
       "Round                                            \n",
       "1                   512            130   0.253906\n",
       "2                   256             74   0.289062\n",
       "3                   128             37   0.289062\n",
       "4                    64             33   0.515625\n",
       "5                    24              6   0.250000\n",
       "6                    11              3   0.272727"
      ]
     },
     "execution_count": 8,
     "metadata": {},
     "output_type": "execute_result"
    }
   ],
   "source": [
    "# Since 2003\n",
    "all_potentially_upset_games = data.query('favorite != -1')[['upset', 'Round']].groupby(['Round']).agg('count')\n",
    "all_upsets = data[['upset', 'Round']].groupby(['Round']).agg('sum')\n",
    "upset_pct = pd.concat([all_potentially_upset_games, all_upsets], axis=1, ignore_index=True)\n",
    "upset_pct = upset_pct.rename(columns = {0: \"upset_candidates\", \n",
    "                                  1:\"actual_upsets\" \n",
    "                                  })\n",
    "upset_pct['upset_pct'] = upset_pct['actual_upsets']/upset_pct['upset_candidates']\n",
    "upset_pct"
   ]
  },
  {
   "cell_type": "markdown",
   "metadata": {},
   "source": [
    "Well what do we have here? Honestly, I would have expected to see more upsets early on and fewer upsets later on in the \n",
    "tournament. Shockingly though, historical upset rates are pretty constant, hovering around the 25% mark. But in the elite eight\n",
    "(round 5) that stat essentially doubles to 50% ! This is an important observation for those of us working on filling out a \n",
    "bracket --it means that we may want to think about choosing a few extra upsets in the elite eight. Side note, this year Duke, \n",
    "Gonzaga, and Kentucky all sufferred elite eight losses (75% of games resulted in upsets.) Seems like a pretty powerful insight \n",
    "to me!"
   ]
  },
  {
   "cell_type": "markdown",
   "metadata": {},
   "source": [
    "The next thing I want to look at is a distribution of winning seeds by round. It's all well and good to be looking at upset\n",
    "rates, but our task is to select _the right_ upsets. So we have to be smart about where we lay down our cards."
   ]
  },
  {
   "cell_type": "code",

   "execution_count": 9,

   "metadata": {},
   "outputs": [
    {
     "data": {
      "text/plain": [

       "<matplotlib.axes._subplots.AxesSubplot at 0x21b9f7139b0>"
      ]
     },
     "execution_count": 9,
     "metadata": {},
     "output_type": "execute_result"
    },
    {
     "data": {
      "image/png": "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\n",
      "text/plain": [
       "<Figure size 432x288 with 1 Axes>"
      ]
     },
     "metadata": {
      "needs_background": "light"
     },
     "output_type": "display_data"
    }
   ],
   "source": [
    "# there are an average of about 18 upsets per tournament. The distribution looks somewhat bimodal\n",
    "yearly_upset_counts = data.query('Year >= 2003 & favorite != -1')[['upset', 'Year']].groupby(['Year']).agg('sum')['upset']\n",
    "sn.distplot(yearly_upset_counts)"
   ]
  },
  {
   "cell_type": "code",

   "execution_count": 10,

   "metadata": {},
   "outputs": [
    {
     "data": {
      "text/plain": [

       "<matplotlib.axes._subplots.AxesSubplot at 0x21b9fa36be0>"
      ]
     },
     "execution_count": 10,

     "metadata": {},
     "output_type": "execute_result"
    },
    {
     "data": {
      "image/png": "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\n",
      "text/plain": [
       "<Figure size 432x288 with 1 Axes>"
      ]
     },
     "metadata": {
      "needs_background": "light"
     },
     "output_type": "display_data"
    }
   ],
   "source": [
    "# in the tournament, it looks like 11 seeds commit the most upsets! FOllowed by 9, 10, and 12 seeds.\n",
    "# we'll talk more about which seeds they are likely to upset and when they are most likely to commit those upsets\n",
    "upsetters = data.query('upset == 1')[['winning_seed', 'Round']]\n",
    "sn.distplot(upsetters['winning_seed'])\n",
    "upsetters['winning_seed'].value_counts()\n",
    "sn.countplot(x=upsetters['winning_seed'])"
   ]
  },
  {
   "cell_type": "code",

   "execution_count": 11,

   "metadata": {},
   "outputs": [
    {
     "data": {
      "text/plain": [

       "<matplotlib.axes._subplots.AxesSubplot at 0x21b9fb0a588>"
      ]
     },
     "execution_count": 11,

     "metadata": {},
     "output_type": "execute_result"
    },
    {
     "data": {

      "image/png": "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\n",

      "text/plain": [
       "<Figure size 432x288 with 1 Axes>"
      ]
     },
     "metadata": {
      "needs_background": "light"
     },
     "output_type": "display_data"
    }
   ],
   "source": [
    "# similarly, we can visualize which seeds _get upset_ and it seems to be 2 seeds, followed closely by 1 seeds\n",
    "# interestingly 4 seeds are upset more often than 3 seeds\n",
    "# One thing to note is that 8 seeds are upset MUCH more often than 9 seeds\n",
    "# we'll dig into whether 8 seeds are upset mainly by 9 seeds in the first round, or by lower seeds later on in the tournament\n",
    "#it looks like 11 seeds commit the most upsets! FOllowed by 9, 10, and 12 seeds.\n",
    "# we'll talk more about which seeds they are likely to upset and when they are most likely to commit those upsets\n",
    "upsetters = data.query('upset == 1')[['favorite', 'Round']]\n",
    "sn.countplot(x=upsetters['favorite'])"
   ]
  },
  {
   "cell_type": "markdown",
   "metadata": {},
   "source": [
    "Let's take a second to understand what we're looking at here. We have a nice distribution broken out by round looking\n",
    "at winning seeds throughout the tournament. In the finals specifically, we can see that 3 seeds have bested a 2-seed twice,\n",
    "and a 2 seed overthrew a mighty 1-seed once in 2016. I'd like to see a heatmap informing _which_ upset matchups are the \n",
    "most common (how likely is a 13 seed to displace a 4 seed vs a 5 seed over a 4 seed for example?) Luckily seaborn has a \n",
    "nice heatmap functionality we can take advantage of in order to visualize this."
   ]
  },
  {
   "cell_type": "code",
   "execution_count": 12,
   "metadata": {},
   "outputs": [
    {
     "data": {
      "image/png": "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\n",
      "text/plain": [
       "<Figure size 432x288 with 2 Axes>"
      ]
     },
     "metadata": {
      "needs_background": "light"
     },
     "output_type": "display_data"
    }
   ],
   "source": [
    "# Let's focus on Round 1\n",
    "favs = [1, 2, 3, 4, 5, 6, 7, 8]\n",
    "underdogs = [16, 15, 14, 13, 12, 11, 10, 9]\n",
    "upset_rate = []\n",
    "occurences = []\n",
    "round1 = data.query('Round == 1')\n",
    "for i in range(1,9):\n",
    "    matchups = round1[round1['favorite'] == i].shape[0]\n",
    "    upsets = round1[round1['favorite'] == i][['upset']].agg('sum')\n",
    "    upset_rate.append(float(upsets/matchups))\n",
    "    occurences.append(float(matchups))\n",
    "\n",
    "round1_upsets = pd.DataFrame(\n",
    "    {'favorite': favs,\n",
    "     'underdog': underdogs,\n",
    "     'upset_rate': upset_rate,\n",
    "     'occurences': occurences\n",
    "    })\n",
    "\n",
    "upsets = round1_upsets.pivot(\"favorite\", \"underdog\", \"upset_rate\")\n",
    "ax = sn.heatmap(upsets, annot=True,)"
   ]
  },
  {
   "cell_type": "code",
   "execution_count": 13,
   "metadata": {},
   "outputs": [
    {
     "data": {
      "image/png": "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\n",
      "text/plain": [
       "<Figure size 432x288 with 2 Axes>"
      ]
     },
     "metadata": {
      "needs_background": "light"
     },
     "output_type": "display_data"
    }
   ],
   "source": [
    "# Plot of matchup frequency as a sanity check to verify that each of the 16 initial round matchups occur exactly 64 times\n",
    "# In our 16 year data set where each matchup occurs 4 times per year, we expect to see each 64 occurrences for each\n",
    "# I like to QA my analysis throughout the process to make sure I'm actually doing what I think I am \n",
    "freq = round1_upsets.pivot(\"favorite\", \"underdog\", \"occurences\")\n",
    "ax = sn.heatmap(freq, annot=True, cbar_kws={'label': 'Matchup Frequency'})"
   ]
  },
  {
   "cell_type": "markdown",
   "metadata": {},
   "source": [
    "In Round 1, it might not be a bad idea to pick your favorite 13 seed to displace a 4 seed (13s win 20% of the time.) \n",
    "I would advise just advancing all 1, 2, and 3 seeds through to the round of 32. Spend time choosing likely upsets in the\n",
    "8 v 9, 7 v 10, 6 v 11, and 5 v 12 realm. If this notebook is popular, I'll write something up about how to detect signals\n",
    "that would indicate whether a team has a good chance of upsetting an opponent. For this post, we're just looking at how\n",
    "_many_ of these upsets we want to forecast, and during which rounds and for which matchups we should forecast them. \n",
    "We'll talk about how to select from eligible upsets in another post, but the key takeaway from this data is that the best \n",
    "\"bang for your buck\" upset pick is 9 v 8, \n",
    "followed closely by 11 v 6."
   ]
  },
  {
   "cell_type": "code",
   "execution_count": 14,
   "metadata": {},
   "outputs": [
    {
     "data": {
      "image/png": "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\n",
      "text/plain": [
       "<Figure size 432x288 with 2 Axes>"
      ]
     },
     "metadata": {
      "needs_background": "light"
     },
     "output_type": "display_data"
    }
   ],
   "source": [
    "# What about round 2?\n",
    "round2 = data.query('Round == 2')\n",
    "\n",
    "favorites = list(set(round2['favorite']))\n",
    "favs = []\n",
    "underdogs = []\n",
    "\n",
    "for fav in favorites:\n",
    "    dogs = list(set(round2[round2['favorite'] == fav]['underdog']))\n",
    "    favs.extend(repeat(fav, len(dogs)))\n",
    "    underdogs.extend(dogs)\n",
    "\n",
    "\n",
    "\n",
    "upset_rate = []\n",
    "occurences = []\n",
    "for i in range(0, len(favs)):\n",
    "    \n",
    "    matchups = round2[(round2.favorite == favs[i]) & (round2.underdog == underdogs[i])].shape[0]\n",
    "    upsets = round2[(round2.favorite == favs[i]) & (round2.underdog == underdogs[i])][['upset']].agg('sum')\n",
    "    upset_rate.append(float(upsets/matchups))\n",
    "    occurences.append(float(matchups))\n",
    "\n",
    "\n",
    "    \n",
    "round2_upsets = pd.DataFrame(\n",
    "    {'favorite': favs,\n",
    "     'underdog': underdogs,\n",
    "     'upset_rate': upset_rate,\n",
    "     'occurences': occurences\n",
    "    })\n",
    "\n",
    "heat = round2_upsets.pivot(\"favorite\", \"underdog\", \"upset_rate\")\n",
    "ax = sn.heatmap(heat, annot=True, cbar_kws={'label': 'Upset Rate'})"
   ]
  },
  {
   "cell_type": "code",
   "execution_count": 15,
   "metadata": {},
   "outputs": [
    {
     "data": {
      "image/png": "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\n",
      "text/plain": [
       "<Figure size 432x288 with 2 Axes>"
      ]
     },
     "metadata": {
      "needs_background": "light"
     },
     "output_type": "display_data"
    }
   ],
   "source": [
    "heat = round2_upsets.pivot(\"favorite\", \"underdog\", \"occurences\")\n",
    "ax = sn.heatmap(heat, annot=True, cbar_kws={'label': 'Matchup Frequency'})"
   ]
  },
  {
   "cell_type": "markdown",
   "metadata": {},
   "source": [
    "Often when I'm filling out a bracket I get overwhelmed by the amount of reserach I'd need to do to call each game sensically.\n",
    "Usually I start out with lots of enthusiasm, quickly get overwhelmed, and then somewhat carelessly fill it out for completion\n",
    "rather than accuracy. This system offers a unique perspective on where to spend your resources. Not only can we visualize\n",
    "upset rates for each potential combination of seeds, we can also visualize the _frequency_ that each combination occurs.\n",
    "For example, if we were just looking at upset_rate, we would see that 15 seeds beat 7 seeds 50% of the time. But our\n",
    "frequency map tells us that this combination has only occurred twice in 16 years. This means that we can't be too confident\n",
    "in our 50% estimate of the upset rate since our sample size is quite small."
   ]
  },
  {
   "cell_type": "markdown",
   "metadata": {},
   "source": [
    "Notice that in Round 2 a favorite can face underdogs of various seeds. That is, if we consider 4 seeds for a moment we can see\n",
    "that they lose to 5 seeds 52% of the time, but only lose to 12 seeds 22% of the time. I chose to break out the different\n",
    "ways a favorite could be matched up against an underdog to extract exactly this distinction. If I had simply calculated\n",
    "a 4 seed's upset rate as the count of all the times they had been upset divided by the count of all the times they had made\n",
    "the second round, I would lose information about how their likelihood of being upset changes depending on the seed they face."
   ]
  },
  {
   "cell_type": "markdown",
   "metadata": {},
   "source": [
    "Before moving on to the sweet sixteen there are a few interesting observations I'd like to point out. First, a 1 v 9 upset is equally as\n",
    "likely as a 1 v 8 upset (14%). Not altogether surprising, but interesting to see identical upset rates given that both matchups\n",
    "have occurred relatively frequently over the past 16 years. Also interesting to note that 3 seeds are more likely to be \n",
    "upset by 11 seeds than 6 seeds!  (38% vs 27%)! Lastly, in the 33 occurences\n",
    "where a 4 seed has played a 5 seed, 5 seeds actually win slightly more often (52%). The most commonly occuring matchup in \n",
    "Round 2 is a 2 v 7 showdown, and 7's take the cake 38% of the time. These are some interesting insights! Let's see what \n",
    "we can learn from the sweet sixteen."
   ]
  },
  {
   "cell_type": "code",
   "execution_count": 16,
   "metadata": {},
   "outputs": [
    {
     "data": {
      "image/png": "iVBORw0KGgoAAAANSUhEUgAAAWsAAAEKCAYAAADU7nSHAAAABHNCSVQICAgIfAhkiAAAAAlwSFlzAAALEgAACxIB0t1+/AAAADl0RVh0U29mdHdhcmUAbWF0cGxvdGxpYiB2ZXJzaW9uIDMuMC4zLCBodHRwOi8vbWF0cGxvdGxpYi5vcmcvnQurowAAIABJREFUeJzt3Xd8VFXawPHfMyl06ZCQgICgooigNMsiNkBUwHcVRVBk1eyuvWJjxS6WddWVVXDtBWRdV0HZpdgABSkKSJHe0ghFQGqSmef9Yy5h0idk7pTk+fK5n8xtzz0Tkidnzj33HFFVjDHGRDdPpAtgjDGmfJasjTEmBliyNsaYGGDJ2hhjYoAla2OMiQGWrI0xJgZYsjbGmBATkTdFJEdElpWyX0TkZRFZKyJLReS08mJasjbGmNB7G+hXxv6LgPbOkga8Wl5AS9bGGBNiqjoL2FnGIQOBd9VvHtBARJLLihkfygKGmCuPVt7V+io3wjI3b6srcQviZ3ztanwTe+ITUyJdhArLz81wK7RUNkDe9vVB55zEpsf9EX+N+LDxqjq+ApdLAbYErKc727JKOyGak7UxxkQlJzFXJDkXVdIflzL/WFiyNsYYAJ83nFdLB1oGrKcCmWWdYG3WxhgD4M0Pfqm8ycC1Tq+QnsBuVS21CQSsZm2MMQCo+kIWS0QmAL2BJiKSDowGEvzX0deAqUB/YC2wHxhRXkxL1sYYA+ALXbJW1SHl7Ffg5orEtGRtjDEAIaxZu8GStTHGQLhvMFZYtb3BeOI5p3L/ly/w4Dcvct6fBxTbf871/Rk543nu+e8z/OmDUTRMaVKw75L7r+beac9x77Tn6HzJGcXO7dm7GxNnvcO/5rzPNTcX/zTUuUcn3v7fOGZvmsm5F/cqtG/O5pm8M/113pn+Os++9UQI3qmp7vr26c3yZbP4ZcUcRt5boU/eEYkbMeoLfomAalmzFo/wf4/9gdeGPcnu7B3cOfkpls9YxNa1RzrsZ6zYyN8ufZC8g7mcOexCLnlgKO/d8hIdzu1Cysmt+Wv/+4hPTODmjx5m5TeL4Vf/eR6Ph7ufvJ3bh9xLTtY23pz6GrOnf8/GNZsKYmdnbOXxO59h6J+uLFa2QwdzGd7nRte/B6Z68Hg8vPzSk/TrP4T09CzmzZ3KlM+ns3LlmqiMG0kaml4erqmWNetWnduxfVM2O7fk4M3z8tOU7+nYp2uhY9bOXUHewVwANv20hgZJjQBIap/Cuh9W4vP6yD1wiMyVmznxnFMLzjupy4mkb8wkc3MW+Xn5zPzsK3r1PatQ7Oz0raxbuR5fCG9oGFOS7t26sG7dRjZs2ExeXh6TJn3GgEv7Rm3ciPL5gl8ioFom6/rNG7Erc0fB+q6sndRv3qjU43sMPtdfewYyVm6mQ+/OJNRMpE7DerQ74yQaJDcuOLZpUhNyMnMK1nOyttE0qUmxmKVJrJHIm1Nf4/UpY4sleWMqqkVKElvSjzxrkZ6RRYsWSVEbN6KsGaQwERmhqm+Vsi8N53n7cePGkZaWVtJhIShD8W2lzfJ++qCzadmpLa9c+SgAq2cvpVWnttz2yWPs3bGHjT+uwec98p8nJQSvyAzyl3W/ku1bd9CiVTKvTHqBdb9sIGNTmQ82GVOqyv48hjtuREX5DcZItFk/CpSYrIs8b+/a//yu7J00aHGkNtwguRF7cn4tdlz7szpywS2XMfbKR/HmHmnPmjn2U2aO/RSAYS/dyvYNRx48ysnaRrMWzQrWmyU3ZfvWI7X48hw+NnNzFj/OXczxHdtZsjZHLSM9i5apLQrWU1OSycqq/KBjbsWNqCjvuudKM4gzmHZJy89AczeuWRFblqyjaeskGqU2JS4hji6XnsmyGYsKHZNycmuueOpG3rjhOfbu2FOwXTxC7QZ1AUg+sRXJJ7Zi1eylBftXLv6Flm1SSG6ZRHxCPBcMPI/Z078Pqlz16tclITEBgPoNj6FTt45sWL2pnLOMKd2ChYtp164NrVu3JCEhgcGDBzLl8+lRGzeiwvu4eYW5VbNuDvSloI9EAQGCy1wu8nl9fPLwW6S9+yCeOA/zJ33N1jXp9LvzCrb8vJ7lMxdx6QNDqVG7BsP/cQcAv2Zs580bnycuIZ5b/vUIAIf2HuCDO18p1Azi9fr466iXefHDZ/F4PHz+0X/ZsHojN94zgpVLVjFnxvd0OPUExrzxOPXq1+XsC8/ghrtHMPS8EbRufyz3jbkLnyoeEd57ZUKhXiTGVJTX6+X2O0Yx9YsPifN4ePudj1ixYnXUxo2oKL/hL260M4nIG8BbqjqnhH0fqurVQYSx8awD49t41qYIG8+6kEqPZ31wydSgc07NU/tX+noV5UrNWlWvL2NfMInaGGPCK8rbrKvlQzHGGFNMlDeDWLI2xhiwmrUxxsQEb16kS1AmS9bGGAPWDGKMMTHBmkGMMSYGWM366IxLHeZK3BOIZ1V8dA+FWNSO3N84vmnX8g88Cqu3LXQlrvHr3uIc12Kf1qQdP25f61r8aseSdfR5YePESBehQtxK1Cb2ufiQSbWjdoPRGGNigLVZG2NMDLBmEGOMiQFWszbGmBhgNWtjjIkBVrM2xpgYkB/dXXqjfsLclr07ceW3z3HVnL/S+eZLi+3vMOw8Lp/5NL+f9iQDPvkLDdr7pxryxMfR+29/5PKZTzP462dKPDeW/e68M/jf3H8zY/5/SLtteLH9Xc/own++fJ8VWfPoe+n5ESihCdSzd3f+Nfs9/v3dB1x7S/FRgrv06MS7017n+81fct7Fxftm16lbm88Xfcw9T94ejuJWT1E+YW5UJ2vxCGc9MZyp1zzLpHNH0m5gz4JkfNjaT+fy8QUP8O++D7Hk1S84c7T/YZq2l3QnLjGejy94gE8u+gsnDTuPuqnBzzIezTweD6PH3MeNV91G/7Ou4JLL+nLc8W0KHZOVns39tz7C5/+eFqFSmsM8Hg8jn7qD24eO5Mrew+k78HzatD+20DHZGTk8dsfTTP/PlyXG+OPI6/lp3pJwFLf68vmCXyIgqpN1s87HsWfjVn7bvA1fnpe1n82jdZ/TCx2Tt/dAwev42jUKZlhWhYTaNZA4D3E1E/Hm5Rc6NpZ1Ou1kNm3cwpZNGeTl5fPFp9O54KLCtbGMLVmsWrEWX5S3w1UHJ3fpQPrGDDI3Z5Gfl8/0z76iV9+zCx2TlZ7N2pXr8ZWQCE485XgaNW3IvG8XhKvI1VN1rVmLyIkicr6I1C2yvV+wMWonN2Rv1s6C9X3ZO6mT3LDYcScPv4Cr5vyVng9dxXcPvwvAhi/mk7f/ENf8+ApD57/I0nFTObRr31G/n2jSPLkZ2RlHphHLzsyheXKzMs4wkdQ0qQlbM3MK1nOyttE0ObhPeSLC7aNv4uXHX3WreOaw6lizFpHbgM+AW4FlIjIwYPdTQccpaVq1EmZJW/7OTCaefTc/PDWR024bBEDTzm1Rn4/3T7+VD8+4i05p/anXqmmF3ke0kpK+LS7MpWlCQ0r8Dwvu3MuvG8T3X/1ATua20BbKFBflNWu3eoPcCJyuqntFpDXwsYi0VtWXKGNiSxFJA9IAhjboTvOsdtRNblSwv05SI/ZlF50w/Yi1n83j7KdGANB+0Jls+WYpvnwvB3fsIXvBapp2astvm2P/hz47M4eklOYF60ktmpGTHfvvq6rKydpG8xZHPvk0S27KtuztQZ17yukn07lHJ34/fCC169QiPiGBA/sOMPap8W4Vt/qqpr1B4lR1L4CqbgR6AxeJyAuUkaxVdbyqdlXVrr+r056cJeup3yaJei2b4kmIo93Anmya8WOhc45pcyRpHXt+Z/ZsyAbgt8wdpJx5MgDxtWrQ/LR27FqXGdI3GSk//7SC1m1aktqqBQkJ8Vw8qA9f/m9WpItlSrFi8S+0bJNKi5ZJxCfE02fgecye/l1Q5z58yxMM6DaYQT2u4qXHXmXqx9MsUbtFNfglAtyqWWeLSGdVXQzg1LAvAd4ETgk2iHp9zPnLO/T/YCTi8bDqo2/5dXUGXe/5PduWbGDTjB/peF0fUs4+GV++l0O79/H1neMAWP72DHq/kMYVX45BRFg1aRY7V25x5c2Gm9fr5bEHnuONSX8nzhPHxxMms3bVem67748sW7ySr6bN4pTOJzH2nec4pv4xnNvnd9w2Mo2Lf3dlpIteLXm9Xp576EVe/vB5PHEepkycyvrVG0m79w+sXPILs6d/T4dTT+TZNx7nmAb1+N2FZ5J2zwiuOve6SBe9eonyJxjFjbZOEUkF8lU1u4R9Z6lqudWKcanDXPvz9cf0990K7Qo3h0i18azd5eZ41gDzM791NX4MKfUTe7AOfPCXoHNOraGPV/p6FeVKM4iqppeUqJ19wX3+M8aYcArhDUYR6Sciq0RkrYjcX8L+ViLytYj8JCJLRaR/eTHtcXNjjAHwekMSRkTigLHAhUA6sEBEJqvqioDDRgGTVPVVETkJmAq0LiuuJWtjjIFQtll3B9aq6noAEZkIDAQCk7UCxziv6wPl9n6wZG2MMVChZB3YzdgxXlUPd9NJAQJ7M6QDPYqEeASYLiK3AnWAC8q7piVrY4yBCj3s4iTm0vpQlnTzsejNyyHA26r6VxE5A3hPRDqqll4IS9bGGAOoL2Qd0NKBlgHrqRRv5rge6AegqnNFpCbQBMihFFE9kJMxxoRN6MYGWQC0F5E2IpIIXAVMLnLMZuB8ABHpANQEynwM2WrW1dgrnnZMb36VK7H7bJ3oSly3XNrqElfiNo+vx9b831yJHWviE1Nci52fm1H5ICHqDaKq+SJyCzANiAPeVNXlIvIYsFBVJwN3A6+LyJ34m0iu03IeeonaZB1rD664ya0HV9xK1KYwe3AlRoTwCUZVnYq/O17gtocDXq8AzqpIzKhN1sYYE1ZR/ri5JWtjjIGIDdAULEvWxhgDVrM2xpiYELque66wZG2MMRCy3iBusWRtjDGAWjOIMcbEgChvBrEnGA2Nzz2Vs757gbPnvUjrWweUelzzS3rQZ+tEjjm1LQA1Wzbl/I3v0vPLMfT8cgwdnr0+XEUOi9POOY1Xv36NcbPGc/lNlxfbP/CGQYz98h+8PO3vPDHhSZqmVI0JmSOtb5/eLF82i19WzGHkvTeH78LVdMJcEys8Qocxf2DR4Cc5mLmDntOeYtu0RexbXfiJsLg6NWl1Qz92LVpTaPuBTVuZd36xsdVjnsfj4U9P/Jm/DB3FjqwdvDDlb/ww4we2rDkymNr65eu46+I7OXTwEBcNu4gRD47g2ZufjWCpY5/H4+Hll56kX/8hpKdnMW/uVKZ8Pp2VK9eUf3JlVdeatYh0F5FuzuuTROSuYGZDMOFV/7R27N+QzYFNOWiel+xPv6dZv+LTiLW7fzAbxk7BdzAvAqUMv/adjydrYxZbN28lPy+fWVNm0aNPz0LH/Dz3Zw4dPATAqp9W0Ti5SSSKWqV079aFdes2smHDZvLy8pg06TMGXNo3PBfP9wa/RIAryVpERgMvA6+KyNPAK0Bd4H4ReciNa5qjUzOpEQczdxSsH8zcSY2kRoWOqdexNTVbNGZ7kZnlAWq1akrPmU/T9T8P06DHia6XN1waJzVme+aRcXV2ZG2ncfPGpR5/4ZV9WPT1onAUrUprkZLElvQjA9SlZ2TRokVSeC4e5c0gbtWsL8f/3Hsv4GZgkKo+BvQFSp1iW0TSRGShiCwcP760oWJNSJU47WfAx0ERTnjsWlY9UnyslkNbf2XWabcw74IHWDX6PTq9eitxdWu5VtRwkhK+L6WNs9P7st6069SOT8b92+VSVX1SwjfejUm9S+TT4JcIcKvNOl9VvcB+EVmnqnsAVPWAiJT6Z6nIgN7R3YBURRzM2knNFkdqjDVbNOJQ9q8F6/F1a1L3xFS6feIfgyaxWX06v3sPi699nj1L1pOXuxeA35ZuYP/GrdQ5Lpk9S9aH9024YHvWDpq0OHLDsHFyE3bm7Cx23Klnn8rgW67kgcH3k5+bH84iVkkZ6Vm0TG1RsJ6akkxW1tawXDvau+65VbPOFZHazuvTD28UkfpAdH9Hqpk9P62jdtskarVqiiTEkTToTHKmHfk4n//bAb45KY3Z3W5ldrdb2b1obUGiTmhcDzz+mlCtY5tRu20S+zeF5xfLbWuWrKZFmxY0b9mc+IR4el3ai/kzfih0TNuT23Lz07fw+PWPs3vH7giVtGpZsHAx7dq1oXXrliQkJDB48ECmfD49PBevpjXrXqp6CKDINDUJwHCXrmmOgnp9/PLAW5w28UEkzkPGhK/Ztyqd40ZewZ4l69k2rfR22IY9O9Bu5BWo14d6fawc+U/yd+0LY+nd4/P6eO0vr/Hoe4/hifMw86MZbF69maF3DWXNz2uYP2M+Ix76AzVr1+T+V/29YbZlbuOJ6x+PcMljm9fr5fY7RjH1iw+J83h4+52PWLFidXguHuW9QSRs7UEVF7UFqyrcHM/aJh84Ysrmz12LHUtcnnygxLsvFbH3rgFB55y6L0yu9PUqyvpZG2MMIZ2D0RWWrI0xBqK+GcSStTHGgI1nbYwxMcFq1sYYEwMsWRtjTPRTrzWDmGqmUcJBFqYOinQxKmQ08TzqsScQqzWrWZto5VZf6FhL1IdZf2h35edmlH9QBFnXPWOMiQWWrI0xJgZEd5O1JWtjjAHQ/OjO1pasjTEGrGZtjDGxwG4wGmNMLLCatTHGRD+rWRvjOKZ3F1o9egPEedg+YQbZYz8ptL/xFeeROmo4edn+6bNy3v6C7RNmRiyuqWasZm0M4PHQ6ok/svrq0eRl7aDDF8+xa/p8Dq5JL3TYr1PmsHnU65GPa6odjfIHWN2ag7EYEXk3XNcy0adO5/Yc2phF7uataF4+Oz+bQ4M+PaI2rql+1Bf8Egmu1KxFZHLRTcC5ItIAQFUHuHFdE70SkxuRm7W9YD03ewd1u7QvdlyDi86gbo+TObg+ky2PvElewDnhjGuqoRAmYRHpB7wExAH/VNUxJRwzGHgE/xSGS1T16rJiulWzTgX2AC8Af3WW3wJel0hE0kRkoYgsHD9+vEtFM5FRfMq6otN/7pqxgJ/PSGPFhXfw2+wltHnxtgjGNdVNqGrWIhIHjAUuAk4ChojISUWOaQ88AJylqicDd5RXPreSdVdgEfAQsFtVvwEOqOq3qvptaSep6nhV7aqqXdPS0lwqmomE3KwdJCY3KVhPTGpccMPvMO+u39Bcf8Phtg9nUPuU4yIW11Q/IWwG6Q6sVdX1qpoLTAQGFjnmRmCsqv4KoKo55QV1JVmrqk9V/waMAB4SkVewm5nV2r4la6jZJpnEls2QhHgaDTybXTPmFzomoVnDgtcN+nTj4Nr0omHCFtdUP+qVoJfAVgBnCaxdpgBbAtbTnW2BjgeOF5HvRGSe02xSJlcTqKqmA1eIyMX4m0VMdeX1sfkvr3P8B6PBE8eOj2ZycPUWWtwzhH1L1rJ7xgKa/eFiGlzYHfV6yd+1l413vhy5uKbaqciNQ1UdD5TWVlu8bc7fLh0oHmgP9MbfbDxbRDqq6q7SrilatIEvekRtwUzZYnU8667pn0a6CObolZQgKyTr7HODzjnJc74u9XoicgbwiKr2ddYfAFDVpwOOeQ2Yp6pvO+tfAver6oLS4oat654xxkSzELZZLwDai0gbEUkErgKK9pD7FDgXQESa4G8WWV9WUGtHNsYYQLXSlXMnjuaLyC3ANPxd995U1eUi8hiwUFUnO/v6iMgKwAvcq6o7yoobdLIWkTqquu/o34IxxkSvUD7soqpTgalFtj0c8FqBu5wlKOU2g4jImU72X+msnyoi/wj2AsYYEwt8Xgl6iYRg2qz/BvQFdgCo6hKgl5uFMsaYcFOfBL1EQlDNIKq6RaRQAb3uFMcYYyIjUkk4WMEk6y0iciagzp3N23CaRIwxpqqI3l7MfsEk6z/hH5AkBf+TONOBm9wslIltpy5+wbXYSzoHfT/GmAqpCjXrE1R1aOAGETkL+M6dIhljTPiFquueW4K5wfj3ILcZY0zM8nol6CUSSq1ZO49Mngk0FZHAz57H4O/obYwxVUa016zLagZJBOo6x9QL2L4HuNzNQhljTLjFbJu1M+70tyLytqpuCmOZjDEm7GK2N4iIvKiqdwCviEixt2FTcxljqpKYrVkD7zlfnw9HQYwxJpK8vugehLSsZpBFzlxiN6rqsDCWyVQTo556gVnfzadRwwZ8+v5rRx3nmN5daPXoDRDnYfuEGWSP/aTQ/sZXnEfqqOEF033lvP0F2yfMrFTZTdUTs80gAKrqFZGmIpLozCVmTMgM6n8hV/9+AA8+XokPbx4PrZ74I6uvHk1e1g46fPEcu6bP5+CawlN3/TplDptHvV7JEpuqzBfDvUEO2wh8JyKTgYIhUlU16MfURORs/JNILlPV6RUtpKmaunY+hYysrZWKUadzew5tzCJ3sz/Ozs/m0KBPD7LX2DyLpmKiveteMI00mcDnzrH1ApZSicj8gNc3Aq8454wWkfuPurTGFJGY3IjcrO0F67nZO0hMblTsuAYXncFJM16k7biRJATMhm7MYarBL5FQbs1aVR8FEJF6/lXdG0TchIDXacCFqrpNRJ4H5gFjSjrJmSE4DWDcuHGkpaWVdJgxAYrXhor+Mu2asYCdn81Cc/NpOqwvbV68jdVXPlzsPFO9xXwziIh0xN8zpJGzvh24VlWXl3GaR0Qa4q+Ni6puA1DVfSKSX9pJRWYMjvLmfhMNcrN2kBhQU05MalxwI/Ew767fCl5v+3AGKQ9eG7bymdgR7b1BgindeOAuVT1WVY8F7gbKu1NTH1gELAQaiUgSgIjUJQSzEBtz2L4la6jZJpnEls2QhHgaDTybXTPmFzomoVnDgtcN+nTj4FprzzbFaQWWSAjmBmMdVf368IqqfiMidco6QVVbl7LLB1wWfPFMVXbv6DEs+Gkpu3bt4fxBw7jp+mv4/aV9KxbE62PzX17n+A9GgyeOHR/N5ODqLbS4Zwj7lqxl94wFNPvDxTS4sDvq9ZK/ay8b73zZnTdkYlq0N4OIltNaLiL/AX7kyEMyw4CuqjrI5bJZM0iMytu+3rXYbo5n3TX9U9diG9dVOtN+l3R50DnnrOyPw57Zg2kG+QPQFPgE+A/QBBjhZqGMMSbcfBVYIiGYZpDWqnqb6yUxxpgI0ii/nRZMsn5BRJKBfwETy+kFYowxMSk/ytusy20GUdVzgd7ANmC8iPwsIqPcLpgxxoSTIkEvkRBUx0JVzVbVl/FPnrsYsCcKjDFVSrS3WZebrEWkg4g8IiLL8D82/j2Q6nrJjDEmjKK9Zh1Mm/VbwASgj6pmulweY4yJiEjVmIMVzNggPcNREBN+u0dc4Frs2s+NL/+gKNIzZwEkprgSOz83w5W4JrS8sd4bRETaA08DJwE1D29X1bYulsvEuIQm7vx4uPbgikuJ2sSOKJ/VK6gbjG8BrwL5wLnAuxx5mtEYY6oEHxL0EgnBJOtaqvol/kfTN6nqI8B57hbLGGPCqyoM5HRQRDzAGhG5BcgAmrlbLGOMCa9ov8FYas1aRA43dXwG1AZuA04HrgGGu180Y4wJH59I0EsklFWzPl1EjgWG4h+/ej/+sayNMabK8Ua6AOUoq836NeB/wIn4JxI4PJnA4a/GGFNl+CT4pTwi0k9EVonI2rLmnRWRy0VERaRreTFLrVk7j5e/LCKvquqfyy+eiVXxHbtR8+qbwOMhb9Z/OTR1YrFjErqdQ42B1wKKd8t6Dox7irgTT6XWkCM/Gp7kVux/9Qnyf/o+jKUPr759evPCC48R5/Hw5lsTePa5sZEukgmRUPXyEJE4YCxwIZAOLBCRyaq6oshx9fA3L/8QTNxgHoqxRF2ViYea19zKvufvQ3duo+7DY8lb/D2+zM0Fh3iap1Dj4iHsfep22L8XqdcAAO8vS9g7+k/+MHXqUXfMO+QvXxSRtxEOHo+Hl196kn79h5CensW8uVOZ8vl0Vq5cE+mimRAIYS+P7sBaVV0PICITgYHAiiLHPQ48C9wTTFBXZogUkR4icozzupaIPCoiU0TkGRGp78Y1zdGJa3sCvpxMdFsWePPJm/8NCV3OKnRMYq/+HPrqM9jvn9hef9tVLE58117k/7wAcg+FpdyR0L1bF9at28iGDZvJy8tj0qTPGFDRachM1KpIM4iIpInIwoAlLSBUCrAlYD3d2VZARLoALVX182DL59Z0vm/ivyEJ8BL+CXSfcba95dI1zVGQhk3QnTkF676d25CGjQsd40lKJa55KnUefJE6o/5OfMduxeIk9uhN3g9fuV7eSGqRksSW9CPD46RnZNGiRVIES2RCqSKj7qnqeFXtGrAEjq9QUntKQcXd6Qr9NyrYYcOtZO1R1XzndVdVvUNV56jqo0CpzyEH/rUaPz62xpaIXSX8XBX9POiJw9M8hX3P3M3+156k1oi7oNaROZOlfiM8qW3IX1a17ztLCV22ypvD1MQOrwS/lCMdaBmwngoEDoJXD+gIfCMiG4GewOTybjIG81DM0VgmIiNU9S1giYh0VdWFInI8kFfaSc5fp8NZ2n4LwkB/3YY0OvKMk6dRU3TXjkLH+H7dhnfdSvB60e3Z+LK3EJeUinfDKgASup9D/qLvwBvtnZ8qJyM9i5apLQrWU1OSycraGsESmVAK4UMxC4D2ItIG/0OEVwFXH96pqrvxz2ULgIh8A9yjqmXWdtyqWd8AnCMi6/APADVXRNbj7699g0vXNEfBu2EVcc1SkCZJEBdPQvfe5BXpzZH/4/fEd+gMgNQ9Bk9SKr6crIL9CT3OI7eKN4EALFi4mHbt2tC6dUsSEhIYPHggUz6fHulimRAJ1eQDTqvCLcA0YCUwSVWXi8hjIjLgaMvnSs3a+ctxndM1pa1znXRVtWpItPH5OPDB36lz9xh/173Z/8OXuYkag4bj3bia/MVzyV+2gPiOp1P3iTdAfRz8aDy6bw8A0rg5nkZN8a5aGuE34j6v18vtd4xi6hcfEufx8PY7H7FixepIF8uESCinYFTVqcDUIttKnGFLVXsHE1OiuM0tagtWVbg5nnX9t2a6FtsN8S4OkWrjWYdFpVPtP1oOCzrn3LTl/bA/c+4pVs9XAAAQN0lEQVRWm7UxxsSUaL/jYsnaGGOI/skHLFkbYwzRP0SqJWtjjMGStTHGxIRo79FgydoYY7A2a2OMiQnWG8SYauxA5mzytq93LX5Ck1KH2jEV5IvyhhBL1tVYrD244ia3HlxxM1Gb0LIbjMYYEwOiu15tydoYYwCrWRtjTEzIl+iuW1uyNsYYrBnEGGNigjWDGGNMDLCue8aYco166gVmfTefRg0b8On7r0W6ONVSdKdq96b1MsZUwKD+F/LaC09EuhjVWqim9XKL1ayNiQJdO59Chk2+G1HeKK9bu1KzFpHbRKRl+UcaY0x0iPaatVvNII8DP4jIbBG5SUSaBnOSiKSJyEIRWTh+/HiXimaMMcVpBf5FglvNIOuB04ELgCuBR0VkETAB+ERVfyvpJFUdDxzO0tH9mcQYU6VEe9c9t2rWqqo+VZ2uqtcDLYB/AP3wJ3JjjIkqPjToJRLcStaFhvFW1TxVnayqQ4BWLl3TmJh17+gxDP3jnWzcnM75g4bx7ynTIl2kakcrsESCW80gV5a2Q1UPuHRNY2LWc4/eH+kiVHv5Ud7y6kqyVtXVbsQ1xhi3ROrGYbCsn7UxxhD9NxgtWRtjDFazNsaYmGA1a2OMiQFetZq1McZEPRsi1RhjYoC1WRtjYkp8YoprsfNzM1yLXVnWZm1MNZbQpG2ki2CCFO3NIDb5gDHGENpR90Skn4isEpG1IlLs8VQRuUtEVojIUhH5UkSOLS+mJWtjjMHfGyTYpSwiEgeMBS4CTgKGiMhJRQ77Ceiqqp2Aj4FnyyufJWtjjCGko+51B9aq6npVzQUmAgMDD1DVr1V1v7M6D0gtL6gla2OMoWIzxQROlOIsaQGhUoAtAevpzrbSXA/8t7zy2Q1GY4yhYl33ikyUUpSUsK3E4CIyDOgKnFPeNS1ZG2MMIe0Nkg4EzkGbCmQWPUhELgAeAs5R1UPlBbVmEGPMUenbpzfLl83ilxVzGHnvzZEuTqWpatBLORYA7UWkjYgkAlcBkwMPEJEuwDhggKrmBFM+S9bGmArzeDy8/NKTXHLpME459VyuvHIQHTq0j3SxKsWLBr2URVXzgVuAacBKYJKqLheRx0RkgHPYc0Bd4F8islhEJpcSroA1gxhjKqx7ty6sW7eRDRs2AzBp0mcMuLQvK1euiXDJjl4oH4pR1anA1CLbHg54fUFFY7qWrEXkOOAy/G03+cAaYIKq7nbrmsaY8GiRksSW9CPNsOkZWXTv1iWCJaq8IJo3IsqVZhARuQ14DagJdANq4U/ac0WktxvXNMaEj0jxDg/RnuzKU11nN78R6KeqTwAXACep6kNAP+BvpZ0U2Hdx/PjSesUYYyItIz2LlqktCtZTU5LJytoawRJVXigfN3eDm23W8YAXqAHUA1DVzSKSUNoJRfouxvafaWOqsAULF9OuXRtat25JRkY2gwcP5JprY7tHSHWdfOCfwAIRmQf0Ap4BEJGmwE6XrmmMCROv18vtd4xi6hcfEufx8PY7H7FixepIF6tSon3UPXGrnUlETgY6AMtU9ZejCBHd3zljqqgYHc+6pKcGK+SMlHODzjlzM76u9PUqyrVmEFVdDix3K74xxoRStN8gtX7WxhhD9DeDWLI2xhhsDkZjjIkJXo3uWRgtWRtjDNZmbYwxMcHarI0xJgZYm7Ux1djuERUeXK1C6r8109X41YnPmkGMMbHExQdXoprVrI0xJgZYbxBjjIkB1gxijDExwJpBjDEmBljN2hhjYoDVrI0xJgZ41RvpIpTJkrUxxmCPmxtjgPiO3ah59U3g8ZA3678cmjqx2DEJ3c6hxsBrAcW7ZT0Hxj1F3ImnUmvInwuO8SS3Yv+rT5D/0/dhLH31YI+bG1PdiYea19zKvufvQ3duo+7DY8lb/D2+zM0Fh3iap1Dj4iHsfep22L8XqdcAAO8vS9g7+k/+MHXqUXfMO+QvXxSRt1HVRXvN2q3ZzY0xjri2J+DLyUS3ZYE3n7z535DQ5axCxyT26s+hrz6D/XsB0N92FYsT37UX+T8vgNxDYSl3deNTDXqJBKtZG+MyadgE3ZlTsO7buY24404sdIwnKRWAxAdfBE8chz59l/xlCwodk9ijN4emfex+gaupaO8N4krNWkTqi8gYEflFRHY4y0pnW4MyzksTkYUisnD8+PFuFM2YCChhbtWiecETh6d5CvueuZv9rz1JrRF3Qa06RyLUb4QntQ35yxa6W9RqzKu+oJdIcKtmPQn4CuitqtkAIpIEDAf+BVxY0kmqOh44nKWj+8+cMUHSX7chjZoVrHsaNUV37Sh0jO/XbXjXrQSvF92ejS97C3FJqXg3rAIgofs55C/6DrzR3b0sllXXNuvWqvrM4UQNoKrZqvoM0MqlaxoTlbwbVhHXLAVpkgRx8SR0701ekd4c+T9+T3yHzgBI3WPwJKXiy8kq2J/Q4zxyf/gqrOWubqprm/UmERkJvKOqWwFEpDlwHbDFpWsaE518Pg588Hfq3D3G33Vv9v/wZW6ixqDheDeuJn/xXPKXLSC+4+nUfeINUB8HPxqP7tsDgDRujqdRU7yrlkb4jVRt0V6zFjcKKCINgfuBgcDhz39bgcnAGFX9NYgw0f2dMyYINvlA2JRwY6Bi6tc9Luics3vvukpfr6JcqVk7yfg+ZylEREYAb7lxXWOMOVrRXrOORD/rRyNwTWOMKVO17A0iIqU1rgnQ3I1rGmNMZVTXIVKbA32Bom3TAtigBsaYqFNdm0E+B+qq6qYiy0bgG5euaYwxR00r8K88ItJPRFaJyFoRub+E/TVE5CNn/w8i0rq8mG7dYLy+jH1Xu3FNY4ypjFDVrEUkDhiL/+G/dGCBiExW1RUBh10P/Kqq7UTkKuAZ4Mqy4tpATsYYQ0gfiukOrFXV9aqaC0zE34050EDgHef1x8D5IlJ2d0BVjfkFSIu12LEWNxbLbN8L+164+Z6BhQFLWsC+y4F/BqxfA7xS5PxlQGrA+jqgSVnXrCo167QYjB1rcd2MHWtx3Ywda3HdjO1mmStFVcerateAJXDkuZJqyEWr48EcU0hVSdbGGBMt0oGWAeupQGZpx4hIPFAf2FlWUEvWxhgTWguA9iLSRkQSgavwD7URaDL+UUjB32zylTrtIaWpKpMPuDn4tVuxYy2um7FjLa6bsWMtrpuxY3JQe1XNF5FbgGlAHPCmqi4XkceAhao6GXgDeE9E1uKvUV9VXlxXBnIyxhgTWtYMYowxMcCStTHGxICYTtYiUlNE5ovIEhFZLiIhHdFPROJE5CcR+TzEcTeKyM8islhEQjapnog0EJGPnbkvV4rIGSGIeYJTzsPLHhG5I0TlvdP5f1smIhNEpGYo4jqxb3fiLq9MeUXkTRHJEZFlAdsaicgMEVnjfG0YwthXOGX2iUjXEMZ9zvm5WCoi/ylrLtQKxn3ciblYRKaLSIsQlvkREckI+NnrfzSxq4xIdy6vZMd0wT8GCUAC8APQM4Tx7wI+BD4Pcbk3Uk4H+KOM+w5wg/M6EWgQ4vhxQDZwbAhipQAbgFrO+iTguhCVsyP+hw5q47+JPhNof5SxegGnAcsCtj0L3O+8vh94JoSxOwAn4B9Dp2sI4/YB4p3XzxxNmUuJe0zA69uA10JY5keAe0LxM1EVlpiuWavfXmc1wVlCcsdURFKBi4F/hiKe20TkGPw/8G8AqGququ4K8WXOB9ap6qYQxYsHajn9TGtTvC/q0eoAzFPV/aqaD3wLXHY0gVR1FsX7vwY+KvwOMChUsVV1paquOpp45cSd7nwvAObh7/sbirh7AlbrcJS/f6V8n02AmE7WUNBUsRjIAWao6g8hCv0iMBJwY6RxBaaLyCIRCdVTWm2BbcBbTtPNP0WkTohiH3YVMCEUgVQ1A3ge2AxkAbtVdXooYuOvVfcSkcYiUhvoT+GHFCqruapmAThfm5VzfLT5A/DfUAUTkSdFZAswFHg4VHEdtzjNLG8ebXNTVRHzyVpVvaraGX9NobuIdKxsTBG5BMhR1UWVLmDJzlLV04CLgJtFpFcIYsbj/xj5qqp2Afbh/4geEk7n/gHAv0IUryH+GmoboAVQR0SGhSK2qq7E/1F/BvA/YAmQX+ZJ1YSIPIT/e/FBqGKq6kOq2tKJeUuo4gKvAscBnfH/Qf9rCGPHnJhP1oc5H/m/AfqFINxZwAAR2Yh/xKzzROT9EMQFQFUzna85wH/wj9JVWelAesAni4/xJ+9QuQj4UZ3Z6kPgAmCDqm5T1TzgE+DMEMVGVd9Q1dNUtRf+j9drQhUb2CoiyQDO15wQxnaNiAwHLgGGqtMoHGIfAr8PVTBV3epUxnzA64Tm9yRmxXSyFpGmh+9qi0gt/Angl8rGVdUHVDVVVVvj/+j/laqGpNYnInVEpN7h1/hv/Cwr+6zyqWo2sEVETnA2nQ+sKOOUihpCiJpAHJuBniJS2xka8nxgZaiCi0gz52sr4P8IbdkDHxUeDnwWwtiuEJF++CewHqCq+0MYt33A6gBC8PsXEDs5YPUyQvB7EtMifYezMgvQCfgJWIr/P/JhF67RmxD2BsHftrzEWZYDD4Uwdmf8wzUuBT4FGoYobm1gB1A/xN/bR/H/ci8D3gNqhDD2bPx/rJYA51cizgT8H8Hz8H96uR5oDHyJv7b+JdAohLEvc14fArYC00IUdy2wBVjsLBXutVFK3H87/39LgSlASgi/F+8BPzuxJwPJofz5i7XFHjc3xpgYENPNIMYYU11YsjbGmBhgydoYY2KAJWtjjIkBlqyNMSYGWLI2UUdEvjnaEeec81sHjt5mTFVgydrEPBGJi3QZjHGbJWsTckVrtiJyjzM28Tci8owzBvlqEfmds7+WiEx0Buz5CKgVcG4fEZkrIj+KyL9EpK6zfaOIPCwic4ArROR08Y9rPhe4OeD8miLylvjHD/9JRM51ttcWkUmHrykiP1SmNm+M26rKhLkmdsSrandnIPnR+IcI+DOwX1U7iUgn4EcAEWkCjAIuUNV9InIf/jHGH3NiHVTVs51jlwK3quq3IvJcwPVuBlDVU0TkRPyjHR4P3AT86lyzI/6n+oyJWlazNuH2ifN1EdDaed0LeB9AVZfif7wYoCdwEvCdMwzucODYgFgfAYhIffwTLXzrbH8v4JizD6+r6i/AJuB4Z/tEZ/vhx6WNiVpWszZuyKdwRSBwuq5DzlcvhX/+Shr3QPCPUT6klOvsCziutHETpILbjYlKVrM2btgKNHMG/6+Bf1jOsszCP3A9TpNEJ2f7POAsEWnn7KvtNGEUov7hcXeLyNnOpqGlxD4eaAWsAuYAg53tJwGnVPRNGhNOlqxNyKl/fOrH8M+J+TnlD5v5KlDXaXceCcx34mwDrgMmOPvmASeWEmMEMNa5wXggYPs/gDgR+Rl/s8l1qnrI2d7UiXsf/maQ3RV8q8aEjY26Z6olp7tfgqoeFJHj8A91eryq5ka4aMaUyNqsTXVVG/haRBLwt1//2RK1iWZWszbGmBhgbdbGGBMDLFkbY0wMsGRtjDExwJK1McbEAEvWxhgTA/4frokuASAeOBQAAAAASUVORK5CYII=\n",
      "text/plain": [
       "<Figure size 432x288 with 2 Axes>"
      ]
     },
     "metadata": {
      "needs_background": "light"
     },
     "output_type": "display_data"
    }
   ],
   "source": [
    "# What about round 3?\n",
    "round3 = data.query('Round == 3')\n",
    "\n",
    "favorites = list(set(round3['favorite']))\n",
    "favs = []\n",
    "underdogs = []\n",
    "\n",
    "for fav in favorites:\n",
    "    dogs = list(set(round3[round3['favorite'] == fav]['underdog']))\n",
    "    favs.extend(repeat(fav, len(dogs)))\n",
    "    underdogs.extend(dogs)\n",
    "\n",
    "\n",
    "\n",
    "upset_rate = []\n",
    "occurences = []\n",
    "for i in range(0, len(favs)):\n",
    "    \n",
    "    matchups = round3[(round3.favorite == favs[i]) & (round3.underdog == underdogs[i])].shape[0]\n",
    "    upsets = round3[(round3.favorite == favs[i]) & (round3.underdog == underdogs[i])][['upset']].agg('sum')\n",
    "    upset_rate.append(float(upsets/matchups))\n",
    "    occurences.append(float(matchups))\n",
    "\n",
    "\n",
    "    \n",
    "round3_upsets = pd.DataFrame(\n",
    "    {'favorite': favs,\n",
    "     'underdog': underdogs,\n",
    "     'upset_rate': upset_rate,\n",
    "     'occurences': occurences\n",
    "    })\n",
    "\n",
    "heat = round3_upsets.pivot(\"favorite\", \"underdog\", \"upset_rate\")\n",
    "ax = sn.heatmap(heat, annot=True,)"
   ]
  },
  {
   "cell_type": "code",
   "execution_count": 17,
   "metadata": {},
   "outputs": [
    {
     "data": {
      "image/png": "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\n",
      "text/plain": [
       "<Figure size 432x288 with 2 Axes>"
      ]
     },
     "metadata": {
      "needs_background": "light"
     },
     "output_type": "display_data"
    }
   ],
   "source": [
    "heat = round3_upsets.pivot(\"favorite\", \"underdog\", \"occurences\")\n",
    "ax = sn.heatmap(heat, annot=True, cbar_kws={'label': 'Matchup Frequency'})"
   ]
  },
  {
   "cell_type": "markdown",
   "metadata": {},
   "source": [
    "We're starting to see some data paucity problems in this realm, as our sample size quickly pares down. So we need to be\n",
    "careful about the inferences we make, especially in cases where seed matchups have occurred only a handful of times in \n",
    "history. There are countless factors that can influence upset outcomes, so of course a strictly-seed-based analysis is\n",
    "a gross oversimplification of the problem. The goal here is just to extract all that we can out of the seed information\n",
    "at hand. One thing that jumps out at me here is the 3 v 7 matchup -- 7 seeds advance to the Elite Eight 45% of the time.\n",
    "And about 1 out of 4 times a 4 seed defeats a 1 seed. The coincidental symmetry there is pleasing, is it not? Let's get\n",
    "into the elite eight and see what we can find."
   ]
  },
  {
   "cell_type": "code",
   "execution_count": 18,
   "metadata": {},
   "outputs": [
    {
     "data": {
      "image/png": "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\n",
      "text/plain": [
       "<Figure size 432x288 with 2 Axes>"
      ]
     },
     "metadata": {
      "needs_background": "light"
     },
     "output_type": "display_data"
    }
   ],
   "source": [
    "# What about round 4?\n",
    "round4 = data.query('Round == 4')\n",
    "\n",
    "favorites = list(set(round4['favorite']))\n",
    "favs = []\n",
    "underdogs = []\n",
    "\n",
    "for fav in favorites:\n",
    "    dogs = list(set(round4[round4['favorite'] == fav]['underdog']))\n",
    "    favs.extend(repeat(fav, len(dogs)))\n",
    "    underdogs.extend(dogs)\n",
    "\n",
    "\n",
    "\n",
    "upset_rate = []\n",
    "occurences = []\n",
    "for i in range(0, len(favs)):\n",
    "    \n",
    "    matchups = round4[(round4.favorite == favs[i]) & (round4.underdog == underdogs[i])].shape[0]\n",
    "    upsets = round4[(round4.favorite == favs[i]) & (round4.underdog == underdogs[i])][['upset']].agg('sum')\n",
    "    upset_rate.append(float(upsets/matchups))\n",
    "    occurences.append(float(matchups))\n",
    "\n",
    "\n",
    "    \n",
    "round4_upsets = pd.DataFrame(\n",
    "    {'favorite': favs,\n",
    "     'underdog': underdogs,\n",
    "     'upset_rate': upset_rate,\n",
    "     'occurences': occurences\n",
    "    })\n",
    "\n",
    "heat = round4_upsets.pivot(\"favorite\", \"underdog\", \"upset_rate\")\n",
    "ax = sn.heatmap(heat, annot=True,)"
   ]
  },
  {
   "cell_type": "code",
   "execution_count": 19,
   "metadata": {},
   "outputs": [
    {
     "data": {
      "image/png": "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\n",
      "text/plain": [
       "<Figure size 432x288 with 2 Axes>"
      ]
     },
     "metadata": {
      "needs_background": "light"
     },
     "output_type": "display_data"
    }
   ],
   "source": [
    "heat = round4_upsets.pivot(\"favorite\", \"underdog\", \"occurences\")\n",
    "ax = sn.heatmap(heat, annot=True, cbar_kws={'label': 'Matchup Frequency'})"
   ]
  },
  {
   "cell_type": "code",
   "execution_count": 20,
   "metadata": {},
   "outputs": [
    {
     "ename": "SyntaxError",
     "evalue": "invalid syntax (<ipython-input-20-3906bc5430e6>, line 1)",
     "output_type": "error",
     "traceback": [
      "\u001b[1;36m  File \u001b[1;32m\"<ipython-input-20-3906bc5430e6>\"\u001b[1;36m, line \u001b[1;32m1\u001b[0m\n\u001b[1;33m    The first thing that jumped out at me here at the 1 seeds that lost to 11 and 10 seeds in the elite eight. That is crazy!\u001b[0m\n\u001b[1;37m            ^\u001b[0m\n\u001b[1;31mSyntaxError\u001b[0m\u001b[1;31m:\u001b[0m invalid syntax\n"
     ]
    }
   ],
   "source": [
    "The first thing that jumped out at me here at the 1 seeds that lost to 11 and 10 seeds in the elite eight. That is crazy!\n",
    "Before I did anything else I had to see who played in those games."
   ]
  },
  {
   "cell_type": "code",
   "execution_count": 21,
   "metadata": {},
   "outputs": [
    {
     "data": {
      "text/html": [
       "<div>\n",
       "<style scoped>\n",
       "    .dataframe tbody tr th:only-of-type {\n",
       "        vertical-align: middle;\n",
       "    }\n",
       "\n",
       "    .dataframe tbody tr th {\n",
       "        vertical-align: top;\n",
       "    }\n",
       "\n",
       "    .dataframe thead th {\n",
       "        text-align: right;\n",
       "    }\n",
       "</style>\n",
       "<table border=\"1\" class=\"dataframe\">\n",
       "  <thead>\n",
       "    <tr style=\"text-align: right;\">\n",
       "      <th></th>\n",
       "      <th>Year</th>\n",
       "      <th>Round</th>\n",
       "      <th>seed_1</th>\n",
       "      <th>score_1</th>\n",
       "      <th>team_1</th>\n",
       "      <th>team_2</th>\n",
       "      <th>score_2</th>\n",
       "      <th>seed_2</th>\n",
       "      <th>winning_seed</th>\n",
       "      <th>favorite</th>\n",
       "      <th>underdog</th>\n",
       "      <th>upset</th>\n",
       "    </tr>\n",
       "  </thead>\n",
       "  <tbody>\n",
       "    <tr>\n",
       "      <th>1381</th>\n",
       "      <td>2006</td>\n",
       "      <td>4</td>\n",
       "      <td>1</td>\n",
       "      <td>84</td>\n",
       "      <td>Connecticut</td>\n",
       "      <td>George Mason</td>\n",
       "      <td>86</td>\n",
       "      <td>11</td>\n",
       "      <td>11</td>\n",
       "      <td>1</td>\n",
       "      <td>11</td>\n",
       "      <td>1</td>\n",
       "    </tr>\n",
       "    <tr>\n",
       "      <th>1506</th>\n",
       "      <td>2008</td>\n",
       "      <td>4</td>\n",
       "      <td>1</td>\n",
       "      <td>59</td>\n",
       "      <td>Kansas</td>\n",
       "      <td>Davidson</td>\n",
       "      <td>57</td>\n",
       "      <td>10</td>\n",
       "      <td>1</td>\n",
       "      <td>1</td>\n",
       "      <td>10</td>\n",
       "      <td>0</td>\n",
       "    </tr>\n",
       "    <tr>\n",
       "      <th>1696</th>\n",
       "      <td>2011</td>\n",
       "      <td>4</td>\n",
       "      <td>1</td>\n",
       "      <td>61</td>\n",
       "      <td>Kansas</td>\n",
       "      <td>VCU</td>\n",
       "      <td>71</td>\n",
       "      <td>11</td>\n",
       "      <td>11</td>\n",
       "      <td>1</td>\n",
       "      <td>11</td>\n",
       "      <td>1</td>\n",
       "    </tr>\n",
       "    <tr>\n",
       "      <th>1883</th>\n",
       "      <td>2014</td>\n",
       "      <td>4</td>\n",
       "      <td>1</td>\n",
       "      <td>62</td>\n",
       "      <td>Florida</td>\n",
       "      <td>Dayton</td>\n",
       "      <td>52</td>\n",
       "      <td>11</td>\n",
       "      <td>1</td>\n",
       "      <td>1</td>\n",
       "      <td>11</td>\n",
       "      <td>0</td>\n",
       "    </tr>\n",
       "    <tr>\n",
       "      <th>2012</th>\n",
       "      <td>2016</td>\n",
       "      <td>4</td>\n",
       "      <td>1</td>\n",
       "      <td>62</td>\n",
       "      <td>Virginia</td>\n",
       "      <td>Syracuse</td>\n",
       "      <td>68</td>\n",
       "      <td>10</td>\n",
       "      <td>10</td>\n",
       "      <td>1</td>\n",
       "      <td>10</td>\n",
       "      <td>1</td>\n",
       "    </tr>\n",
       "    <tr>\n",
       "      <th>2073</th>\n",
       "      <td>2017</td>\n",
       "      <td>4</td>\n",
       "      <td>1</td>\n",
       "      <td>83</td>\n",
       "      <td>Gonzaga</td>\n",
       "      <td>Xavier</td>\n",
       "      <td>59</td>\n",
       "      <td>11</td>\n",
       "      <td>1</td>\n",
       "      <td>1</td>\n",
       "      <td>11</td>\n",
       "      <td>0</td>\n",
       "    </tr>\n",
       "  </tbody>\n",
       "</table>\n",
       "</div>"
      ],
      "text/plain": [
       "      Year  Round  seed_1  score_1       team_1        team_2  score_2  \\\n",
       "1381  2006      4       1       84  Connecticut  George Mason       86   \n",
       "1506  2008      4       1       59       Kansas      Davidson       57   \n",
       "1696  2011      4       1       61       Kansas           VCU       71   \n",
       "1883  2014      4       1       62      Florida        Dayton       52   \n",
       "2012  2016      4       1       62     Virginia      Syracuse       68   \n",
       "2073  2017      4       1       83      Gonzaga        Xavier       59   \n",
       "\n",
       "      seed_2  winning_seed  favorite  underdog  upset  \n",
       "1381      11            11         1        11      1  \n",
       "1506      10             1         1        10      0  \n",
       "1696      11            11         1        11      1  \n",
       "1883      11             1         1        11      0  \n",
       "2012      10            10         1        10      1  \n",
       "2073      11             1         1        11      0  "
      ]
     },
     "execution_count": 21,
     "metadata": {},
     "output_type": "execute_result"
    }
   ],
   "source": [
    "round4.query('seed_1 == 1 & (seed_2 == 11 | seed_2 == 10)')"
   ]
  },
  {
   "cell_type": "markdown",
   "metadata": {},
   "source": [
    "Looks like Syracurse toppled Virginia in 2016 (man the Cavaliers have had it [rough from lowly seeded teams](https://en.wikipedia.org/wiki/2018_UMBC_vs._Virginia_men%27s_basketball_game)),\n",
    "VCU toppled Kansas in 2011, and George Mason bested UCONN in 2006. Now you can impress your friends with all these forgotten\n",
    "NCAA facts. Ok on to more analysis."
   ]
  },
  {
   "cell_type": "markdown",
   "metadata": {},
   "source": [
    "The elite eight is the magic round with over 50% of upset candidates resulting in actual upsets. If you recall from our preliminary EDA,\n",
    "each round held roughly a 25% average upset rate _except for the elite eight_, which saw a wild jump to over 50% of games\n",
    "resulting in actual upsets."
   ]
  },
  {
   "cell_type": "markdown",
   "metadata": {},
   "source": [
    "Let's pause for a moment and do a quick bit of QA to make sure this anaysis hasn't gone rogue without me realizing it (I mean that has\n",
    "_never_ happened to me before so it's almost not even worth checking, but we'll do it anyway)."
   ]
  },
  {
   "cell_type": "markdown",
   "metadata": {},
   "source": [
    "I was really curious to see what story\n",
    "the data would tell us here. Interestingly, nearly half of the total upsets happened from 2 seeds taking down 1 seeds. Very interesting! Also\n",
    "interesting to see that 3 seeds have taken down 1 seeds in 5 out of 14 matchups. Hmmm, it seems like 1 seeds are falling more often\n",
    "than other seeds. I wonder, are 1 seeds more vulnerable to\n",
    "upsets than other seeds? Maybe the pressure gets to them? Or are we just seeing lots of upsets against 1 seeds since 1 seeds\n",
    "should be statistically the most likely to make it this far and therefore they _have the ability_ to be upset more than lower seeds.\n",
    "A simple way to answer this would just be to sum the upsets by favorite and sum the occurences by favorite and look at the\n",
    "upset percentage _by seed_ in the elite eight. The null hypothesis being that there is no statistically significant\n",
    "difference between upset rates across seeds."
   ]
  },
  {
   "cell_type": "code",
   "execution_count": 22,
   "metadata": {},
   "outputs": [
    {
     "ename": "KeyError",
     "evalue": "\"['upset_count'] not in index\"",
     "output_type": "error",
     "traceback": [
      "\u001b[1;31m---------------------------------------------------------------------------\u001b[0m",
      "\u001b[1;31mKeyError\u001b[0m                                  Traceback (most recent call last)",
      "\u001b[1;32m<ipython-input-22-857b7f484cec>\u001b[0m in \u001b[0;36m<module>\u001b[1;34m\u001b[0m\n\u001b[1;32m----> 1\u001b[1;33m \u001b[0mseed_vulnerability\u001b[0m \u001b[1;33m=\u001b[0m \u001b[0mround4_upsets\u001b[0m\u001b[1;33m[\u001b[0m\u001b[1;33m[\u001b[0m\u001b[1;34m'favorite'\u001b[0m\u001b[1;33m,\u001b[0m \u001b[1;34m'occurences'\u001b[0m\u001b[1;33m,\u001b[0m \u001b[1;34m'upset_count'\u001b[0m\u001b[1;33m]\u001b[0m\u001b[1;33m]\u001b[0m\u001b[1;33m.\u001b[0m\u001b[0mgroupby\u001b[0m\u001b[1;33m(\u001b[0m\u001b[1;33m[\u001b[0m\u001b[1;34m'favorite'\u001b[0m\u001b[1;33m]\u001b[0m\u001b[1;33m)\u001b[0m\u001b[1;33m.\u001b[0m\u001b[0magg\u001b[0m\u001b[1;33m(\u001b[0m\u001b[1;34m'sum'\u001b[0m\u001b[1;33m)\u001b[0m\u001b[1;33m\u001b[0m\u001b[1;33m\u001b[0m\u001b[0m\n\u001b[0m\u001b[0;32m      2\u001b[0m \u001b[0mseed_vulnerability\u001b[0m\u001b[1;33m[\u001b[0m\u001b[1;34m'vulnerability'\u001b[0m\u001b[1;33m]\u001b[0m \u001b[1;33m=\u001b[0m \u001b[0mseed_vulnerability\u001b[0m\u001b[1;33m[\u001b[0m\u001b[1;34m'upset_count'\u001b[0m\u001b[1;33m]\u001b[0m\u001b[1;33m/\u001b[0m\u001b[0mseed_vulnerability\u001b[0m\u001b[1;33m[\u001b[0m\u001b[1;34m'occurences'\u001b[0m\u001b[1;33m]\u001b[0m\u001b[1;33m\u001b[0m\u001b[1;33m\u001b[0m\u001b[0m\n\u001b[0;32m      3\u001b[0m \u001b[0mseed_vulnerability\u001b[0m\u001b[1;33m\u001b[0m\u001b[1;33m\u001b[0m\u001b[0m\n",
      "\u001b[1;32m~\\AppData\\Local\\Continuum\\anaconda3\\lib\\site-packages\\pandas\\core\\frame.py\u001b[0m in \u001b[0;36m__getitem__\u001b[1;34m(self, key)\u001b[0m\n\u001b[0;32m   2932\u001b[0m                 \u001b[0mkey\u001b[0m \u001b[1;33m=\u001b[0m \u001b[0mlist\u001b[0m\u001b[1;33m(\u001b[0m\u001b[0mkey\u001b[0m\u001b[1;33m)\u001b[0m\u001b[1;33m\u001b[0m\u001b[1;33m\u001b[0m\u001b[0m\n\u001b[0;32m   2933\u001b[0m             indexer = self.loc._convert_to_indexer(key, axis=1,\n\u001b[1;32m-> 2934\u001b[1;33m                                                    raise_missing=True)\n\u001b[0m\u001b[0;32m   2935\u001b[0m \u001b[1;33m\u001b[0m\u001b[0m\n\u001b[0;32m   2936\u001b[0m         \u001b[1;31m# take() does not accept boolean indexers\u001b[0m\u001b[1;33m\u001b[0m\u001b[1;33m\u001b[0m\u001b[1;33m\u001b[0m\u001b[0m\n",
      "\u001b[1;32m~\\AppData\\Local\\Continuum\\anaconda3\\lib\\site-packages\\pandas\\core\\indexing.py\u001b[0m in \u001b[0;36m_convert_to_indexer\u001b[1;34m(self, obj, axis, is_setter, raise_missing)\u001b[0m\n\u001b[0;32m   1352\u001b[0m                 kwargs = {'raise_missing': True if is_setter else\n\u001b[0;32m   1353\u001b[0m                           raise_missing}\n\u001b[1;32m-> 1354\u001b[1;33m                 \u001b[1;32mreturn\u001b[0m \u001b[0mself\u001b[0m\u001b[1;33m.\u001b[0m\u001b[0m_get_listlike_indexer\u001b[0m\u001b[1;33m(\u001b[0m\u001b[0mobj\u001b[0m\u001b[1;33m,\u001b[0m \u001b[0maxis\u001b[0m\u001b[1;33m,\u001b[0m \u001b[1;33m**\u001b[0m\u001b[0mkwargs\u001b[0m\u001b[1;33m)\u001b[0m\u001b[1;33m[\u001b[0m\u001b[1;36m1\u001b[0m\u001b[1;33m]\u001b[0m\u001b[1;33m\u001b[0m\u001b[1;33m\u001b[0m\u001b[0m\n\u001b[0m\u001b[0;32m   1355\u001b[0m         \u001b[1;32melse\u001b[0m\u001b[1;33m:\u001b[0m\u001b[1;33m\u001b[0m\u001b[1;33m\u001b[0m\u001b[0m\n\u001b[0;32m   1356\u001b[0m             \u001b[1;32mtry\u001b[0m\u001b[1;33m:\u001b[0m\u001b[1;33m\u001b[0m\u001b[1;33m\u001b[0m\u001b[0m\n",
      "\u001b[1;32m~\\AppData\\Local\\Continuum\\anaconda3\\lib\\site-packages\\pandas\\core\\indexing.py\u001b[0m in \u001b[0;36m_get_listlike_indexer\u001b[1;34m(self, key, axis, raise_missing)\u001b[0m\n\u001b[0;32m   1159\u001b[0m         self._validate_read_indexer(keyarr, indexer,\n\u001b[0;32m   1160\u001b[0m                                     \u001b[0mo\u001b[0m\u001b[1;33m.\u001b[0m\u001b[0m_get_axis_number\u001b[0m\u001b[1;33m(\u001b[0m\u001b[0maxis\u001b[0m\u001b[1;33m)\u001b[0m\u001b[1;33m,\u001b[0m\u001b[1;33m\u001b[0m\u001b[1;33m\u001b[0m\u001b[0m\n\u001b[1;32m-> 1161\u001b[1;33m                                     raise_missing=raise_missing)\n\u001b[0m\u001b[0;32m   1162\u001b[0m         \u001b[1;32mreturn\u001b[0m \u001b[0mkeyarr\u001b[0m\u001b[1;33m,\u001b[0m \u001b[0mindexer\u001b[0m\u001b[1;33m\u001b[0m\u001b[1;33m\u001b[0m\u001b[0m\n\u001b[0;32m   1163\u001b[0m \u001b[1;33m\u001b[0m\u001b[0m\n",
      "\u001b[1;32m~\\AppData\\Local\\Continuum\\anaconda3\\lib\\site-packages\\pandas\\core\\indexing.py\u001b[0m in \u001b[0;36m_validate_read_indexer\u001b[1;34m(self, key, indexer, axis, raise_missing)\u001b[0m\n\u001b[0;32m   1250\u001b[0m             \u001b[1;32mif\u001b[0m \u001b[1;32mnot\u001b[0m\u001b[1;33m(\u001b[0m\u001b[0mself\u001b[0m\u001b[1;33m.\u001b[0m\u001b[0mname\u001b[0m \u001b[1;33m==\u001b[0m \u001b[1;34m'loc'\u001b[0m \u001b[1;32mand\u001b[0m \u001b[1;32mnot\u001b[0m \u001b[0mraise_missing\u001b[0m\u001b[1;33m)\u001b[0m\u001b[1;33m:\u001b[0m\u001b[1;33m\u001b[0m\u001b[1;33m\u001b[0m\u001b[0m\n\u001b[0;32m   1251\u001b[0m                 \u001b[0mnot_found\u001b[0m \u001b[1;33m=\u001b[0m \u001b[0mlist\u001b[0m\u001b[1;33m(\u001b[0m\u001b[0mset\u001b[0m\u001b[1;33m(\u001b[0m\u001b[0mkey\u001b[0m\u001b[1;33m)\u001b[0m \u001b[1;33m-\u001b[0m \u001b[0mset\u001b[0m\u001b[1;33m(\u001b[0m\u001b[0max\u001b[0m\u001b[1;33m)\u001b[0m\u001b[1;33m)\u001b[0m\u001b[1;33m\u001b[0m\u001b[1;33m\u001b[0m\u001b[0m\n\u001b[1;32m-> 1252\u001b[1;33m                 \u001b[1;32mraise\u001b[0m \u001b[0mKeyError\u001b[0m\u001b[1;33m(\u001b[0m\u001b[1;34m\"{} not in index\"\u001b[0m\u001b[1;33m.\u001b[0m\u001b[0mformat\u001b[0m\u001b[1;33m(\u001b[0m\u001b[0mnot_found\u001b[0m\u001b[1;33m)\u001b[0m\u001b[1;33m)\u001b[0m\u001b[1;33m\u001b[0m\u001b[1;33m\u001b[0m\u001b[0m\n\u001b[0m\u001b[0;32m   1253\u001b[0m \u001b[1;33m\u001b[0m\u001b[0m\n\u001b[0;32m   1254\u001b[0m             \u001b[1;31m# we skip the warning on Categorical/Interval\u001b[0m\u001b[1;33m\u001b[0m\u001b[1;33m\u001b[0m\u001b[1;33m\u001b[0m\u001b[0m\n",
      "\u001b[1;31mKeyError\u001b[0m: \"['upset_count'] not in index\""
     ]
    }
   ],
   "source": [
    "seed_vulnerability = round4_upsets[['favorite', 'occurences', 'upset_count']].groupby(['favorite']).agg('sum')\n",
    "seed_vulnerability['vulnerability'] = seed_vulnerability['upset_count']/seed_vulnerability['occurences']\n",
    "seed_vulnerability"
   ]
  },
  {
   "cell_type": "markdown",
   "metadata": {},
   "source": [
    "Interesting, from this perspective it actually seems that 1 seeds aren't totally tanking in the elite eight. Two seeds\n",
    "on the other hand, when playing as a favorite, have a rough time here! It looks like when 2 seeds are a favorite to win an elite eight game,\n",
    "_they lose 87.5% of the time._ That is absurd to me! 1 seeds lose 45% of the time, so it seems like the 1 seeds might\n",
    "be slightly better at handling the pressure than their lowly 2-seeded-counterparts. 5 seeds are _undefeated_ in the elite\n",
    "eight when going into the matchup a favorite (over a 6 seed, one time in history.) Still an interesting thing to note\n",
    "though. If anyone is still with me in this absurdly in depth seed analysis, I applaud you, and I thank you kindly. Let's\n",
    "move onwards to some final four findings."
   ]
  },
  {
   "cell_type": "code",
   "execution_count": 23,
   "metadata": {},
   "outputs": [
    {
     "data": {
      "image/png": "iVBORw0KGgoAAAANSUhEUgAAAWsAAAEKCAYAAADU7nSHAAAABHNCSVQICAgIfAhkiAAAAAlwSFlzAAALEgAACxIB0t1+/AAAADl0RVh0U29mdHdhcmUAbWF0cGxvdGxpYiB2ZXJzaW9uIDMuMC4zLCBodHRwOi8vbWF0cGxvdGxpYi5vcmcvnQurowAAIABJREFUeJzt3XuclnWd//HXewZQ8YxowAwJKZauJxTJsjVMBTQFf1t5SNMORltUmlvmbqyW/XTb3K1010zaPGUeyLVEpZTKw9pmgoQGeAJBmGEEAc8n5vDZP+4LvBmYmXvgvq65ruH99HE9uK/DfD/fuef2M9/5Xt/r+1VEYGZm+VbT0xUwM7OuOVmbmRWAk7WZWQE4WZuZFYCTtZlZAThZm5kVgJO1mVmVSbpG0kpJ8zo4L0lXSFoo6XFJh3RVppO1mVn1XQeM7+T8ccCIZJsEXNVVgU7WZmZVFhEPAms6uWQicEOUPAzsImlwZ2X2qWYFq6lPv7rMHq1sWduYVSgzS4e2tIDmVc9WnHP67b7XFyi1iNeZGhFTuxGuDlhWtt+QHGvq6Atym6zNzPIqSczdSc7tbeqXS6e/LJyszcwA2lqzjNYADC3brweWd/YF7rM2MwNobal823LTgTOTUSGHAy9HRIddIOCWtZkZABFtVStL0s3AGGCgpAbgIqBvKU78BJgBHA8sBN4APtNVmU7WZmYAbdVL1hFxWhfnA5jcnTKdrM3MAKrYsk6Dk7WZGWR9g7HbnKzNzMAtazOzIojqjPJIjZO1mRlU9QZjGpyszczA3SBmZoXgG4xmZgXglrWZWQH4BqOZWQH4BqOZWf5FuM/azCz/ct5n3WumSB03dgzz5z3Ikwse4vxvdGt+FDOzUjdIpVsP6BXJuqamhisuv4QTTjyDAw46ilNOOYl99x3R09UysyKJtsq3HtArkvXow0ayaNESFi9eSnNzM9Om3cGEE8f1dLXMrEhamyvfekDmyVrSDtUuc0jdIJY1vLMiTkNjE0OGDKp2GDPrzdwNspEFHZ2QNEnSbEmz29per7hAaeO1J0tze5uZVSjn3SCpjAaRdF5Hp4AOW9blKwb36VdXcbZtbGhiaP2Q9fv1dYNpalpR6ZebmeV+nHVaLetLgV2BHdttO6QRc9bsuey993CGDRtK3759Ofnkidx5173VDmNmvVnOu0HSGmc9B/h1RDza/oSks6sdrLW1lXPOncKMu2+itqaG666/lQULnq52GDPrxaKHbhxWSmn07Up6L7A6IlaVHRsUEc9LeldEdNlH0Z1ukC3VsrYxq1Bmlo6Nb1x105v3/VfFOWe7o87e4njdlUrLOiKe2sThGcAhlSRqM7PM5bzPOsvHzTP/TWRmVrGcP26eZbL+aYaxzMy6xy3rkoj4cVaxzMy6zS1rM7MCaPHiA2Zm+eeWtZlZAbjP2sysANyyNjMrALeszcwKwC1rM7MC8GgQM7MCyPkc+E7WZmbgPmszs0LIebLuFQvmmpltsSou6yVpvKSnJC2UdMEmzr9b0n2S/iLpcUnHd1WmW9ZmZgCtrVUpRlItcCVwLNAAzJI0PSLK15+dAkyLiKsk7UdpCulhnZXrZA3cUHdGJnGW9cnuBsZFTfdnFitL3xk8JrNY33ruF5nE6dOvLpM4PaFQC3tUrxtkNLAwIp4FkHQLMJENFwsPYKfk9c7A8q4KzW2yzuqHnFWiNrOc60ayljQJmFR2aGqy4DdAHbCs7FwD8P52RXwbuFfSV4DtgWO6ipnbZG1mlqluPBSTJOapHZze1EIr7f+sPg24LiL+XdIHgJ9L2j+i40o4WZuZAdFWtW7KBmBo2X49G3dzfA4YDxARf5K0LTAQWNlRoR4NYmYGpW6QSrfOzQJGSBouqR9wKjC93TVLgaMBJO0LbAu80FmhblmbmUHVRoNERIukLwP3ALXANRExX9LFwOyImA78A/BTSV+j1EXy6YjOH6F0sjYzg6o+FBMRMygNxys/dmHZ6wXAEd0p08nazAxy/wSjk7WZGXgiJzOzQnDL2sysAKo3dC8VTtZmZlC10SBpcbI2MwPC3SBmZgXgbhAzswLwgrlmZgXglrWZWQG0+AajmVn+5bwbxLPudWHImAOZ+OBlnPTQv7P/5BM7vO7dHz2MMxtvZLcDh3er/Pd8+ED+/g+X8cUH/p0PfHHj8g85/Wg+f8/3OHvGpZx524UMHFFaVWTIQe/h7BmXlrbfXMp7x43q3jfWzrixY5g/70GeXPAQ539j8haVlWWsvLx/Wcvq55Xl56LHtUXlWw9wy7oTqhHvv+QsZp72Pd5oWsPxMy5m2b2P8vIzG05N22f7bdn3s+N4Yc7Cbpc//ruf5qbT/4VXnl/DZ6d/l2d+N4dVz7yzSs68O/6XOb/4PQAjjjmEY6aczi1nfZ+VTzXwsxOnEK1t7LDHLpz9m0t5+ndziNbutw5qamq44vJLGH/8aTQ0NPHwn2Zw51338sQTz3S7rCxj5eX9y1pWP68sPxd5kPehe25Zd2K3kXvx6pIVvLb0BdqaW1lyx8MMHXfoRtcdfP7HmXfVXbS+1dyt8occvBdrlqzgpWWl8hfc+TD7HLth+Wtfe3P96779t1n/uuWttesTS+02fbdoWoPRh41k0aIlLF68lObmZqZNu4MJJ47b/AIzipWX9y9rWf28svxc5IJb1sXVf9CuvL58zfr9N5rWMHDkXhtcM+Bv9mT7wQNo/N1c/uYLH+1W+TsOGsCrTavX77/StIa6duUDHHrmsbz/7OOo7duHG0+7ZP3xIQfvxQmXTWLnuoFM/9pVm90qHFI3iGUN7/y10NDYxOjDRm5WWVnGysv7l7Wsfl5Zfi5yIeejQTJvWUv6TNYxN5e0iaXUYoMLGPXtM5h98U1Vi7mp+ccfvWEmPz7yPP7wvVv40FdOWn98+dxFTD32m1wz4Z/54JcmULtN382Kuanvs4t50Ddb2rF64v3LWlY/ryw/F7nQ2lr51gN6ohvkOx2dkDRJ0mxJs6dO7Wgtyuy83rSG7YcMWL/ff/AA3ljx4vr9vjtsyy7vq2fcbd/i7x7+IbsfshdHXXtexTcZX31+DTsO3m39/k6DB/Daipc6vH7+9D+xz9iNb4StXrictW++zR771FcUt73GhiaG1g9Zv19fN5imphWbVVaWsfLy/mUtq59Xlp+LPIi2qHjrCakka0mPd7D9FXhXR18XEVMjYlREjJo0aVJHl2Vm9dxn2XH4IHYYujs1fWsZNvFwlt07Z/355lffZNoBX+T2w7/G7Yd/jRfmLOK+z/yA1Y8vrqj85Y89y4Dhg9g5KX+/Ew/n6ZmPbnDNrsPeebtGfORgXlzyPAA7D90d1ZZ+fDvVDWS39wzmpYZOl3Dr0KzZc9l77+EMGzaUvn37cvLJE7nzrns3q6wsY+Xl/ctaVj+vLD8XubCV9lm/CxgHvNjuuID/TSlm1UVrG49MuZ5jbjof1dSw8NYHePnpRg76+sdY/dhiGmbO6bqQLsq/58LrOO2Gb1JTW8Nj0x5g1TONHHnex2h6fDHP/G4Oo84ay/AP7U9bcytvvvI608/7CQBDR72XD37pRNqaW4lo47dTruXNF1/brHq0trZyzrlTmHH3TdTW1HDd9beyYMHTW/S9ZRErL+9f1rL6eWX5uciFnI8GUUp9XT8Dro2IhzZx7qaI+GQFxWTy6+uGujOyCAPAsj7Z/Ua+qOn+zGJl6TuDx2QW61vP/SKTOH361WUSpye0rG3s+qLq2MQNpu559UvHVfw/6I4//s0Wx+uuVFrWEfG5Ts5VkqjNzLKV89EgHrpnZga5H7rpZG1mBm5Zm5kVQU8NyauUk7WZGbhlbWZWCPnusnayNjMDiJZ8Z2snazMzcMvazKwIfIPRzKwI3LI2M8s/t6zNzIrALWszs/yLlp6uQeecrM3MgMh5y9oL5pqZQakbpNKtC5LGS3pK0kJJF3RwzcmSFkiaL6nLtQHdsjYzo3ota0m1wJXAsUADMEvS9IhYUHbNCOAfgSMi4kVJe3RVrlvWZmaUknWlWxdGAwsj4tmIWAvcAkxsd83ngSsj4kWAiFjZVaFuWWdoXOvrmcW6KLNIvdP5j36X5lXPZhLrzeX/w3ZD/jaTWNaxaK188RdJk4DyhWKnRsS6Vb7rgGVl5xqA97crYp+knD8CtcC3I+K3ncXc6pP1mY03ZhZrdv1JmcXKWobLN2Uiq0S9Tm97/4qoO90gSWKe2sHpTWX99oO4+wAjgDFAPfA/kvaPiJc6irnVJ2szM4Boq9qyig3A0LL9emD5Jq55OCKagcWSnqKUvGd1VKj7rM3MqGqf9SxghKThkvoBpwLT213za+AoAEkDKXWLdPrnnFvWZmZARHVa1hHRIunLwD2U+qOviYj5ki4GZkfE9OTcWEkLgFbgGxGxurNyK07WkraPiOzukJmZZaiaD8VExAxgRrtjF5a9DuC8ZKtIl90gkj6YZP8nkv2DJP240gBmZkXQ1qqKt55QSZ/1D4FxwGqAiHgMODLNSpmZZS3aVPHWEyrqBomIZdIGFWxNpzpmZj2jp5JwpSpJ1sskfRCI5M7mV0m6RMzMeovI93TWFSXrvwcup/RUTgNwL/ClNCtlZpa13tCyfm9EnF5+QNIRwB/TqZKZWfaqNXQvLZXcYPyPCo+ZmRVWa6sq3npChy1rSR8APgjsLql8LOBOlAZ6m5n1GnlvWXfWDdIP2CG5Zsey468AH0+zUmZmWStsn3VEPAA8IOm6iHguwzqZmWWusKNBJP0oIs4F/lPSRt9GRExItWZmZhkqbMsa+Hny779lUREzs57U2pbvSUg76wZ5NFlL7PMRcUaGddpq7TRmJO/+ztlQW8Oqm2fy/JW3b3B+t098hPopZ9H8/BoAVl53N6tu/l1VYo8bO4Yf/OBiamtquObam/n+ZVdWpdytxZRLf8CDf3yEAbvuwq9v/ElPV8c2Q2G7QQAiolXS7pL6JWuJWVpqanj3//8CT3/yIpqbVrPv3Zfx0r2P8NYzDRtc9uKdD7F0yk+rHLqGKy6/hPHHn0ZDQxMP/2kGd951L0888UxV4/RmJx1/LJ/82AT+6bv+Q7So2nI+GqSSdv8S4I+S/lnSeeu2rr5I0vskHS1ph3bHx29mXXu17Q8ewdtLmli7dAXR3MKaOx5il7Htl21Lx+jDRrJo0RIWL15Kc3Mz06bdwYQTx2USu7cYdfAB7LzTjl1faLkVoYq3nlBJsl4O3JVcu2PZ1iFJXwXuAL4CzJNUvrLvpZtX1d6t3+ABrG1atX5/7fOr6Td4wEbX7XLcB9hv5o94z9Xn03fwwKrEHlI3iGUN76w61NDYxJAhg6pStllRRFS+9YQuHzePiO8ASNqxtBuvVVDu54FDI+I1ScOA2yQNi4jL2fRikiQx1q8YfPXVVzNp0qSOLu2FNn5b2n8oXpo5izV3PEisbWH3M8Yx/Edf5elTLtzo67odWZuKnfMOPLMqy3s3SJfJWtL+lEaGDEj2VwFnRsT8Tr6sdl1Sj4glksZQSth70kmybrdi8FaVLdY2raZfWUu536Dd1t9IXKf1pVfXv37hppnU/dOZVYnd2NDE0Poh6/fr6wbT1LSiKmWbFUXeR4NUUrupwHkRsWdE7An8A9DVHa7nJR28bidJ3CcAA4EDNreyvdnrjz3DtsMH02/oHqhvHwZM/BAvzXxkg2v67rHr+te7jD2MtxY2tC9ms8yaPZe99x7OsGFD6du3LyefPJE777q3KmWbFUV0Y+sJlcy6t31E3LduJyLul7R9F19zJtBSfiAiWoAzJV3d/WpuBVrbWPrPP2WfX1wENbWsvvV3vPX0MoZ8/TRef2whL8+cxR6f/Si7HDuaaG2l5aXXWPK1K6oTurWVc86dwoy7b6K2pobrrr+VBQuerkrZW4tvXPQ9Zv3lcV566RWOPukMvvS5T/Ex36QtlLx3g6irvklJvwLm8M5DMmcAoyLipJTr1uu6QWbXp/2WvePwlbMyiwXQsrYx03hpa171bKbx+g58T6bxeqEtzrR/HPTxinPOEc/flnlmr6Qb5LPA7sDtwK8odWV8Js1KmZllra0bW0+opBtkWER8NfWamJn1oNjyxnmqKknWP5A0GPglcEsXo0DMzAqpJed91l12g0TEUcAY4AVgqqS/SpqSdsXMzLIUqOKtJ1Q0sDAino+IKygtnjsX2PInMczMciTvfdZdJmtJ+0r6tqR5wH8C/wvUp14zM7MM5b1lXUmf9bXAzcDYiFje1cVmZkXUUy3mSlUyN8jhWVTEzKwntRZ9NIikEcC/APsB2647HhEexW9mvUbOV/Wq6AbjtcBVlB4fPwq4gXeeZjQz6xXaUMVbT6gkWW8XEb+n9Gj6cxHxbeAj6VbLzCxbvWEip7ck1QDPSPoy0AjskW61zMyylfcbjB22rCWt6+q4A+gPfBU4FPgUcFb6VTMzy06bVPHWEzprWR+aLBZwOqX5q9+gNJe1mVmv09rTFehCZ33WPwF+C7wPeDTZZpf9a2bWa7Sp8q0rksZLekrSQkkXdHLdxyWFpFFdldlhyzp5vPwKSVdFxBe7rp6ZWXFVa5SHpFrgSuBYoAGYJWl6RCxod92OlLqX/1xJuZU8FONEbWbd1qdfXWaxqrH4RRVHeYwGFkbEswCSbgEmAgvaXfdd4PvA1ysptJLRIFYloxp+nV2wDP9H6Y28csvWpzsPxUiaBEwqOzQ1WfAboA5YVnauAXh/u68fCQyNiLskOVmbmVWqO0P3ksQ8tYPTm0r76xvuyVDoHwKf7kZIJ2szM4DW6o3IawCGlu3XA+WT4O0I7A/cr9IwwEHAdEkTIqLDwRtO1mZmVPWhmFnACEnDKT1EeCrwyXUnI+JlSmvZAiDpfuDrnSVqqHDxATOz3q5aiw9ERAvwZeAe4AlgWkTMl3SxpAmbWz+3rM3MgGouwRgRM4AZ7Y5tcoWtiBhTSZlO1mZm5H9uECdrMzPy/7i5k7WZGflffMDJ2swMd4OYmRWCk7WZWQH01AowlXKyNjPDfdZmZoXg0SBmZgXQlvOOECdrMzN8g9HMrBDy3a72RE6WGDd2DPPnPciTCx7i/G9M7unq2Faopz+D1ZrIKS1O1kZNTQ1XXH4JJ5x4BgccdBSnnHIS++47oqerZVuRPHwGWxQVbz3BydoYfdhIFi1awuLFS2lubmbatDuYcOK4nq6WbUXy8BmMbmw9IbVkLWm0pMOS1/tJOk/S8WnFs803pG4QyxreWciiobGJIUMG9WCNbGuTh89g3rtBUrnBKOki4Digj6SZlBaLvB+4QNLIiLgkjbi2eZKlhTYQkffbLdab5OEzmPehe2m1rD8OHAEcCUwGToqIi4FxwCkdfZGkSZJmS5o9dWpHa1FatTU2NDG0fsj6/fq6wTQ1rejBGtnWJg+fwbx3g6Q1dK8lIlqBNyQtiohXACLiTUkd/hXRbsXgfP+a60VmzZ7L3nsPZ9iwoTQ2Ps/JJ0/kU2d6RIhlJw+fwa11nPVaSf0j4g3g0HUHJe1M/t+TrU5rayvnnDuFGXffRG1NDdddfysLFjzd09WyrUgePoOtOW8fKo1+IUnbRMTbmzg+EBgcEX+toJh8v3M516dfXabxWtY2ZhrP8i/Lz2DL2sYtnobpnGGnVpxzLl9yS+bTPqXSst5Uok6OrwJWpRHTzGxLRM7bh37c3MyM/PfPOlmbmZH/oXtO1mZm5P8mmZO1mRnQkvN07WRtZoZvMJqZFYJvMJqZFYBb1mZmBeCWtZlZAbTmfKZJJ2szMzzO2sysENxnbWZWAO6zNjMrgLx3g3jBXDMzSt0glf7XFUnjJT0laaGkCzZx/jxJCyQ9Lun3kvbsqkwnazMzSqNBKt06I6kWuJLSOrT7AadJ2q/dZX8BRkXEgcBtwPe7qp+TtZkZpW6QSrcujAYWRsSzEbEWuAWYWH5BRNyXrKQF8DBQ31WhTtZmZpRuMFa6lS/unWyTyoqqA5aV7TckxzryOeA3XdXPNxh7KS+zZdY93Rm6125x7/Y2teTXJguXdAYwCvhwVzGdrM3MqOpokAZgaNl+PbC8/UWSjgG+BXy4o6UQyzlZm5kBVVw8fBYwQtJwoBE4Ffhk+QWSRgJXA+MjYmUlhTpZm5kBrVVqWUdEi6QvA/cAtcA1ETFf0sXA7IiYDlwG7AD8UhLA0oiY0Fm5TtZmZlT3oZiImAHMaHfswrLXx3S3TCdrMzOq2g2SCidrMzPy/7i5k7WZGZ51z8ysELz4gJlZAbgbxMysAJyszcwKwKNBzMwKwC1rM7MC8GgQM7MCaI18r8LoZG1mhvuszcwKIe991l4pxsxyYdzYMcyf9yBPLniI878xOfP41VwwNw1O1mbW42pqarji8ks44cQzOOCgozjllJPYd98RmdahLaLirSekkqwl9ZN0ZrISApI+Kek/JU2W1DeNmGZWXKMPG8miRUtYvHgpzc3NTJt2BxNOHJdpHfLesk6rz/rapOz+ks6iNMn27cDRlFb+PSuluGZWQEPqBrGs4Z2Vrxoamxh92MhM67C1jgY5ICIOlNSH0rI2QyKiVdKNwGMdfVGyQvAkgKuvvppJkyZ1dKmZ9SLJaikbyHp0Rk91b1QqrWRdI6kfsD3QH9gZWANsA3TYDdJuxeB8v3NmVjWNDU0MrR+yfr++bjBNTSsyrcPW+lDMz4AnKa0/9i1K64w9CxwO3JJSTDMrqFmz57L33sMZNmwojY3Pc/LJE/nUmdmOCNkqW9YR8UNJtyavl0u6ATgG+GlEPJJGTDMrrtbWVs45dwoz7r6J2poarrv+VhYseDrTOuS9Za0cP7WT24qZWdf69KvLLFbL2saNO727ac/dDqw45zy3+vEtjtddfoLRzAw/bm5mVgh5f9zcydrMDLeszcwKYascDWJmVjR5Hw3iZG1mxtb7uLmZWaG4z9rMrADcZ21mVgBuWZuZFYDHWZuZFYBb1mZmBeDRIGZmBeAbjGZmBZD3bhCvbm5mRnUXzJU0XtJTkhZKumAT57eRdGty/s+ShnVVppO1mRmllnWlW2ck1QJXAscB+wGnSdqv3WWfA16MiL2BHwL/2lX9nKzNzCj1WVe6dWE0sDAino2ItZSWMpzY7pqJwPXJ69uAo7WpVYPL5LnPerNWYpA0KVl4N1VZxXGsYsXqjd/T5sZqWduYWaxq6M5qM5ImAZPKDk0tq3MdsKzsXAPw/nZFrL8mIlokvQzsBqzqKGZvbFlP6vqSQsVxrGLF6o3fU2+OtVkiYmpEjCrbyn+5bCrpt2+OV3LNBnpjsjYz60kNwNCy/XpgeUfXSOoD7Ays6axQJ2szs+qaBYyQNFxSP+BUYHq7a6YDZyWvPw78Ibq4c5nnPuvNlVVfV5Z9ao5VnFi98XvqzbGqLumD/jJwD1ALXBMR8yVdDMyOiOnAz4CfS1pIqUV9alflKu8Dwc3MzN0gZmaF4GRtZlYAvSZZS3qfpD9JelvS11OMM1TSfZKekDRf0jkpxtpW0iOSHktifSetWEm8Wkl/kXRXynGWSPqrpLmSZqcY571JjHXbK5LOTTHe15Kf0zxJN0vaNsVY5yRx5lf7e5J0jaSVkuaVHRsgaaakZ5J/d00pzieS76lN0qgtjdGb9JpkTamT/qvAv6UcpwX4h4jYFzgcmLyJR0mr5W3gIxFxEHAwMF7S4SnFAjgHeCLF8ssdFREHR0Rq/0NGxFNJjIOBQ4E3gF+lEUtSHaXP36iI2J/SjaUubxptZqz9gc9TelLuIOAESSOqGOI6YHy7YxcAv4+IEcDvk/004swD/g54sArl9yq9JllHxMqImAU0pxynKSLmJK9fpZTc6lKKFRHxWrLbN9lSuSMsqR74KPBfaZSfA0cDiyLiuRRj9AG2S8bN9mfjsbXVsi/wcES8EREtwAPA/6tW4RHxIBuP+S1/PPp64KQ04kTEExHx1JaW3Rv1mmTdE5KZskYCf04xRq2kucBKYGZEpBXrR8D5QBYzsAdwr6RHk8d2s3AqcHNahUdEI6W/6pYCTcDLEXFvSuHmAUdK2k1Sf+B4NnwIIw3viogmKDVYgD1SjmftOFlvJkk7AP8NnBsRr6QVJyJakz/j64HRyZ/AVSXpBGBlRDxa7bI7cEREHEJpVrLJko5MM1jyYMIE4JcpxtiVUutzODAE2F7SGWnEiognKM3SNhP4LfAYpe4568UKnawlTS67eTQkw7h9KSXqX0TE7VnEjIiXgPvZuI+vGo4AJkhaQmmGsI9IujGFOABExPLk35WU+pBHpxUrcRwwJyJWpBjjGGBxRLwQEc3A7cAH0woWET+LiEMi4khKXQnPpBUrsULSYIDk35Upx7N2Cp2sI+LKdTeQ1iWAtCXTGP4MeCIifpByrN0l7ZK83o5SQniy2nEi4h8joj4ihlHqLvhDRKTSKpS0vaQd170GxlL6sz5Np5FiF0hiKXC4pP7JZ+RoUrxZK2mP5N93U7ohl/b3V/549FnAHSnHs3Z6zePmkgYBs4GdgLZkONN+KXRRHAF8Cvhr0pcM8E8RMaPKcQAGA9cnk5nXANMiItVhdRl4F/CrZOrePsBNEfHbtIIlfbrHAl9IKwZARPxZ0m3AHEpdEn8h3cem/1vSbpRuqE+OiBerVbCkm4ExwEBJDcBFwPeAaZI+R+kX0ydSirMG+A9gd+BuSXMjYtyWxuoN/Li5mVkBFLobxMxsa+FkbWZWAE7WZmYF4GRtZlYATtZmZgXgZG25I+n+LZlxTdKw8pnczHoDJ2srvGQculmv5mRtVde+ZSvp65K+nbSY/zWZo/tpSX+bnN9O0i2SHpd0K7Bd2deOTeYpnyPpl8mcLOvmxL5Q0kPAJyQdmsz7/SdgctnXbyvp2mT+7L9IOio53l/StHUxJf3Z8ydbnvWaJxitMPpExGhJx1N6Yu0Y4IvAGxFxoKQDKT0FiKSBwBTgmIh4XdI3gfOAi5Oy3oqIDyXXPg58JSIekHRZWbzJABFxgKT3UZrtbx/gS8CLScz9gbmY5Zhb1pa1dRNfPQoMS14fCdwIEBGPA48nxw8H9gP+mDzafxawZ1lZtwJI2hnYJSIeSI7/vOyaD63bj4gngeeAfZLjtyTH55XFNMslt6wtDS1s2BAoX95Fl65OAAABC0lEQVTq7eTfVjb8/G1q3gNRmsP7tA7ivF52XUfzJqibx81yyS1rS8MKYI9kcvxtgBO6uP5B4HRYv2TVgcnxh4EjJO2dnOufdGFsIJk+9mVJH0oOnd5B2fsA7waeAh4CTk6O7wcc0N1v0ixLTtZWdcl8zhdTWkHnLrqe1vUqYIek3/l84JGknBeATwM3J+ceBt7XQRmfAa5MbjC+WXb8x0CtpL9S6jb5dES8nRzfPSn3m5S6QV7u5rdqlhnPumdbpWS4X9+IeEvSXpQWgd0nItb2cNXMNsl91ra16g/cl6z6I+CLTtSWZ25Zm5kVgPuszcwKwMnazKwAnKzNzArAydrMrACcrM3MCuD/APyUp5O4PTr6AAAAAElFTkSuQmCC\n",
      "text/plain": [
       "<Figure size 432x288 with 2 Axes>"
      ]
     },
     "metadata": {
      "needs_background": "light"
     },
     "output_type": "display_data"
    }
   ],
   "source": [
    "# What about round 5?\n",
    "round5 = data.query('Round == 5')\n",
    "\n",
    "favorites = list(set(round5['favorite']))\n",
    "favs = []\n",
    "underdogs = []\n",
    "\n",
    "for fav in favorites:\n",
    "    dogs = list(set(round5[round5['favorite'] == fav]['underdog']))\n",
    "    favs.extend(repeat(fav, len(dogs)))\n",
    "    underdogs.extend(dogs)\n",
    "\n",
    "\n",
    "\n",
    "upset_rate = []\n",
    "occurences = []\n",
    "for i in range(0, len(favs)):\n",
    "    \n",
    "    matchups = round5[(round5.favorite == favs[i]) & (round5.underdog == underdogs[i])].shape[0]\n",
    "    upsets = round5[(round5.favorite == favs[i]) & (round5.underdog == underdogs[i])][['upset']].agg('sum')\n",
    "    upset_rate.append(float(upsets/matchups))\n",
    "    occurences.append(float(matchups))\n",
    "\n",
    "\n",
    "    \n",
    "round5_upsets = pd.DataFrame(\n",
    "    {'favorite': favs,\n",
    "     'underdog': underdogs,\n",
    "     'upset_rate': upset_rate,\n",
    "     'occurences': occurences\n",
    "    })\n",
    "\n",
    "heat = round5_upsets.pivot(\"favorite\", \"underdog\", \"upset_rate\")\n",
    "ax = sn.heatmap(heat, annot=True,)"
   ]
  },
  {
   "cell_type": "code",
   "execution_count": 24,
   "metadata": {},
   "outputs": [
    {
     "data": {
      "image/png": "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\n",
      "text/plain": [
       "<Figure size 432x288 with 2 Axes>"
      ]
     },
     "metadata": {
      "needs_background": "light"
     },
     "output_type": "display_data"
    }
   ],
   "source": [
    "heat = round5_upsets.pivot(\"favorite\", \"underdog\", \"occurences\")\n",
    "ax = sn.heatmap(heat, annot=True, cbar_kws={'label': 'Matchup Frequency'})"
   ]
  },
  {
   "cell_type": "markdown",
   "metadata": {},
   "source": [
    "Picking the two finals team, if nothing else, can get one _very_ far in this tournament. Find out how many people predicted this year's championship game [here](https://www.ncaa.com/news/basketball-men/article/2019-04-08/only-03-percent-people-picked-championship-game-heres-who).\n",
    "Hint: it's not a lot. Understanding how upsets tend to play out in the final four can help you decide which teams make it \n",
    "out of the final four and into the final round of the Big Dance."
   ]
  },
  {
   "cell_type": "code",
   "execution_count": null,
   "metadata": {},
   "outputs": [
    {
     "data": {
      "text/plain": [
       "Text(0.5, 1.0, 'Historical Distribution of Final Four Seeds')"
      ]
     },
     "execution_count": 25,
     "metadata": {},
     "output_type": "execute_result"
    }
   ],
   "source": [
    "final_four_dist = {}\n",
    "years = list(set(round5['Year']))\n",
    "\n",
    "# obtain a dictionary keyed on year with a list of the four seeds that appeared in the final four that year\n",
    "for year in years:\n",
    "    final_four_dist[year] = list(round5[round5['Year'] == year]['seed_1'])+list(round5[round5['Year'] == year]['seed_2'])\n",
    "\n",
    "# get an average appearance by seeds that have been in the final four over the past 16 years\n",
    "\n",
    "# get a list of unique seeds\n",
    "seed1s = list(round5['seed_1'])\n",
    "seed2s = list(round5['seed_2'])\n",
    "all_seeds = seed1s + seed2s\n",
    "\n",
    "seed_frequency = dict(Counter(all_seeds))\n",
    "\n",
    "for key, value in seed_frequency.items():\n",
    "    seed_frequency[key] = seed_frequency[key]/16\n",
    "\n",
    "# verify that the expected number of teams equals 4\n",
    "sum(seed_frequency.values())\n",
    "\n",
    "plt.barh(list(seed_frequency.keys()), list(seed_frequency.values()))\n",
    "plt.title('Historical Distribution of Final Four Seeds')"
   ]
  },
  {
   "cell_type": "code",
   "execution_count": 511,
   "metadata": {},
   "outputs": [
    {
     "data": {
      "text/html": [
       "<div>\n",
       "<style scoped>\n",
       "    .dataframe tbody tr th:only-of-type {\n",
       "        vertical-align: middle;\n",
       "    }\n",
       "\n",
       "    .dataframe tbody tr th {\n",
       "        vertical-align: top;\n",
       "    }\n",
       "\n",
       "    .dataframe thead th {\n",
       "        text-align: right;\n",
       "    }\n",
       "</style>\n",
       "<table border=\"1\" class=\"dataframe\">\n",
       "  <thead>\n",
       "    <tr style=\"text-align: right;\">\n",
       "      <th></th>\n",
       "      <th>historical_expectation</th>\n",
       "      <th>sample_expectation</th>\n",
       "    </tr>\n",
       "  </thead>\n",
       "  <tbody>\n",
       "    <tr>\n",
       "      <th>1</th>\n",
       "      <td>1.5000</td>\n",
       "      <td>1.00</td>\n",
       "    </tr>\n",
       "    <tr>\n",
       "      <th>2</th>\n",
       "      <td>0.8125</td>\n",
       "      <td>1.30</td>\n",
       "    </tr>\n",
       "    <tr>\n",
       "      <th>3</th>\n",
       "      <td>0.5000</td>\n",
       "      <td>0.50</td>\n",
       "    </tr>\n",
       "    <tr>\n",
       "      <th>4</th>\n",
       "      <td>0.3750</td>\n",
       "      <td>0.40</td>\n",
       "    </tr>\n",
       "    <tr>\n",
       "      <th>5</th>\n",
       "      <td>0.1875</td>\n",
       "      <td>0.05</td>\n",
       "    </tr>\n",
       "    <tr>\n",
       "      <th>7</th>\n",
       "      <td>0.1875</td>\n",
       "      <td>0.20</td>\n",
       "    </tr>\n",
       "    <tr>\n",
       "      <th>8</th>\n",
       "      <td>0.1250</td>\n",
       "      <td>0.15</td>\n",
       "    </tr>\n",
       "    <tr>\n",
       "      <th>9</th>\n",
       "      <td>0.0625</td>\n",
       "      <td>0.10</td>\n",
       "    </tr>\n",
       "    <tr>\n",
       "      <th>10</th>\n",
       "      <td>0.0625</td>\n",
       "      <td>NaN</td>\n",
       "    </tr>\n",
       "    <tr>\n",
       "      <th>11</th>\n",
       "      <td>0.1875</td>\n",
       "      <td>0.10</td>\n",
       "    </tr>\n",
       "  </tbody>\n",
       "</table>\n",
       "</div>"
      ],
      "text/plain": [
       "    historical_expectation  sample_expectation\n",
       "1                   1.5000                1.00\n",
       "2                   0.8125                1.30\n",
       "3                   0.5000                0.50\n",
       "4                   0.3750                0.40\n",
       "5                   0.1875                0.05\n",
       "7                   0.1875                0.20\n",
       "8                   0.1250                0.15\n",
       "9                   0.0625                0.10\n",
       "10                  0.0625                 NaN\n",
       "11                  0.1875                0.10"
      ]
     },
     "execution_count": 511,
     "metadata": {},
     "output_type": "execute_result"
    }
   ],
   "source": [
    "# dividing the total number of final four appearances by the total number of final fours (16) gives us an expectation\n",
    "# for the number of each seed in a given final four\n",
    "# interperet this as, we'd expect a 3 seed to feature in a final four every other year\n",
    "# in any two final fours there will be about 3 1-seeds\n",
    "# we'd expect a 5 seed to make the final four about once every 5 years\n",
    "# etc etc etc\n",
    "sds = list(seed_frequency.keys())\n",
    "frqs = list(seed_frequency.values())\n",
    "\n",
    "\n",
    "\n",
    "sample_seeds = []\n",
    "samples = 20\n",
    "for i in range(1,samples):\n",
    "    sample_seeds.extend(random.sample(all_seeds, 4))\n",
    "    \n",
    "sample_seeds = dict(Counter(sample_seeds))\n",
    "\n",
    "for key, value in sample_seeds.items():\n",
    "    sample_seeds[key] = sample_seeds[key]/samples\n",
    "\n",
    "# the sum of the frequencies should equal 4\n",
    "sample_seeds\n",
    "\n",
    "hist_samp = pd.DataFrame([seed_frequency,sample_seeds]).T\n",
    "hist_samp.rename(columns = {0: \"historical_expectation\", \n",
    "                                  1:\"sample_expectation\" \n",
    "                                  })"
   ]
  },
  {
   "cell_type": "markdown",
   "metadata": {},
   "source": [
    "This was a surprising distribution. I hadn't realized how highly skewed the final four is to 1, 2 and 3 seeds. If your \n",
    "bracket does nothing but predict the final four correctly you could find yourself a [champion of your office pool](https://www.ncaa.com/news/basketball-men/article/2019-04-01/only-02-percent-people-correctly-predicted-2019-final-four). \n",
    "Understanding how seeds tend to be distributed in this round can help you eliminate teams from the selection process. \n",
    "My takeaway from this graph is to have no more than 2 1 seeds in the final four. Choose a 2 seed or a 3 seed you feel \n",
    "confident in. For your last final four candidate, go with your gut or create your own signals for predicting likelihood\n",
    "of advancement. This year fans were _shocked_ when Auburn made it to the final four (apparently only [3.9% of brackets forsaw that one](https://watchstadium.com/news/auburn-texas-tech-purdue-among-best-2019-ncaa-tournament-bracket-picks-03-31-2019/)) but really, 1 in 5 final fours\n",
    "Spoiler alert: mine was one of them. But given this data, final fours feature a five seed about once every five years. \n",
    "I would recommend picking your final four before you fill out any other portion of your bracket. My logic\n",
    "for building my 2019 bracket went as follows: First you need to rank order the 4 one seeds from best to worst. There are\n",
    "so many methods for doing this but honestly this is where the beauty of bracketology comes into play. I'd recommend watching\n",
    "some highlight videos to get to know the teams. Read up on the coaches, players, the school history. Go with your gut.\n",
    "At the end of the day, you want to be happy when your team goes all the way. As a wise old owl once said, go with your heart,\n",
    "not your head. Anyways, I chose Gonzaga and Virgina, mostly because I hate wanted Duke to lose and UNC looked weak to me\n",
    "on film. Again, mostly a judgement call softly influenced by data. Next, since I'd already decided that Duke and UNC would\n",
    "lose, I had to pin down which lucky team would beat them. For Duke, I chose MSU since no other team in the East seemed\n",
    "good enough to take down Zion, and MSU looked filthy on film. For UNC, advanced them to the sweet sixteen (given\n",
    "what we learned from our Round 1 & 2 analysis). Round 3's analysis showed that a 1 seed has lost to a 5 seed exactly 3\n",
    "times over the past 16 years, or in 15% of 1 v 5 matchups. After watching some film of Auburn and UNC, I decided that the\n",
    "Tigers had what it took to overtake the Tar Heels. Definitely went out on a limb, but that's how I built my final four\n",
    "with 3 out of the 4 final four teams. In another post we can discuss things to look for that convinced me Auburn could\n",
    "make it, but hey, this all could have just been dumb luck anyway. "
   ]
  },
  {
   "cell_type": "code",
   "execution_count": 322,
   "metadata": {},
   "outputs": [
    {
     "data": {
      "image/png": "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\n",
      "text/plain": [
       "<Figure size 432x288 with 2 Axes>"
      ]
     },
     "metadata": {
      "needs_background": "light"
     },
     "output_type": "display_data"
    }
   ],
   "source": [
    "# What about round 6?\n",
    "round6 = data.query('Round == 6')\n",
    "\n",
    "favorites = list(set(round6['favorite']))\n",
    "favs = []\n",
    "underdogs = []\n",
    "\n",
    "for fav in favorites:\n",
    "    dogs = list(set(round6[round6['favorite'] == fav]['underdog']))\n",
    "    favs.extend(repeat(fav, len(dogs)))\n",
    "    underdogs.extend(dogs)\n",
    "\n",
    "\n",
    "\n",
    "upset_rate = []\n",
    "occurences = []\n",
    "for i in range(0, len(favs)):\n",
    "    \n",
    "    matchups = round6[(round6.favorite == favs[i]) & (round6.underdog == underdogs[i])].shape[0]\n",
    "    upsets = round6[(round6.favorite == favs[i]) & (round6.underdog == underdogs[i])][['upset']].agg('sum')\n",
    "    upset_rate.append(float(upsets/matchups))\n",
    "    occurences.append(float(matchups))\n",
    "\n",
    "\n",
    "    \n",
    "round6_upsets = pd.DataFrame(\n",
    "    {'favorite': favs,\n",
    "     'underdog': underdogs,\n",
    "     'upset_rate': upset_rate,\n",
    "     'occurences': occurences\n",
    "    })\n",
    "\n",
    "heat = round6_upsets.pivot(\"favorite\", \"underdog\", \"upset_rate\")\n",
    "ax = sn.heatmap(heat, annot=True,)"
   ]
  },
  {
   "cell_type": "code",
   "execution_count": 474,
   "metadata": {},
   "outputs": [
    {
     "data": {
      "image/png": "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\n",
      "text/plain": [
       "<Figure size 432x288 with 2 Axes>"
      ]
     },
     "metadata": {
      "needs_background": "light"
     },
     "output_type": "display_data"
    }
   ],
   "source": [
    "heat = round6_upsets.pivot(\"favorite\", \"underdog\", \"occurences\")\n",
    "ax = sn.heatmap(heat, annot=True, cbar_kws={'label': 'Matchup Frequency'})"
   ]
  },
  {
   "cell_type": "code",
   "execution_count": 561,
   "metadata": {},
   "outputs": [
    {
     "data": {
      "text/plain": [
       "<BarContainer object of 7 artists>"
      ]
     },
     "execution_count": 561,
     "metadata": {},
     "output_type": "execute_result"
    },
    {
     "data": {
      "image/png": "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\n",
      "text/plain": [
       "<Figure size 432x288 with 1 Axes>"
      ]
     },
     "metadata": {
      "needs_background": "light"
     },
     "output_type": "display_data"
    }
   ],
   "source": [
    "finals_dist = {}\n",
    "years = list(set(round6['Year']))\n",
    "\n",
    "# obtain a dictionary keyed on year with a list of the four seeds that appeared in the final four that year\n",
    "for year in years:\n",
    "    finals_dist[year] = list(round6[round6['Year'] == year]['seed_1'])\n",
    "\n",
    "# get an average appearance by seeds that have been in the final four over the past 16 years\n",
    "\n",
    "# get a list of unique seeds\n",
    "seed1s = list(round6['seed_1'])\n",
    "seed2s = list(round6['seed_2'])\n",
    "all_seeds = seed1s + seed2s\n",
    "\n",
    "seed_frequency = dict(Counter(all_seeds))\n",
    "\n",
    "for key, value in seed_frequency.items():\n",
    "    seed_frequency[key] = seed_frequency[key]/16\n",
    "\n",
    "# verify that the expected number of teams equals 4\n",
    "sum(seed_frequency.values())\n",
    "\n",
    "plt.barh(list(seed_frequency.keys()), list(seed_frequency.values()))"
   ]
  },
  {
   "cell_type": "code",

   "execution_count": 585,
   "metadata": {},
   "outputs": [
    {
     "data": {
      "image/png": "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\n",

   "execution_count": 584,
   "metadata": {},
   "outputs": [
    {
     "data": {
      "text/html": [
       "<div>\n",
       "<style scoped>\n",
       "    .dataframe tbody tr th:only-of-type {\n",
       "        vertical-align: middle;\n",
       "    }\n",
       "\n",
       "    .dataframe tbody tr th {\n",
       "        vertical-align: top;\n",
       "    }\n",
       "\n",
       "    .dataframe thead th {\n",
       "        text-align: right;\n",
       "    }\n",
       "</style>\n",
       "<table border=\"1\" class=\"dataframe\">\n",
       "  <thead>\n",
       "    <tr style=\"text-align: right;\">\n",
       "      <th></th>\n",
       "      <th>distribution</th>\n",
       "      <th>type</th>\n",
       "    </tr>\n",
       "  </thead>\n",
       "  <tbody>\n",
       "    <tr>\n",
       "      <th>0</th>\n",
       "      <td>1.8000</td>\n",
       "      <td>sample</td>\n",
       "    </tr>\n",
       "    <tr>\n",
       "      <th>1</th>\n",
       "      <td>0.5000</td>\n",
       "      <td>sample</td>\n",
       "    </tr>\n",
       "    <tr>\n",
       "      <th>2</th>\n",
       "      <td>0.7000</td>\n",
       "      <td>sample</td>\n",
       "    </tr>\n",
       "    <tr>\n",
       "      <th>3</th>\n",
       "      <td>NaN</td>\n",
       "      <td>sample</td>\n",
       "    </tr>\n",
       "    <tr>\n",
       "      <th>4</th>\n",
       "      <td>0.2000</td>\n",
       "      <td>sample</td>\n",
       "    </tr>\n",
       "    <tr>\n",
       "      <th>5</th>\n",
       "      <td>0.1000</td>\n",
       "      <td>sample</td>\n",
       "    </tr>\n",
       "    <tr>\n",
       "      <th>6</th>\n",
       "      <td>0.3000</td>\n",
       "      <td>sample</td>\n",
       "    </tr>\n",
       "    <tr>\n",
       "      <th>0</th>\n",
       "      <td>1.0000</td>\n",
       "      <td>expected</td>\n",
       "    </tr>\n",
       "    <tr>\n",
       "      <th>1</th>\n",
       "      <td>0.3750</td>\n",
       "      <td>expected</td>\n",
       "    </tr>\n",
       "    <tr>\n",
       "      <th>2</th>\n",
       "      <td>0.3125</td>\n",
       "      <td>expected</td>\n",
       "    </tr>\n",
       "    <tr>\n",
       "      <th>3</th>\n",
       "      <td>0.0625</td>\n",
       "      <td>expected</td>\n",
       "    </tr>\n",
       "    <tr>\n",
       "      <th>4</th>\n",
       "      <td>0.0625</td>\n",
       "      <td>expected</td>\n",
       "    </tr>\n",
       "    <tr>\n",
       "      <th>5</th>\n",
       "      <td>0.0625</td>\n",
       "      <td>expected</td>\n",
       "    </tr>\n",
       "    <tr>\n",
       "      <th>6</th>\n",
       "      <td>0.1250</td>\n",
       "      <td>expected</td>\n",
       "    </tr>\n",
       "  </tbody>\n",
       "</table>\n",
       "</div>"
      ],
      "text/plain": [
       "   distribution      type\n",
       "0        1.8000    sample\n",
       "1        0.5000    sample\n",
       "2        0.7000    sample\n",
       "3           NaN    sample\n",
       "4        0.2000    sample\n",
       "5        0.1000    sample\n",
       "6        0.3000    sample\n",
       "0        1.0000  expected\n",
       "1        0.3750  expected\n",
       "2        0.3125  expected\n",
       "3        0.0625  expected\n",
       "4        0.0625  expected\n",
       "5        0.0625  expected\n",
       "6        0.1250  expected"
      ]
     },
     "execution_count": 584,
     "metadata": {},
     "output_type": "execute_result"
    },
    {
     "data": {
      "image/png": "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\n",

      "text/plain": [
       "<Figure size 298.25x216 with 1 Axes>"
      ]
     },
     "metadata": {
      "needs_background": "light"
     },
     "output_type": "display_data"
    }
   ],
   "source": [
    "# dividing the total number of final four appearances by the total number of final fours (16) gives us an expectation\n",
    "# for the number of each seed in a given final four\n",
    "# interperet this as, we'd expect a 3 seed to feature in a final four every other year\n",
    "# in any two final fours there will be about 3 1-seeds\n",
    "# we'd expect a 5 seed to make the final four about once every 5 years\n",
    "# etc etc etc\n",
    "sds = list(seed_frequency.keys())\n",
    "frqs = list(seed_frequency.values())\n",
    "\n",
    "\n",
    "\n",
    "sample_seeds = []\n",
    "samples = 10\n",
    "for i in range(1,samples):\n",
    "    sample_seeds.extend(random.sample(all_seeds, 4))\n",
    "    \n",
    "sample_seeds = dict(Counter(sample_seeds))\n",
    "\n",
    "for key, value in sample_seeds.items():\n",
    "    sample_seeds[key] = sample_seeds[key]/samples\n",
    "\n",
    "# the sum of the frequencies should equal 4\n",
    "sample_seeds\n",
    "\n",
    "\n",
    "\n",
    "hist_samp = pd.DataFrame([seed_frequency,sample_seeds]).T\n",
    "hist_samp = hist_samp.rename(columns = {0: \"expectation_historical\", \n",
    "                                  1:\"expectation_sample\" \n",
    "                                  })\n",
    "expected = list(hist_samp['expectation_historical'])\n",
    "sample = list(hist_samp['expectation_sample'])\n",
    "\n",
    "sample = pd.DataFrame(sample)\n",
    "sample['type'] = 'sample'\n",
    "exp = pd.DataFrame(expected)\n",
    "exp['type'] = 'expected'\n",
    "\n",
    "wide =  pd.concat([sample, exp], axis=0, sort=False)\n",
    "wide = wide.rename(columns = {0: 'distribution'})\n",
    "\n",
    "# l = pd.wide_to_long(hist_samp, stubnames='expectation', i=['famid', 'birth'], j='age')\n",
    "\n",
    "g = sn.FacetGrid(wide, hue=\"type\", palette=\"Set1\")\n",
    "g = (g.map(sn.distplot, \"distribution\", hist=False, rug=True).add_legend())"
   ]
  },
  {
   "cell_type": "markdown",
   "metadata": {},
   "source": [
    "So what do we know so far? Well in this preliminary EDA we've shown that the most recent trend in the march madness tournament\n",
    "shows an interesting trend where elite eight upsets are statistically more probable than in any other round of the tournament.\n",
    "I'm going to hard code in the upset rates for this year's tournament to see how the historical trend matched up this year"
   ]
  },
  {
   "cell_type": "code",
   "execution_count": 57,
   "metadata": {},
   "outputs": [
    {
     "data": {
      "text/html": [
       "<div>\n",
       "<style scoped>\n",
       "    .dataframe tbody tr th:only-of-type {\n",
       "        vertical-align: middle;\n",
       "    }\n",
       "\n",
       "    .dataframe tbody tr th {\n",
       "        vertical-align: top;\n",
       "    }\n",
       "\n",
       "    .dataframe thead th {\n",
       "        text-align: right;\n",
       "    }\n",
       "</style>\n",
       "<table border=\"1\" class=\"dataframe\">\n",
       "  <thead>\n",
       "    <tr style=\"text-align: right;\">\n",
       "      <th></th>\n",
       "      <th>rounds</th>\n",
       "      <th>upset_candidates</th>\n",
       "      <th>actual_upsets</th>\n",
       "      <th>historical_upset_pct</th>\n",
       "      <th>upset_pct</th>\n",
       "      <th>expected_upsets</th>\n",
       "    </tr>\n",
       "    <tr>\n",
       "      <th>Round</th>\n",
       "      <th></th>\n",
       "      <th></th>\n",
       "      <th></th>\n",
       "      <th></th>\n",
       "      <th></th>\n",
       "      <th></th>\n",
       "    </tr>\n",
       "  </thead>\n",
       "  <tbody>\n",
       "    <tr>\n",
       "      <th>1</th>\n",
       "      <td>1</td>\n",
       "      <td>32</td>\n",
       "      <td>12</td>\n",
       "      <td>0.253906</td>\n",
       "      <td>0.3750</td>\n",
       "      <td>8.125000</td>\n",
       "    </tr>\n",
       "    <tr>\n",
       "      <th>2</th>\n",
       "      <td>2</td>\n",
       "      <td>16</td>\n",
       "      <td>1</td>\n",
       "      <td>0.289062</td>\n",
       "      <td>0.0625</td>\n",
       "      <td>4.625000</td>\n",
       "    </tr>\n",
       "    <tr>\n",
       "      <th>3</th>\n",
       "      <td>3</td>\n",
       "      <td>8</td>\n",
       "      <td>3</td>\n",
       "      <td>0.289062</td>\n",
       "      <td>0.3750</td>\n",
       "      <td>2.312500</td>\n",
       "    </tr>\n",
       "    <tr>\n",
       "      <th>4</th>\n",
       "      <td>4</td>\n",
       "      <td>4</td>\n",
       "      <td>3</td>\n",
       "      <td>0.515625</td>\n",
       "      <td>0.7500</td>\n",
       "      <td>2.062500</td>\n",
       "    </tr>\n",
       "    <tr>\n",
       "      <th>5</th>\n",
       "      <td>5</td>\n",
       "      <td>2</td>\n",
       "      <td>1</td>\n",
       "      <td>0.250000</td>\n",
       "      <td>0.5000</td>\n",
       "      <td>0.500000</td>\n",
       "    </tr>\n",
       "    <tr>\n",
       "      <th>6</th>\n",
       "      <td>6</td>\n",
       "      <td>1</td>\n",
       "      <td>0</td>\n",
       "      <td>0.272727</td>\n",
       "      <td>0.0000</td>\n",
       "      <td>0.272727</td>\n",
       "    </tr>\n",
       "  </tbody>\n",
       "</table>\n",
       "</div>"
      ],
      "text/plain": [
       "       rounds  upset_candidates  actual_upsets  historical_upset_pct  \\\n",
       "Round                                                                  \n",
       "1           1                32             12              0.253906   \n",
       "2           2                16              1              0.289062   \n",
       "3           3                 8              3              0.289062   \n",
       "4           4                 4              3              0.515625   \n",
       "5           5                 2              1              0.250000   \n",
       "6           6                 1              0              0.272727   \n",
       "\n",
       "       upset_pct  expected_upsets  \n",
       "Round                              \n",
       "1         0.3750         8.125000  \n",
       "2         0.0625         4.625000  \n",
       "3         0.3750         2.312500  \n",
       "4         0.7500         2.062500  \n",
       "5         0.5000         0.500000  \n",
       "6         0.0000         0.272727  "
      ]
     },
     "execution_count": 57,
     "metadata": {},
     "output_type": "execute_result"
    }
   ],
   "source": [
    "# 2019 data manually loaded\n",
    "rounds = [1,2,3,4,5,6]\n",
    "upset_candidates = [32, 16, 8, 4, 2, 1]\n",
    "actual_upsets = [12, 1, 3, 3, 1, 0]\n",
    "bracket_2019 = pd.DataFrame(\n",
    "    {'rounds': rounds,\n",
    "     'upset_candidates': upset_candidates,\n",
    "     'actual_upsets': actual_upsets,\n",
    "     'historical_upset_pct': upset_pct['upset_pct']\n",
    "    })\n",
    "bracket_2019['upset_pct'] = bracket_2019['actual_upsets']/bracket_2019['upset_candidates']\n",
    "bracket_2019['expected_upsets'] = bracket_2019['upset_candidates']*bracket_2019['historical_upset_pct']\n",
    "bracket_2019"
   ]
  },
  {
   "cell_type": "markdown",
   "metadata": {},
   "source": [
    "The upset percentages this year don't exactly line up with the historical trend we observed since 2003. Namely, the round of 32\n",
    "displayed far fewer upsets than we've seen historically and the round of 64 saw about a 50% increase in the number of average \n",
    "upsets. Interestingly, the _expectated_ number of upsets for the tournament, given the historical distribution, is 18 and we \n",
    "actually observed 20 upsets. Let's look at the historical upset counts for each round of the tournament to get a sense of the\n",
    "confidence intervals around these historical means."
   ]
  }
 ],
 "metadata": {
  "kernelspec": {
   "display_name": "Python 3",
   "language": "python",
   "name": "python3"
  },
  "language_info": {
   "codemirror_mode": {
    "name": "ipython",
    "version": 3
   },
   "file_extension": ".py",
   "mimetype": "text/x-python",
   "name": "python",
   "nbconvert_exporter": "python",
   "pygments_lexer": "ipython3",
   "version": "3.6.8"
  }
 },
 "nbformat": 4,
 "nbformat_minor": 2
}
